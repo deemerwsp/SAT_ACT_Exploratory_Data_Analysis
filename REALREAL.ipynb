{
 "cells": [
  {
   "cell_type": "markdown",
   "id": "eada46f8",
   "metadata": {},
   "source": [
    "<img src=\"http://imgur.com/1ZcRyrc.png\" style=\"float: left; margin: 20px; height: 55px\">\n",
    "\n",
    "# Project 1: Standardized Test Analysis"
   ]
  },
  {
   "cell_type": "markdown",
   "id": "be6d4041",
   "metadata": {},
   "source": [
    "![](assets/ron.png)"
   ]
  },
  {
   "cell_type": "markdown",
   "id": "41260b59",
   "metadata": {},
   "source": [
    "# Problem Statement"
   ]
  },
  {
   "cell_type": "markdown",
   "id": "97b676c7",
   "metadata": {},
   "source": [
    "The mayor has asked us to analyze data collected on SAT and ACT standardized tests and see how we can improved. Which standardized test gives students a better chance of being accepted to colleges. "
   ]
  },
  {
   "cell_type": "markdown",
   "id": "4670d06d",
   "metadata": {},
   "source": [
    "# Data Import and Cleaning"
   ]
  },
  {
   "cell_type": "markdown",
   "id": "b2ae4239",
   "metadata": {},
   "source": [
    "### Import"
   ]
  },
  {
   "cell_type": "code",
   "execution_count": 1,
   "id": "e0acc875",
   "metadata": {},
   "outputs": [],
   "source": [
    "import pandas as pd\n",
    "import numpy as np\n",
    "import matplotlib.pyplot as plt\n",
    "import seaborn as sns"
   ]
  },
  {
   "cell_type": "code",
   "execution_count": 2,
   "id": "771cdc5e",
   "metadata": {},
   "outputs": [],
   "source": [
    "act_17_full = pd.read_csv('data/act_2017.csv')\n",
    "act_18 = pd.read_csv('data/act_2018.csv')\n",
    "act_19 = pd.read_csv('data/act_2019.csv')\n",
    "\n",
    "sat_17 = pd.read_csv('data/sat_2017.csv')\n",
    "sat_18 = pd.read_csv('data/sat_2018.csv')\n",
    "sat_19 = pd.read_csv('data/sat_2019.csv')\n",
    "\n",
    "act_19_ca_districs = pd.read_csv('data/act_2019_ca.csv')\n",
    "act_19_ca_full = pd.read_csv('data/act_2019_ca.csv')\n",
    "sat_19_ca_full = pd.read_csv('data/sat_2019_ca.csv')\n",
    "\n",
    "sat_act_coll = pd.read_csv('data/sat_act_by_college.csv')"
   ]
  },
  {
   "cell_type": "code",
   "execution_count": 3,
   "id": "d3ce1a93",
   "metadata": {},
   "outputs": [
    {
     "data": {
      "text/html": [
       "<div>\n",
       "<style scoped>\n",
       "    .dataframe tbody tr th:only-of-type {\n",
       "        vertical-align: middle;\n",
       "    }\n",
       "\n",
       "    .dataframe tbody tr th {\n",
       "        vertical-align: top;\n",
       "    }\n",
       "\n",
       "    .dataframe thead th {\n",
       "        text-align: right;\n",
       "    }\n",
       "</style>\n",
       "<table border=\"1\" class=\"dataframe\">\n",
       "  <thead>\n",
       "    <tr style=\"text-align: right;\">\n",
       "      <th></th>\n",
       "      <th>State</th>\n",
       "      <th>Participation</th>\n",
       "      <th>English</th>\n",
       "      <th>Math</th>\n",
       "      <th>Reading</th>\n",
       "      <th>Science</th>\n",
       "      <th>Composite</th>\n",
       "    </tr>\n",
       "  </thead>\n",
       "  <tbody>\n",
       "    <tr>\n",
       "      <th>0</th>\n",
       "      <td>National</td>\n",
       "      <td>60%</td>\n",
       "      <td>20.3</td>\n",
       "      <td>20.7</td>\n",
       "      <td>21.4</td>\n",
       "      <td>21.0</td>\n",
       "      <td>21.0</td>\n",
       "    </tr>\n",
       "    <tr>\n",
       "      <th>1</th>\n",
       "      <td>Alabama</td>\n",
       "      <td>100%</td>\n",
       "      <td>18.9</td>\n",
       "      <td>18.4</td>\n",
       "      <td>19.7</td>\n",
       "      <td>19.4</td>\n",
       "      <td>19.2</td>\n",
       "    </tr>\n",
       "    <tr>\n",
       "      <th>2</th>\n",
       "      <td>Alaska</td>\n",
       "      <td>65%</td>\n",
       "      <td>18.7</td>\n",
       "      <td>19.8</td>\n",
       "      <td>20.4</td>\n",
       "      <td>19.9</td>\n",
       "      <td>19.8</td>\n",
       "    </tr>\n",
       "    <tr>\n",
       "      <th>3</th>\n",
       "      <td>Arizona</td>\n",
       "      <td>62%</td>\n",
       "      <td>18.6</td>\n",
       "      <td>19.8</td>\n",
       "      <td>20.1</td>\n",
       "      <td>19.8</td>\n",
       "      <td>19.7</td>\n",
       "    </tr>\n",
       "    <tr>\n",
       "      <th>4</th>\n",
       "      <td>Arkansas</td>\n",
       "      <td>100%</td>\n",
       "      <td>18.9</td>\n",
       "      <td>19.0</td>\n",
       "      <td>19.7</td>\n",
       "      <td>19.5</td>\n",
       "      <td>19.4</td>\n",
       "    </tr>\n",
       "  </tbody>\n",
       "</table>\n",
       "</div>"
      ],
      "text/plain": [
       "      State Participation  English  Math  Reading  Science Composite\n",
       "0  National           60%     20.3  20.7     21.4     21.0      21.0\n",
       "1   Alabama          100%     18.9  18.4     19.7     19.4      19.2\n",
       "2    Alaska           65%     18.7  19.8     20.4     19.9      19.8\n",
       "3   Arizona           62%     18.6  19.8     20.1     19.8      19.7\n",
       "4  Arkansas          100%     18.9  19.0     19.7     19.5      19.4"
      ]
     },
     "execution_count": 3,
     "metadata": {},
     "output_type": "execute_result"
    }
   ],
   "source": [
    "act_17_full.head()"
   ]
  },
  {
   "cell_type": "markdown",
   "id": "80e5069b",
   "metadata": {},
   "source": [
    "---"
   ]
  },
  {
   "cell_type": "markdown",
   "id": "6df5d504",
   "metadata": {},
   "source": [
    "### Data Cleaning"
   ]
  },
  {
   "cell_type": "code",
   "execution_count": 4,
   "id": "c47d2ea8",
   "metadata": {},
   "outputs": [],
   "source": [
    "# Functions for cleaning data\n",
    "\n",
    "def string_to_float(num):\n",
    "    try:\n",
    "        return float(num)\n",
    "    except:\n",
    "        return np.nan\n",
    "\n",
    "\n",
    "def string_to_int(num):\n",
    "    try:\n",
    "        return int(num)\n",
    "    except:\n",
    "        return np.nan\n",
    "    \n",
    "def float_perc(num):\n",
    "    try:\n",
    "        return float(num[:-1])/100\n",
    "    except:\n",
    "        return num\n",
    "    \n",
    "def float_perc_b(num):\n",
    "    try:\n",
    "        return (num/100)\n",
    "    except:\n",
    "        return num\n",
    "    \n",
    "    \n",
    "def calc_mean(lst):\n",
    "    total = 0\n",
    "    count = 0\n",
    "    for num in lst:\n",
    "        total += num\n",
    "        count += 1\n",
    "    mean = total / count\n",
    "    return (mean)\n",
    "\n",
    "def std_dev(lst):\n",
    "    mean = calc_mean(lst)\n",
    "    total_dev = 0\n",
    "    for num in lst:\n",
    "        total_dev += ((num - mean)**2)\n",
    "    std_dev = round((total_dev / len(lst))**(1/2), 3)\n",
    "    return std_dev"
   ]
  },
  {
   "cell_type": "markdown",
   "id": "ec2b2a2b",
   "metadata": {},
   "source": [
    "ACT"
   ]
  },
  {
   "cell_type": "markdown",
   "id": "49557800",
   "metadata": {},
   "source": [
    "1. [x] DataFrame Heads"
   ]
  },
  {
   "cell_type": "code",
   "execution_count": 5,
   "id": "f0c9f64a",
   "metadata": {},
   "outputs": [
    {
     "data": {
      "text/html": [
       "<div>\n",
       "<style scoped>\n",
       "    .dataframe tbody tr th:only-of-type {\n",
       "        vertical-align: middle;\n",
       "    }\n",
       "\n",
       "    .dataframe tbody tr th {\n",
       "        vertical-align: top;\n",
       "    }\n",
       "\n",
       "    .dataframe thead th {\n",
       "        text-align: right;\n",
       "    }\n",
       "</style>\n",
       "<table border=\"1\" class=\"dataframe\">\n",
       "  <thead>\n",
       "    <tr style=\"text-align: right;\">\n",
       "      <th></th>\n",
       "      <th>State</th>\n",
       "      <th>Participation</th>\n",
       "      <th>English</th>\n",
       "      <th>Math</th>\n",
       "      <th>Reading</th>\n",
       "      <th>Science</th>\n",
       "      <th>Composite</th>\n",
       "    </tr>\n",
       "  </thead>\n",
       "  <tbody>\n",
       "    <tr>\n",
       "      <th>0</th>\n",
       "      <td>National</td>\n",
       "      <td>60%</td>\n",
       "      <td>20.3</td>\n",
       "      <td>20.7</td>\n",
       "      <td>21.4</td>\n",
       "      <td>21.0</td>\n",
       "      <td>21.0</td>\n",
       "    </tr>\n",
       "    <tr>\n",
       "      <th>1</th>\n",
       "      <td>Alabama</td>\n",
       "      <td>100%</td>\n",
       "      <td>18.9</td>\n",
       "      <td>18.4</td>\n",
       "      <td>19.7</td>\n",
       "      <td>19.4</td>\n",
       "      <td>19.2</td>\n",
       "    </tr>\n",
       "    <tr>\n",
       "      <th>2</th>\n",
       "      <td>Alaska</td>\n",
       "      <td>65%</td>\n",
       "      <td>18.7</td>\n",
       "      <td>19.8</td>\n",
       "      <td>20.4</td>\n",
       "      <td>19.9</td>\n",
       "      <td>19.8</td>\n",
       "    </tr>\n",
       "    <tr>\n",
       "      <th>3</th>\n",
       "      <td>Arizona</td>\n",
       "      <td>62%</td>\n",
       "      <td>18.6</td>\n",
       "      <td>19.8</td>\n",
       "      <td>20.1</td>\n",
       "      <td>19.8</td>\n",
       "      <td>19.7</td>\n",
       "    </tr>\n",
       "    <tr>\n",
       "      <th>4</th>\n",
       "      <td>Arkansas</td>\n",
       "      <td>100%</td>\n",
       "      <td>18.9</td>\n",
       "      <td>19.0</td>\n",
       "      <td>19.7</td>\n",
       "      <td>19.5</td>\n",
       "      <td>19.4</td>\n",
       "    </tr>\n",
       "  </tbody>\n",
       "</table>\n",
       "</div>"
      ],
      "text/plain": [
       "      State Participation  English  Math  Reading  Science Composite\n",
       "0  National           60%     20.3  20.7     21.4     21.0      21.0\n",
       "1   Alabama          100%     18.9  18.4     19.7     19.4      19.2\n",
       "2    Alaska           65%     18.7  19.8     20.4     19.9      19.8\n",
       "3   Arizona           62%     18.6  19.8     20.1     19.8      19.7\n",
       "4  Arkansas          100%     18.9  19.0     19.7     19.5      19.4"
      ]
     },
     "execution_count": 5,
     "metadata": {},
     "output_type": "execute_result"
    }
   ],
   "source": [
    "act_17_full.head()"
   ]
  },
  {
   "cell_type": "code",
   "execution_count": 6,
   "id": "3cf90fe3",
   "metadata": {},
   "outputs": [
    {
     "data": {
      "text/html": [
       "<div>\n",
       "<style scoped>\n",
       "    .dataframe tbody tr th:only-of-type {\n",
       "        vertical-align: middle;\n",
       "    }\n",
       "\n",
       "    .dataframe tbody tr th {\n",
       "        vertical-align: top;\n",
       "    }\n",
       "\n",
       "    .dataframe thead th {\n",
       "        text-align: right;\n",
       "    }\n",
       "</style>\n",
       "<table border=\"1\" class=\"dataframe\">\n",
       "  <thead>\n",
       "    <tr style=\"text-align: right;\">\n",
       "      <th></th>\n",
       "      <th>State</th>\n",
       "      <th>Participation</th>\n",
       "      <th>Composite</th>\n",
       "    </tr>\n",
       "  </thead>\n",
       "  <tbody>\n",
       "    <tr>\n",
       "      <th>0</th>\n",
       "      <td>Alabama</td>\n",
       "      <td>100%</td>\n",
       "      <td>19.1</td>\n",
       "    </tr>\n",
       "    <tr>\n",
       "      <th>1</th>\n",
       "      <td>Alaska</td>\n",
       "      <td>33%</td>\n",
       "      <td>20.8</td>\n",
       "    </tr>\n",
       "    <tr>\n",
       "      <th>2</th>\n",
       "      <td>Arizona</td>\n",
       "      <td>66%</td>\n",
       "      <td>19.2</td>\n",
       "    </tr>\n",
       "    <tr>\n",
       "      <th>3</th>\n",
       "      <td>Arkansas</td>\n",
       "      <td>100%</td>\n",
       "      <td>19.4</td>\n",
       "    </tr>\n",
       "    <tr>\n",
       "      <th>4</th>\n",
       "      <td>California</td>\n",
       "      <td>27%</td>\n",
       "      <td>22.7</td>\n",
       "    </tr>\n",
       "  </tbody>\n",
       "</table>\n",
       "</div>"
      ],
      "text/plain": [
       "        State Participation  Composite\n",
       "0     Alabama          100%       19.1\n",
       "1      Alaska           33%       20.8\n",
       "2     Arizona           66%       19.2\n",
       "3    Arkansas          100%       19.4\n",
       "4  California           27%       22.7"
      ]
     },
     "execution_count": 6,
     "metadata": {},
     "output_type": "execute_result"
    }
   ],
   "source": [
    "act_18.head()"
   ]
  },
  {
   "cell_type": "code",
   "execution_count": 7,
   "id": "be2a897b",
   "metadata": {},
   "outputs": [
    {
     "data": {
      "text/html": [
       "<div>\n",
       "<style scoped>\n",
       "    .dataframe tbody tr th:only-of-type {\n",
       "        vertical-align: middle;\n",
       "    }\n",
       "\n",
       "    .dataframe tbody tr th {\n",
       "        vertical-align: top;\n",
       "    }\n",
       "\n",
       "    .dataframe thead th {\n",
       "        text-align: right;\n",
       "    }\n",
       "</style>\n",
       "<table border=\"1\" class=\"dataframe\">\n",
       "  <thead>\n",
       "    <tr style=\"text-align: right;\">\n",
       "      <th></th>\n",
       "      <th>State</th>\n",
       "      <th>Participation</th>\n",
       "      <th>Composite</th>\n",
       "    </tr>\n",
       "  </thead>\n",
       "  <tbody>\n",
       "    <tr>\n",
       "      <th>0</th>\n",
       "      <td>Alabama</td>\n",
       "      <td>100%</td>\n",
       "      <td>18.9</td>\n",
       "    </tr>\n",
       "    <tr>\n",
       "      <th>1</th>\n",
       "      <td>Alaska</td>\n",
       "      <td>38%</td>\n",
       "      <td>20.1</td>\n",
       "    </tr>\n",
       "    <tr>\n",
       "      <th>2</th>\n",
       "      <td>Arizona</td>\n",
       "      <td>73%</td>\n",
       "      <td>19.0</td>\n",
       "    </tr>\n",
       "    <tr>\n",
       "      <th>3</th>\n",
       "      <td>Arkansas</td>\n",
       "      <td>100%</td>\n",
       "      <td>19.3</td>\n",
       "    </tr>\n",
       "    <tr>\n",
       "      <th>4</th>\n",
       "      <td>California</td>\n",
       "      <td>23%</td>\n",
       "      <td>22.6</td>\n",
       "    </tr>\n",
       "  </tbody>\n",
       "</table>\n",
       "</div>"
      ],
      "text/plain": [
       "        State Participation  Composite\n",
       "0     Alabama          100%       18.9\n",
       "1      Alaska           38%       20.1\n",
       "2     Arizona           73%       19.0\n",
       "3    Arkansas          100%       19.3\n",
       "4  California           23%       22.6"
      ]
     },
     "execution_count": 7,
     "metadata": {},
     "output_type": "execute_result"
    }
   ],
   "source": [
    "act_19.head()"
   ]
  },
  {
   "cell_type": "markdown",
   "id": "5783bbd9",
   "metadata": {},
   "source": [
    "2. [x] Check for missing values\n",
    "- None"
   ]
  },
  {
   "cell_type": "code",
   "execution_count": 8,
   "id": "ed5449cf",
   "metadata": {},
   "outputs": [],
   "source": [
    "# act_17_full.isnull().sum()\n",
    "# act_18.isnull().sum()\n",
    "# act_19.isnull().sum()"
   ]
  },
  {
   "cell_type": "markdown",
   "id": "a7cbd124",
   "metadata": {},
   "source": [
    "3. [x] Check for any obvious issues with the observations (keep in mind the minimum & maximum possible values for each test/subtest)."
   ]
  },
  {
   "cell_type": "markdown",
   "id": "8c70150d",
   "metadata": {},
   "source": [
    "- [x] Correct input ```comp```"
   ]
  },
  {
   "cell_type": "code",
   "execution_count": 9,
   "id": "b71409b1",
   "metadata": {
    "scrolled": true
   },
   "outputs": [
    {
     "name": "stderr",
     "output_type": "stream",
     "text": [
      "/Users/andrewdeemer/opt/anaconda3/lib/python3.9/site-packages/pandas/core/indexing.py:1732: SettingWithCopyWarning: \n",
      "A value is trying to be set on a copy of a slice from a DataFrame\n",
      "\n",
      "See the caveats in the documentation: https://pandas.pydata.org/pandas-docs/stable/user_guide/indexing.html#returning-a-view-versus-a-copy\n",
      "  self._setitem_single_block(indexer, value, name)\n"
     ]
    }
   ],
   "source": [
    "act_17_full['Composite'].iloc[50] = '20.2'"
   ]
  },
  {
   "cell_type": "markdown",
   "id": "f4dbd632",
   "metadata": {},
   "source": [
    "- [x] Dropped ```act_18['Main']``` duplicate"
   ]
  },
  {
   "cell_type": "code",
   "execution_count": 10,
   "id": "6b8bc686",
   "metadata": {},
   "outputs": [],
   "source": [
    "act_18.drop_duplicates(inplace=True)"
   ]
  },
  {
   "cell_type": "markdown",
   "id": "e4dff154",
   "metadata": {},
   "source": [
    "- [x] Remove act_17 first row \"National\" and saving it to its own variable "
   ]
  },
  {
   "cell_type": "code",
   "execution_count": 11,
   "id": "b128088e",
   "metadata": {},
   "outputs": [],
   "source": [
    "act_17_national_full = act_17_full.iloc[0]\n",
    "act_17_full.drop(index=act_17_full.index[0], axis=0, inplace=True)"
   ]
  },
  {
   "cell_type": "markdown",
   "id": "2db69e0c",
   "metadata": {},
   "source": [
    "- [x] Creating ```act_17_national``` with 'state', 'part', 'comp' "
   ]
  },
  {
   "cell_type": "code",
   "execution_count": 12,
   "id": "1329499c",
   "metadata": {},
   "outputs": [],
   "source": [
    "act_17_national = act_17_national_full[['State', 'Participation', 'Composite']]"
   ]
  },
  {
   "cell_type": "markdown",
   "id": "078b9682",
   "metadata": {},
   "source": [
    "- [x] Creating National Avg for act_18 (17' and 19' already included National Avg)\n",
    "- [x] floating ```Participation``` before grabbing mean"
   ]
  },
  {
   "cell_type": "code",
   "execution_count": 13,
   "id": "da7bfc99",
   "metadata": {},
   "outputs": [],
   "source": [
    "act_18['Participation'] = [float_perc(num) for num in act_18['Participation']]"
   ]
  },
  {
   "cell_type": "code",
   "execution_count": 14,
   "id": "f94f2f0c",
   "metadata": {},
   "outputs": [],
   "source": [
    "act_18_national = pd.DataFrame({'State': 'National', \n",
    "                                'Participation': act_18['Participation'].mean(), \n",
    "                                'Composite': act_18['Composite'].mean()}, \n",
    "                                index=['2018'])"
   ]
  },
  {
   "cell_type": "markdown",
   "id": "7128bf83",
   "metadata": {},
   "source": [
    "- [x] Removing \"National\" from act_19 and saving it into its own variable"
   ]
  },
  {
   "cell_type": "code",
   "execution_count": 15,
   "id": "424f1feb",
   "metadata": {},
   "outputs": [],
   "source": [
    "act_19_national = act_19.iloc[-1]\n",
    "act_19.drop(index=act_19.index[-1], axis=0, inplace=True)"
   ]
  },
  {
   "cell_type": "markdown",
   "id": "33a6aa21",
   "metadata": {},
   "source": [
    "- [x] Checking to see if all states are present in 3 df's: District of Columbia mismatch corrected"
   ]
  },
  {
   "cell_type": "code",
   "execution_count": 16,
   "id": "ff1267a0",
   "metadata": {},
   "outputs": [
    {
     "name": "stdout",
     "output_type": "stream",
     "text": [
      "Error:  District of Columbia District of columbia District of Columbia\n"
     ]
    }
   ],
   "source": [
    "for state1, state2, state3 in zip(act_17_full.State, act_18.State, act_19.State):\n",
    "     if state1 != state2 or state1 != state3:\n",
    "        print('Error: ', state1, state2, state3)"
   ]
  },
  {
   "cell_type": "code",
   "execution_count": 17,
   "id": "c8100c57",
   "metadata": {},
   "outputs": [],
   "source": [
    "act_18.State.mask(act_18.State == 'District of columbia', 'District of Columbia', inplace=True)"
   ]
  },
  {
   "cell_type": "code",
   "execution_count": 18,
   "id": "b08c04a4",
   "metadata": {},
   "outputs": [],
   "source": [
    "act_18.reset_index(drop= True, inplace=True)"
   ]
  },
  {
   "cell_type": "markdown",
   "id": "947c5b0f",
   "metadata": {},
   "source": [
    "5. [x] Check Data Types and convert where necessary"
   ]
  },
  {
   "cell_type": "markdown",
   "id": "9b48bc86",
   "metadata": {},
   "source": [
    "- [x] ```act_17_full``` Float percentages"
   ]
  },
  {
   "cell_type": "code",
   "execution_count": 19,
   "id": "5daad58d",
   "metadata": {},
   "outputs": [],
   "source": [
    "act_17_full['Participation'] = [float_perc(num) for num in act_17_full['Participation']]"
   ]
  },
  {
   "cell_type": "markdown",
   "id": "e1bd0548",
   "metadata": {},
   "source": [
    "- [x] ```act_19_full``` Float percentages"
   ]
  },
  {
   "cell_type": "code",
   "execution_count": 20,
   "id": "e010623b",
   "metadata": {
    "scrolled": true
   },
   "outputs": [],
   "source": [
    "act_19['Participation'] = [float_perc(num) for num in act_19['Participation']]\n"
   ]
  },
  {
   "cell_type": "markdown",
   "id": "96b85a2c",
   "metadata": {},
   "source": [
    "- [x] ```act_17_full``` float ```Composite```"
   ]
  },
  {
   "cell_type": "code",
   "execution_count": 21,
   "id": "1f05d643",
   "metadata": {},
   "outputs": [],
   "source": [
    "act_17_full['Composite'] = [string_to_float(num) for num in act_17_full['Composite']]"
   ]
  },
  {
   "cell_type": "markdown",
   "id": "05deb2b5",
   "metadata": {},
   "source": [
    "- [x] check for any out of range numbers\n",
    "None"
   ]
  },
  {
   "cell_type": "code",
   "execution_count": 22,
   "id": "321a166f",
   "metadata": {},
   "outputs": [],
   "source": [
    "# act_17"
   ]
  },
  {
   "cell_type": "markdown",
   "id": "86d469b0",
   "metadata": {},
   "source": [
    "7. [ ] Drop unecessary rows / columns"
   ]
  },
  {
   "cell_type": "markdown",
   "id": "164c16dc",
   "metadata": {},
   "source": [
    "- [ ] DROPPING Saving new act_17 df w/out individual test scores"
   ]
  },
  {
   "cell_type": "code",
   "execution_count": 23,
   "id": "482905ce",
   "metadata": {},
   "outputs": [],
   "source": [
    "act_17 = act_17_full[['State', 'Participation', 'Composite']]"
   ]
  },
  {
   "cell_type": "markdown",
   "id": "91c1feaa",
   "metadata": {},
   "source": [
    "6. [x] Renaming columns to be unique"
   ]
  },
  {
   "cell_type": "code",
   "execution_count": 24,
   "id": "cf4a5c83",
   "metadata": {},
   "outputs": [
    {
     "name": "stderr",
     "output_type": "stream",
     "text": [
      "/Users/andrewdeemer/opt/anaconda3/lib/python3.9/site-packages/pandas/core/frame.py:5039: SettingWithCopyWarning: \n",
      "A value is trying to be set on a copy of a slice from a DataFrame\n",
      "\n",
      "See the caveats in the documentation: https://pandas.pydata.org/pandas-docs/stable/user_guide/indexing.html#returning-a-view-versus-a-copy\n",
      "  return super().rename(\n"
     ]
    }
   ],
   "source": [
    "act_17.rename(columns={'State': 'state',\n",
    "                       'Participation': 'part_17',\n",
    "                       'Composite': 'comp_17'}, inplace=True)\n",
    "act_18.rename(columns={'State': 'state',\n",
    "                       'Participation': 'part_18',\n",
    "                       'Composite': 'comp_18'}, inplace=True)\n",
    "act_19.rename(columns={'State': 'state',\n",
    "                       'Participation': 'part_19',\n",
    "                       'Composite': 'comp_19'}, inplace=True)"
   ]
  },
  {
   "cell_type": "markdown",
   "id": "e7e767d7",
   "metadata": {},
   "source": [
    "8. [x] Merging act df's to ```act_merged```"
   ]
  },
  {
   "cell_type": "code",
   "execution_count": 25,
   "id": "c0a5d7c8",
   "metadata": {},
   "outputs": [
    {
     "data": {
      "text/html": [
       "<div>\n",
       "<style scoped>\n",
       "    .dataframe tbody tr th:only-of-type {\n",
       "        vertical-align: middle;\n",
       "    }\n",
       "\n",
       "    .dataframe tbody tr th {\n",
       "        vertical-align: top;\n",
       "    }\n",
       "\n",
       "    .dataframe thead th {\n",
       "        text-align: right;\n",
       "    }\n",
       "</style>\n",
       "<table border=\"1\" class=\"dataframe\">\n",
       "  <thead>\n",
       "    <tr style=\"text-align: right;\">\n",
       "      <th></th>\n",
       "      <th>state</th>\n",
       "      <th>part_17</th>\n",
       "      <th>comp_17</th>\n",
       "      <th>part_18</th>\n",
       "      <th>comp_18</th>\n",
       "      <th>part_19</th>\n",
       "      <th>comp_19</th>\n",
       "    </tr>\n",
       "  </thead>\n",
       "  <tbody>\n",
       "    <tr>\n",
       "      <th>0</th>\n",
       "      <td>Alabama</td>\n",
       "      <td>1.00</td>\n",
       "      <td>19.2</td>\n",
       "      <td>1.00</td>\n",
       "      <td>19.1</td>\n",
       "      <td>1.00</td>\n",
       "      <td>18.9</td>\n",
       "    </tr>\n",
       "    <tr>\n",
       "      <th>1</th>\n",
       "      <td>Alaska</td>\n",
       "      <td>0.65</td>\n",
       "      <td>19.8</td>\n",
       "      <td>0.33</td>\n",
       "      <td>20.8</td>\n",
       "      <td>0.38</td>\n",
       "      <td>20.1</td>\n",
       "    </tr>\n",
       "    <tr>\n",
       "      <th>2</th>\n",
       "      <td>Arizona</td>\n",
       "      <td>0.62</td>\n",
       "      <td>19.7</td>\n",
       "      <td>0.66</td>\n",
       "      <td>19.2</td>\n",
       "      <td>0.73</td>\n",
       "      <td>19.0</td>\n",
       "    </tr>\n",
       "    <tr>\n",
       "      <th>3</th>\n",
       "      <td>Arkansas</td>\n",
       "      <td>1.00</td>\n",
       "      <td>19.4</td>\n",
       "      <td>1.00</td>\n",
       "      <td>19.4</td>\n",
       "      <td>1.00</td>\n",
       "      <td>19.3</td>\n",
       "    </tr>\n",
       "    <tr>\n",
       "      <th>4</th>\n",
       "      <td>California</td>\n",
       "      <td>0.31</td>\n",
       "      <td>22.8</td>\n",
       "      <td>0.27</td>\n",
       "      <td>22.7</td>\n",
       "      <td>0.23</td>\n",
       "      <td>22.6</td>\n",
       "    </tr>\n",
       "  </tbody>\n",
       "</table>\n",
       "</div>"
      ],
      "text/plain": [
       "        state  part_17  comp_17  part_18  comp_18  part_19  comp_19\n",
       "0     Alabama     1.00     19.2     1.00     19.1     1.00     18.9\n",
       "1      Alaska     0.65     19.8     0.33     20.8     0.38     20.1\n",
       "2     Arizona     0.62     19.7     0.66     19.2     0.73     19.0\n",
       "3    Arkansas     1.00     19.4     1.00     19.4     1.00     19.3\n",
       "4  California     0.31     22.8     0.27     22.7     0.23     22.6"
      ]
     },
     "execution_count": 25,
     "metadata": {},
     "output_type": "execute_result"
    }
   ],
   "source": [
    "act_merged = act_17.merge(act_18).merge(act_19)\n",
    "act_merged.head()"
   ]
  },
  {
   "cell_type": "markdown",
   "id": "2d96469f",
   "metadata": {},
   "source": [
    "---"
   ]
  },
  {
   "cell_type": "markdown",
   "id": "3e2a964e",
   "metadata": {},
   "source": [
    "SAT"
   ]
  },
  {
   "cell_type": "markdown",
   "id": "428dda0b",
   "metadata": {},
   "source": [
    "1. [x] DataFrame Heads"
   ]
  },
  {
   "cell_type": "code",
   "execution_count": 26,
   "id": "3b99c566",
   "metadata": {},
   "outputs": [
    {
     "data": {
      "text/html": [
       "<div>\n",
       "<style scoped>\n",
       "    .dataframe tbody tr th:only-of-type {\n",
       "        vertical-align: middle;\n",
       "    }\n",
       "\n",
       "    .dataframe tbody tr th {\n",
       "        vertical-align: top;\n",
       "    }\n",
       "\n",
       "    .dataframe thead th {\n",
       "        text-align: right;\n",
       "    }\n",
       "</style>\n",
       "<table border=\"1\" class=\"dataframe\">\n",
       "  <thead>\n",
       "    <tr style=\"text-align: right;\">\n",
       "      <th></th>\n",
       "      <th>State</th>\n",
       "      <th>Participation</th>\n",
       "      <th>Evidence-Based Reading and Writing</th>\n",
       "      <th>Math</th>\n",
       "      <th>Total</th>\n",
       "    </tr>\n",
       "  </thead>\n",
       "  <tbody>\n",
       "    <tr>\n",
       "      <th>0</th>\n",
       "      <td>Alabama</td>\n",
       "      <td>5%</td>\n",
       "      <td>593</td>\n",
       "      <td>572</td>\n",
       "      <td>1165</td>\n",
       "    </tr>\n",
       "    <tr>\n",
       "      <th>1</th>\n",
       "      <td>Alaska</td>\n",
       "      <td>38%</td>\n",
       "      <td>547</td>\n",
       "      <td>533</td>\n",
       "      <td>1080</td>\n",
       "    </tr>\n",
       "    <tr>\n",
       "      <th>2</th>\n",
       "      <td>Arizona</td>\n",
       "      <td>30%</td>\n",
       "      <td>563</td>\n",
       "      <td>553</td>\n",
       "      <td>1116</td>\n",
       "    </tr>\n",
       "    <tr>\n",
       "      <th>3</th>\n",
       "      <td>Arkansas</td>\n",
       "      <td>3%</td>\n",
       "      <td>614</td>\n",
       "      <td>594</td>\n",
       "      <td>1208</td>\n",
       "    </tr>\n",
       "    <tr>\n",
       "      <th>4</th>\n",
       "      <td>California</td>\n",
       "      <td>53%</td>\n",
       "      <td>531</td>\n",
       "      <td>524</td>\n",
       "      <td>1055</td>\n",
       "    </tr>\n",
       "  </tbody>\n",
       "</table>\n",
       "</div>"
      ],
      "text/plain": [
       "        State Participation  Evidence-Based Reading and Writing  Math  Total\n",
       "0     Alabama            5%                                 593   572   1165\n",
       "1      Alaska           38%                                 547   533   1080\n",
       "2     Arizona           30%                                 563   553   1116\n",
       "3    Arkansas            3%                                 614   594   1208\n",
       "4  California           53%                                 531   524   1055"
      ]
     },
     "execution_count": 26,
     "metadata": {},
     "output_type": "execute_result"
    }
   ],
   "source": [
    "sat_17.head()"
   ]
  },
  {
   "cell_type": "code",
   "execution_count": 27,
   "id": "d006d969",
   "metadata": {},
   "outputs": [
    {
     "data": {
      "text/html": [
       "<div>\n",
       "<style scoped>\n",
       "    .dataframe tbody tr th:only-of-type {\n",
       "        vertical-align: middle;\n",
       "    }\n",
       "\n",
       "    .dataframe tbody tr th {\n",
       "        vertical-align: top;\n",
       "    }\n",
       "\n",
       "    .dataframe thead th {\n",
       "        text-align: right;\n",
       "    }\n",
       "</style>\n",
       "<table border=\"1\" class=\"dataframe\">\n",
       "  <thead>\n",
       "    <tr style=\"text-align: right;\">\n",
       "      <th></th>\n",
       "      <th>State</th>\n",
       "      <th>Participation</th>\n",
       "      <th>Evidence-Based Reading and Writing</th>\n",
       "      <th>Math</th>\n",
       "      <th>Total</th>\n",
       "    </tr>\n",
       "  </thead>\n",
       "  <tbody>\n",
       "    <tr>\n",
       "      <th>0</th>\n",
       "      <td>Alabama</td>\n",
       "      <td>6%</td>\n",
       "      <td>595</td>\n",
       "      <td>571</td>\n",
       "      <td>1166</td>\n",
       "    </tr>\n",
       "    <tr>\n",
       "      <th>1</th>\n",
       "      <td>Alaska</td>\n",
       "      <td>43%</td>\n",
       "      <td>562</td>\n",
       "      <td>544</td>\n",
       "      <td>1106</td>\n",
       "    </tr>\n",
       "    <tr>\n",
       "      <th>2</th>\n",
       "      <td>Arizona</td>\n",
       "      <td>29%</td>\n",
       "      <td>577</td>\n",
       "      <td>572</td>\n",
       "      <td>1149</td>\n",
       "    </tr>\n",
       "    <tr>\n",
       "      <th>3</th>\n",
       "      <td>Arkansas</td>\n",
       "      <td>5%</td>\n",
       "      <td>592</td>\n",
       "      <td>576</td>\n",
       "      <td>1169</td>\n",
       "    </tr>\n",
       "    <tr>\n",
       "      <th>4</th>\n",
       "      <td>California</td>\n",
       "      <td>60%</td>\n",
       "      <td>540</td>\n",
       "      <td>536</td>\n",
       "      <td>1076</td>\n",
       "    </tr>\n",
       "  </tbody>\n",
       "</table>\n",
       "</div>"
      ],
      "text/plain": [
       "        State Participation  Evidence-Based Reading and Writing  Math  Total\n",
       "0     Alabama            6%                                 595   571   1166\n",
       "1      Alaska           43%                                 562   544   1106\n",
       "2     Arizona           29%                                 577   572   1149\n",
       "3    Arkansas            5%                                 592   576   1169\n",
       "4  California           60%                                 540   536   1076"
      ]
     },
     "execution_count": 27,
     "metadata": {},
     "output_type": "execute_result"
    }
   ],
   "source": [
    "sat_18.head()"
   ]
  },
  {
   "cell_type": "code",
   "execution_count": 28,
   "id": "6e6adcbc",
   "metadata": {},
   "outputs": [
    {
     "data": {
      "text/html": [
       "<div>\n",
       "<style scoped>\n",
       "    .dataframe tbody tr th:only-of-type {\n",
       "        vertical-align: middle;\n",
       "    }\n",
       "\n",
       "    .dataframe tbody tr th {\n",
       "        vertical-align: top;\n",
       "    }\n",
       "\n",
       "    .dataframe thead th {\n",
       "        text-align: right;\n",
       "    }\n",
       "</style>\n",
       "<table border=\"1\" class=\"dataframe\">\n",
       "  <thead>\n",
       "    <tr style=\"text-align: right;\">\n",
       "      <th></th>\n",
       "      <th>State</th>\n",
       "      <th>Participation Rate</th>\n",
       "      <th>EBRW</th>\n",
       "      <th>Math</th>\n",
       "      <th>Total</th>\n",
       "    </tr>\n",
       "  </thead>\n",
       "  <tbody>\n",
       "    <tr>\n",
       "      <th>0</th>\n",
       "      <td>Alabama</td>\n",
       "      <td>7%</td>\n",
       "      <td>583</td>\n",
       "      <td>560</td>\n",
       "      <td>1143</td>\n",
       "    </tr>\n",
       "    <tr>\n",
       "      <th>1</th>\n",
       "      <td>Alaska</td>\n",
       "      <td>41%</td>\n",
       "      <td>556</td>\n",
       "      <td>541</td>\n",
       "      <td>1097</td>\n",
       "    </tr>\n",
       "    <tr>\n",
       "      <th>2</th>\n",
       "      <td>Arizona</td>\n",
       "      <td>31%</td>\n",
       "      <td>569</td>\n",
       "      <td>565</td>\n",
       "      <td>1134</td>\n",
       "    </tr>\n",
       "    <tr>\n",
       "      <th>3</th>\n",
       "      <td>Arkansas</td>\n",
       "      <td>6%</td>\n",
       "      <td>582</td>\n",
       "      <td>559</td>\n",
       "      <td>1141</td>\n",
       "    </tr>\n",
       "    <tr>\n",
       "      <th>4</th>\n",
       "      <td>California</td>\n",
       "      <td>63%</td>\n",
       "      <td>534</td>\n",
       "      <td>531</td>\n",
       "      <td>1065</td>\n",
       "    </tr>\n",
       "  </tbody>\n",
       "</table>\n",
       "</div>"
      ],
      "text/plain": [
       "        State Participation Rate  EBRW  Math  Total\n",
       "0     Alabama                 7%   583   560   1143\n",
       "1      Alaska                41%   556   541   1097\n",
       "2     Arizona                31%   569   565   1134\n",
       "3    Arkansas                 6%   582   559   1141\n",
       "4  California                63%   534   531   1065"
      ]
     },
     "execution_count": 28,
     "metadata": {},
     "output_type": "execute_result"
    }
   ],
   "source": [
    "sat_19.head()"
   ]
  },
  {
   "cell_type": "markdown",
   "id": "ed3df7c7",
   "metadata": {},
   "source": [
    "2. [x] Check for missing values\n",
    "- None"
   ]
  },
  {
   "cell_type": "code",
   "execution_count": 29,
   "id": "8b34236f",
   "metadata": {},
   "outputs": [],
   "source": [
    "# sat_17.isnull().sum()\n",
    "# sat_18.isnull().sum()\n",
    "# sat_19.isnull().sum()"
   ]
  },
  {
   "cell_type": "markdown",
   "id": "a81d60ec",
   "metadata": {},
   "source": [
    "3. [x] Check for any obvious issues with the observations (keep in mind the minimum & maximum possible values for each test/subtest)."
   ]
  },
  {
   "cell_type": "code",
   "execution_count": 30,
   "id": "12afe400",
   "metadata": {},
   "outputs": [
    {
     "name": "stdout",
     "output_type": "stream",
     "text": [
      "(51, 5)\n",
      "(51, 5)\n",
      "(53, 5)\n"
     ]
    }
   ],
   "source": [
    "print(sat_17.shape)\n",
    "print(sat_18.shape)\n",
    "print(sat_19.shape)"
   ]
  },
  {
   "cell_type": "markdown",
   "id": "d3c790d1",
   "metadata": {},
   "source": [
    "- [x] Removing 'Puerto Rico' and Virgin Islands from ```sat_19```"
   ]
  },
  {
   "cell_type": "code",
   "execution_count": 31,
   "id": "d9e116dc",
   "metadata": {},
   "outputs": [],
   "source": [
    "sat_19.drop([39, 47], inplace=True)"
   ]
  },
  {
   "cell_type": "code",
   "execution_count": 32,
   "id": "a639ee48",
   "metadata": {
    "scrolled": false
   },
   "outputs": [],
   "source": [
    "sat_19.reset_index(drop=True, inplace=True)"
   ]
  },
  {
   "cell_type": "markdown",
   "id": "e294baf9",
   "metadata": {},
   "source": [
    "- [x] Sorting df's by ```State```"
   ]
  },
  {
   "cell_type": "code",
   "execution_count": 33,
   "id": "82f5e84e",
   "metadata": {},
   "outputs": [],
   "source": [
    "sat_17 = sat_17.sort_values(by=['State'])\n",
    "sat_18 = sat_18.sort_values(by=['State'])\n",
    "sat_19 = sat_19.sort_values(by=['State'])"
   ]
  },
  {
   "cell_type": "code",
   "execution_count": 34,
   "id": "dc2496c5",
   "metadata": {},
   "outputs": [],
   "source": [
    "for state1, state2, state3 in zip(sat_17.State, sat_18.State, sat_19.State):\n",
    "     if state1 != state2 or state1 != state3:\n",
    "        print('Error: ', state1, state2, state3)"
   ]
  },
  {
   "cell_type": "markdown",
   "id": "9958a354",
   "metadata": {},
   "source": [
    "5. [x] Display data types and convert where necessary"
   ]
  },
  {
   "cell_type": "markdown",
   "id": "b1a9f602",
   "metadata": {},
   "source": [
    "- [x] ```['Participation']``` floating participation "
   ]
  },
  {
   "cell_type": "code",
   "execution_count": 35,
   "id": "4639ff2d",
   "metadata": {},
   "outputs": [],
   "source": [
    "sat_17['Participation'] = [float_perc(num) for num in sat_17['Participation']]"
   ]
  },
  {
   "cell_type": "code",
   "execution_count": 36,
   "id": "7a942ac9",
   "metadata": {},
   "outputs": [],
   "source": [
    "sat_18['Participation'] = [float_perc(num) for num in sat_18['Participation']]"
   ]
  },
  {
   "cell_type": "code",
   "execution_count": 37,
   "id": "d65044f1",
   "metadata": {
    "scrolled": true
   },
   "outputs": [],
   "source": [
    "sat_19['Participation Rate'] = [float_perc(num) for num in sat_19['Participation Rate']]"
   ]
  },
  {
   "cell_type": "code",
   "execution_count": 38,
   "id": "6e09fc24",
   "metadata": {},
   "outputs": [
    {
     "data": {
      "text/plain": [
       "State                  object\n",
       "Participation Rate    float64\n",
       "EBRW                    int64\n",
       "Math                    int64\n",
       "Total                   int64\n",
       "dtype: object"
      ]
     },
     "execution_count": 38,
     "metadata": {},
     "output_type": "execute_result"
    }
   ],
   "source": [
    "sat_19.dtypes"
   ]
  },
  {
   "cell_type": "markdown",
   "id": "71b2034f",
   "metadata": {},
   "source": [
    "- [x] Renaming all columns"
   ]
  },
  {
   "cell_type": "code",
   "execution_count": 39,
   "id": "8b0201d3",
   "metadata": {},
   "outputs": [],
   "source": [
    "sat_17.rename(columns={'State': 'state',\n",
    "                       'Participation': 'part_17',\n",
    "                       'Evidence-Based Reading and Writing': 'EBRW_17',\n",
    "                       'Math': 'math_17', \n",
    "                       'Total': 'total_17'}, inplace=True)\n",
    "sat_18.rename(columns={'State': 'state',\n",
    "                       'Participation': 'part_18',\n",
    "                       'Evidence-Based Reading and Writing': 'EBRW_18',\n",
    "                       'Math': 'math_18', \n",
    "                       'Total': 'total_18'}, inplace=True)\n",
    "sat_19.rename(columns={'State': 'state',\n",
    "                       'Participation Rate': 'part_19',\n",
    "                       'EBRW': 'EBRW_19',\n",
    "                       'Math': 'math_19', \n",
    "                       'Total': 'total_19'}, inplace=True)"
   ]
  },
  {
   "cell_type": "markdown",
   "id": "f712e412",
   "metadata": {},
   "source": [
    "9. [x] Merge dataframes that can be merged."
   ]
  },
  {
   "cell_type": "code",
   "execution_count": 40,
   "id": "d72cda53",
   "metadata": {},
   "outputs": [
    {
     "data": {
      "text/html": [
       "<div>\n",
       "<style scoped>\n",
       "    .dataframe tbody tr th:only-of-type {\n",
       "        vertical-align: middle;\n",
       "    }\n",
       "\n",
       "    .dataframe tbody tr th {\n",
       "        vertical-align: top;\n",
       "    }\n",
       "\n",
       "    .dataframe thead th {\n",
       "        text-align: right;\n",
       "    }\n",
       "</style>\n",
       "<table border=\"1\" class=\"dataframe\">\n",
       "  <thead>\n",
       "    <tr style=\"text-align: right;\">\n",
       "      <th></th>\n",
       "      <th>state</th>\n",
       "      <th>part_17</th>\n",
       "      <th>EBRW_17</th>\n",
       "      <th>math_17</th>\n",
       "      <th>total_17</th>\n",
       "      <th>part_18</th>\n",
       "      <th>EBRW_18</th>\n",
       "      <th>math_18</th>\n",
       "      <th>total_18</th>\n",
       "      <th>part_19</th>\n",
       "      <th>EBRW_19</th>\n",
       "      <th>math_19</th>\n",
       "      <th>total_19</th>\n",
       "    </tr>\n",
       "  </thead>\n",
       "  <tbody>\n",
       "    <tr>\n",
       "      <th>0</th>\n",
       "      <td>Alabama</td>\n",
       "      <td>0.05</td>\n",
       "      <td>593</td>\n",
       "      <td>572</td>\n",
       "      <td>1165</td>\n",
       "      <td>0.06</td>\n",
       "      <td>595</td>\n",
       "      <td>571</td>\n",
       "      <td>1166</td>\n",
       "      <td>0.07</td>\n",
       "      <td>583</td>\n",
       "      <td>560</td>\n",
       "      <td>1143</td>\n",
       "    </tr>\n",
       "    <tr>\n",
       "      <th>1</th>\n",
       "      <td>Alaska</td>\n",
       "      <td>0.38</td>\n",
       "      <td>547</td>\n",
       "      <td>533</td>\n",
       "      <td>1080</td>\n",
       "      <td>0.43</td>\n",
       "      <td>562</td>\n",
       "      <td>544</td>\n",
       "      <td>1106</td>\n",
       "      <td>0.41</td>\n",
       "      <td>556</td>\n",
       "      <td>541</td>\n",
       "      <td>1097</td>\n",
       "    </tr>\n",
       "    <tr>\n",
       "      <th>2</th>\n",
       "      <td>Arizona</td>\n",
       "      <td>0.30</td>\n",
       "      <td>563</td>\n",
       "      <td>553</td>\n",
       "      <td>1116</td>\n",
       "      <td>0.29</td>\n",
       "      <td>577</td>\n",
       "      <td>572</td>\n",
       "      <td>1149</td>\n",
       "      <td>0.31</td>\n",
       "      <td>569</td>\n",
       "      <td>565</td>\n",
       "      <td>1134</td>\n",
       "    </tr>\n",
       "    <tr>\n",
       "      <th>3</th>\n",
       "      <td>Arkansas</td>\n",
       "      <td>0.03</td>\n",
       "      <td>614</td>\n",
       "      <td>594</td>\n",
       "      <td>1208</td>\n",
       "      <td>0.05</td>\n",
       "      <td>592</td>\n",
       "      <td>576</td>\n",
       "      <td>1169</td>\n",
       "      <td>0.06</td>\n",
       "      <td>582</td>\n",
       "      <td>559</td>\n",
       "      <td>1141</td>\n",
       "    </tr>\n",
       "    <tr>\n",
       "      <th>4</th>\n",
       "      <td>California</td>\n",
       "      <td>0.53</td>\n",
       "      <td>531</td>\n",
       "      <td>524</td>\n",
       "      <td>1055</td>\n",
       "      <td>0.60</td>\n",
       "      <td>540</td>\n",
       "      <td>536</td>\n",
       "      <td>1076</td>\n",
       "      <td>0.63</td>\n",
       "      <td>534</td>\n",
       "      <td>531</td>\n",
       "      <td>1065</td>\n",
       "    </tr>\n",
       "  </tbody>\n",
       "</table>\n",
       "</div>"
      ],
      "text/plain": [
       "        state  part_17  EBRW_17  math_17  total_17  part_18  EBRW_18  math_18  \\\n",
       "0     Alabama     0.05      593      572      1165     0.06      595      571   \n",
       "1      Alaska     0.38      547      533      1080     0.43      562      544   \n",
       "2     Arizona     0.30      563      553      1116     0.29      577      572   \n",
       "3    Arkansas     0.03      614      594      1208     0.05      592      576   \n",
       "4  California     0.53      531      524      1055     0.60      540      536   \n",
       "\n",
       "   total_18  part_19  EBRW_19  math_19  total_19  \n",
       "0      1166     0.07      583      560      1143  \n",
       "1      1106     0.41      556      541      1097  \n",
       "2      1149     0.31      569      565      1134  \n",
       "3      1169     0.06      582      559      1141  \n",
       "4      1076     0.63      534      531      1065  "
      ]
     },
     "execution_count": 40,
     "metadata": {},
     "output_type": "execute_result"
    }
   ],
   "source": [
    "sat_merged = sat_17.merge(sat_18).merge(sat_19)\n",
    "sat_merged.head()"
   ]
  },
  {
   "cell_type": "markdown",
   "id": "facfd4c7",
   "metadata": {},
   "source": [
    "---"
   ]
  },
  {
   "cell_type": "markdown",
   "id": "f0ee0c92",
   "metadata": {},
   "source": [
    "**California SAT & ACT**"
   ]
  },
  {
   "cell_type": "markdown",
   "id": "0be4de64",
   "metadata": {},
   "source": [
    "1. [x] Dataframe Heads"
   ]
  },
  {
   "cell_type": "code",
   "execution_count": 41,
   "id": "7a93dd43",
   "metadata": {},
   "outputs": [
    {
     "data": {
      "text/html": [
       "<div>\n",
       "<style scoped>\n",
       "    .dataframe tbody tr th:only-of-type {\n",
       "        vertical-align: middle;\n",
       "    }\n",
       "\n",
       "    .dataframe tbody tr th {\n",
       "        vertical-align: top;\n",
       "    }\n",
       "\n",
       "    .dataframe thead th {\n",
       "        text-align: right;\n",
       "    }\n",
       "</style>\n",
       "<table border=\"1\" class=\"dataframe\">\n",
       "  <thead>\n",
       "    <tr style=\"text-align: right;\">\n",
       "      <th></th>\n",
       "      <th>CDS</th>\n",
       "      <th>CCode</th>\n",
       "      <th>CDCode</th>\n",
       "      <th>SCode</th>\n",
       "      <th>RType</th>\n",
       "      <th>SName</th>\n",
       "      <th>DName</th>\n",
       "      <th>CName</th>\n",
       "      <th>Enroll12</th>\n",
       "      <th>NumTstTakr</th>\n",
       "      <th>AvgScrRead</th>\n",
       "      <th>AvgScrEng</th>\n",
       "      <th>AvgScrMath</th>\n",
       "      <th>AvgScrSci</th>\n",
       "      <th>NumGE21</th>\n",
       "      <th>PctGE21</th>\n",
       "      <th>Year</th>\n",
       "      <th>Unnamed: 17</th>\n",
       "    </tr>\n",
       "  </thead>\n",
       "  <tbody>\n",
       "    <tr>\n",
       "      <th>0</th>\n",
       "      <td>3.366993e+13</td>\n",
       "      <td>33.0</td>\n",
       "      <td>3366993.0</td>\n",
       "      <td>129882.0</td>\n",
       "      <td>S</td>\n",
       "      <td>21st Century Learning Institute</td>\n",
       "      <td>Beaumont Unified</td>\n",
       "      <td>Riverside</td>\n",
       "      <td>18.0</td>\n",
       "      <td>0.0</td>\n",
       "      <td>NaN</td>\n",
       "      <td>NaN</td>\n",
       "      <td>NaN</td>\n",
       "      <td>NaN</td>\n",
       "      <td>NaN</td>\n",
       "      <td>NaN</td>\n",
       "      <td>2018-19</td>\n",
       "      <td>NaN</td>\n",
       "    </tr>\n",
       "    <tr>\n",
       "      <th>1</th>\n",
       "      <td>1.964212e+13</td>\n",
       "      <td>19.0</td>\n",
       "      <td>1964212.0</td>\n",
       "      <td>1995596.0</td>\n",
       "      <td>S</td>\n",
       "      <td>ABC Secondary (Alternative)</td>\n",
       "      <td>ABC Unified</td>\n",
       "      <td>Los Angeles</td>\n",
       "      <td>58.0</td>\n",
       "      <td>0.0</td>\n",
       "      <td>NaN</td>\n",
       "      <td>NaN</td>\n",
       "      <td>NaN</td>\n",
       "      <td>NaN</td>\n",
       "      <td>NaN</td>\n",
       "      <td>NaN</td>\n",
       "      <td>2018-19</td>\n",
       "      <td>NaN</td>\n",
       "    </tr>\n",
       "    <tr>\n",
       "      <th>2</th>\n",
       "      <td>1.563776e+13</td>\n",
       "      <td>15.0</td>\n",
       "      <td>1563776.0</td>\n",
       "      <td>1530377.0</td>\n",
       "      <td>S</td>\n",
       "      <td>Abraham Lincoln Alternative</td>\n",
       "      <td>Southern Kern Unified</td>\n",
       "      <td>Kern</td>\n",
       "      <td>18.0</td>\n",
       "      <td>0.0</td>\n",
       "      <td>NaN</td>\n",
       "      <td>NaN</td>\n",
       "      <td>NaN</td>\n",
       "      <td>NaN</td>\n",
       "      <td>NaN</td>\n",
       "      <td>NaN</td>\n",
       "      <td>2018-19</td>\n",
       "      <td>NaN</td>\n",
       "    </tr>\n",
       "    <tr>\n",
       "      <th>3</th>\n",
       "      <td>4.369666e+13</td>\n",
       "      <td>43.0</td>\n",
       "      <td>4369666.0</td>\n",
       "      <td>4333795.0</td>\n",
       "      <td>S</td>\n",
       "      <td>Abraham Lincoln High</td>\n",
       "      <td>San Jose Unified</td>\n",
       "      <td>Santa Clara</td>\n",
       "      <td>463.0</td>\n",
       "      <td>53.0</td>\n",
       "      <td>23</td>\n",
       "      <td>22</td>\n",
       "      <td>22</td>\n",
       "      <td>23</td>\n",
       "      <td>34</td>\n",
       "      <td>64.15</td>\n",
       "      <td>2018-19</td>\n",
       "      <td>NaN</td>\n",
       "    </tr>\n",
       "    <tr>\n",
       "      <th>4</th>\n",
       "      <td>1.964733e+13</td>\n",
       "      <td>19.0</td>\n",
       "      <td>1964733.0</td>\n",
       "      <td>1935121.0</td>\n",
       "      <td>S</td>\n",
       "      <td>Abraham Lincoln Senior High</td>\n",
       "      <td>Los Angeles Unified</td>\n",
       "      <td>Los Angeles</td>\n",
       "      <td>226.0</td>\n",
       "      <td>19.0</td>\n",
       "      <td>21</td>\n",
       "      <td>20</td>\n",
       "      <td>23</td>\n",
       "      <td>22</td>\n",
       "      <td>11</td>\n",
       "      <td>57.89</td>\n",
       "      <td>2018-19</td>\n",
       "      <td>NaN</td>\n",
       "    </tr>\n",
       "  </tbody>\n",
       "</table>\n",
       "</div>"
      ],
      "text/plain": [
       "            CDS  CCode     CDCode      SCode RType  \\\n",
       "0  3.366993e+13   33.0  3366993.0   129882.0     S   \n",
       "1  1.964212e+13   19.0  1964212.0  1995596.0     S   \n",
       "2  1.563776e+13   15.0  1563776.0  1530377.0     S   \n",
       "3  4.369666e+13   43.0  4369666.0  4333795.0     S   \n",
       "4  1.964733e+13   19.0  1964733.0  1935121.0     S   \n",
       "\n",
       "                             SName                  DName        CName  \\\n",
       "0  21st Century Learning Institute       Beaumont Unified    Riverside   \n",
       "1      ABC Secondary (Alternative)            ABC Unified  Los Angeles   \n",
       "2      Abraham Lincoln Alternative  Southern Kern Unified         Kern   \n",
       "3             Abraham Lincoln High       San Jose Unified  Santa Clara   \n",
       "4      Abraham Lincoln Senior High    Los Angeles Unified  Los Angeles   \n",
       "\n",
       "   Enroll12  NumTstTakr AvgScrRead AvgScrEng AvgScrMath AvgScrSci NumGE21  \\\n",
       "0      18.0         0.0        NaN       NaN        NaN       NaN     NaN   \n",
       "1      58.0         0.0        NaN       NaN        NaN       NaN     NaN   \n",
       "2      18.0         0.0        NaN       NaN        NaN       NaN     NaN   \n",
       "3     463.0        53.0         23        22         22        23      34   \n",
       "4     226.0        19.0         21        20         23        22      11   \n",
       "\n",
       "  PctGE21     Year  Unnamed: 17  \n",
       "0     NaN  2018-19          NaN  \n",
       "1     NaN  2018-19          NaN  \n",
       "2     NaN  2018-19          NaN  \n",
       "3   64.15  2018-19          NaN  \n",
       "4   57.89  2018-19          NaN  "
      ]
     },
     "execution_count": 41,
     "metadata": {},
     "output_type": "execute_result"
    }
   ],
   "source": [
    "act_19_ca_full.head()"
   ]
  },
  {
   "cell_type": "code",
   "execution_count": 42,
   "id": "6dba21c9",
   "metadata": {
    "scrolled": true
   },
   "outputs": [
    {
     "data": {
      "text/html": [
       "<div>\n",
       "<style scoped>\n",
       "    .dataframe tbody tr th:only-of-type {\n",
       "        vertical-align: middle;\n",
       "    }\n",
       "\n",
       "    .dataframe tbody tr th {\n",
       "        vertical-align: top;\n",
       "    }\n",
       "\n",
       "    .dataframe thead th {\n",
       "        text-align: right;\n",
       "    }\n",
       "</style>\n",
       "<table border=\"1\" class=\"dataframe\">\n",
       "  <thead>\n",
       "    <tr style=\"text-align: right;\">\n",
       "      <th></th>\n",
       "      <th>CDS</th>\n",
       "      <th>CCode</th>\n",
       "      <th>CDCode</th>\n",
       "      <th>SCode</th>\n",
       "      <th>RType</th>\n",
       "      <th>SName</th>\n",
       "      <th>DName</th>\n",
       "      <th>CName</th>\n",
       "      <th>Enroll12</th>\n",
       "      <th>NumTSTTakr12</th>\n",
       "      <th>...</th>\n",
       "      <th>NumERWBenchmark11</th>\n",
       "      <th>PctERWBenchmark11</th>\n",
       "      <th>NumMathBenchmark11</th>\n",
       "      <th>PctMathBenchmark11</th>\n",
       "      <th>TotNumBothBenchmark12</th>\n",
       "      <th>PctBothBenchmark12</th>\n",
       "      <th>TotNumBothBenchmark11</th>\n",
       "      <th>PctBothBenchmark11</th>\n",
       "      <th>Year</th>\n",
       "      <th>Unnamed: 25</th>\n",
       "    </tr>\n",
       "  </thead>\n",
       "  <tbody>\n",
       "    <tr>\n",
       "      <th>0</th>\n",
       "      <td>6.615981e+12</td>\n",
       "      <td>6.0</td>\n",
       "      <td>661598.0</td>\n",
       "      <td>630046.0</td>\n",
       "      <td>S</td>\n",
       "      <td>Colusa Alternative Home</td>\n",
       "      <td>Colusa Unified</td>\n",
       "      <td>Colusa</td>\n",
       "      <td>18.0</td>\n",
       "      <td>0.0</td>\n",
       "      <td>...</td>\n",
       "      <td>NaN</td>\n",
       "      <td>NaN</td>\n",
       "      <td>NaN</td>\n",
       "      <td>NaN</td>\n",
       "      <td>NaN</td>\n",
       "      <td>NaN</td>\n",
       "      <td>NaN</td>\n",
       "      <td>NaN</td>\n",
       "      <td>2018-19</td>\n",
       "      <td>NaN</td>\n",
       "    </tr>\n",
       "    <tr>\n",
       "      <th>1</th>\n",
       "      <td>6.616061e+12</td>\n",
       "      <td>6.0</td>\n",
       "      <td>661606.0</td>\n",
       "      <td>634758.0</td>\n",
       "      <td>S</td>\n",
       "      <td>Maxwell Sr High</td>\n",
       "      <td>Maxwell Unified</td>\n",
       "      <td>Colusa</td>\n",
       "      <td>29.0</td>\n",
       "      <td>10.0</td>\n",
       "      <td>...</td>\n",
       "      <td>*</td>\n",
       "      <td>*</td>\n",
       "      <td>*</td>\n",
       "      <td>*</td>\n",
       "      <td>*</td>\n",
       "      <td>*</td>\n",
       "      <td>*</td>\n",
       "      <td>*</td>\n",
       "      <td>2018-19</td>\n",
       "      <td>NaN</td>\n",
       "    </tr>\n",
       "    <tr>\n",
       "      <th>2</th>\n",
       "      <td>1.964733e+13</td>\n",
       "      <td>19.0</td>\n",
       "      <td>1964733.0</td>\n",
       "      <td>1930924.0</td>\n",
       "      <td>S</td>\n",
       "      <td>Belmont Senior High</td>\n",
       "      <td>Los Angeles Unified</td>\n",
       "      <td>Los Angeles</td>\n",
       "      <td>206.0</td>\n",
       "      <td>102.0</td>\n",
       "      <td>...</td>\n",
       "      <td>42</td>\n",
       "      <td>24.14</td>\n",
       "      <td>12</td>\n",
       "      <td>6.90</td>\n",
       "      <td>14</td>\n",
       "      <td>13.73</td>\n",
       "      <td>11</td>\n",
       "      <td>6.32</td>\n",
       "      <td>2018-19</td>\n",
       "      <td>NaN</td>\n",
       "    </tr>\n",
       "    <tr>\n",
       "      <th>3</th>\n",
       "      <td>1.964733e+13</td>\n",
       "      <td>19.0</td>\n",
       "      <td>1964733.0</td>\n",
       "      <td>1931476.0</td>\n",
       "      <td>S</td>\n",
       "      <td>Canoga Park Senior High</td>\n",
       "      <td>Los Angeles Unified</td>\n",
       "      <td>Los Angeles</td>\n",
       "      <td>227.0</td>\n",
       "      <td>113.0</td>\n",
       "      <td>...</td>\n",
       "      <td>97</td>\n",
       "      <td>35.27</td>\n",
       "      <td>37</td>\n",
       "      <td>13.45</td>\n",
       "      <td>18</td>\n",
       "      <td>15.93</td>\n",
       "      <td>35</td>\n",
       "      <td>12.73</td>\n",
       "      <td>2018-19</td>\n",
       "      <td>NaN</td>\n",
       "    </tr>\n",
       "    <tr>\n",
       "      <th>4</th>\n",
       "      <td>1.964733e+13</td>\n",
       "      <td>19.0</td>\n",
       "      <td>1964733.0</td>\n",
       "      <td>1931856.0</td>\n",
       "      <td>S</td>\n",
       "      <td>Whitman Continuation</td>\n",
       "      <td>Los Angeles Unified</td>\n",
       "      <td>Los Angeles</td>\n",
       "      <td>18.0</td>\n",
       "      <td>14.0</td>\n",
       "      <td>...</td>\n",
       "      <td>*</td>\n",
       "      <td>*</td>\n",
       "      <td>*</td>\n",
       "      <td>*</td>\n",
       "      <td>*</td>\n",
       "      <td>*</td>\n",
       "      <td>*</td>\n",
       "      <td>*</td>\n",
       "      <td>2018-19</td>\n",
       "      <td>NaN</td>\n",
       "    </tr>\n",
       "  </tbody>\n",
       "</table>\n",
       "<p>5 rows × 26 columns</p>\n",
       "</div>"
      ],
      "text/plain": [
       "            CDS  CCode     CDCode      SCode RType                    SName  \\\n",
       "0  6.615981e+12    6.0   661598.0   630046.0     S  Colusa Alternative Home   \n",
       "1  6.616061e+12    6.0   661606.0   634758.0     S          Maxwell Sr High   \n",
       "2  1.964733e+13   19.0  1964733.0  1930924.0     S      Belmont Senior High   \n",
       "3  1.964733e+13   19.0  1964733.0  1931476.0     S  Canoga Park Senior High   \n",
       "4  1.964733e+13   19.0  1964733.0  1931856.0     S     Whitman Continuation   \n",
       "\n",
       "                 DName        CName  Enroll12  NumTSTTakr12  ...  \\\n",
       "0       Colusa Unified       Colusa      18.0           0.0  ...   \n",
       "1      Maxwell Unified       Colusa      29.0          10.0  ...   \n",
       "2  Los Angeles Unified  Los Angeles     206.0         102.0  ...   \n",
       "3  Los Angeles Unified  Los Angeles     227.0         113.0  ...   \n",
       "4  Los Angeles Unified  Los Angeles      18.0          14.0  ...   \n",
       "\n",
       "  NumERWBenchmark11 PctERWBenchmark11 NumMathBenchmark11 PctMathBenchmark11  \\\n",
       "0               NaN               NaN                NaN                NaN   \n",
       "1                 *                 *                  *                  *   \n",
       "2                42             24.14                 12               6.90   \n",
       "3                97             35.27                 37              13.45   \n",
       "4                 *                 *                  *                  *   \n",
       "\n",
       "   TotNumBothBenchmark12  PctBothBenchmark12 TotNumBothBenchmark11  \\\n",
       "0                    NaN                 NaN                   NaN   \n",
       "1                      *                   *                     *   \n",
       "2                     14               13.73                    11   \n",
       "3                     18               15.93                    35   \n",
       "4                      *                   *                     *   \n",
       "\n",
       "  PctBothBenchmark11     Year Unnamed: 25  \n",
       "0                NaN  2018-19         NaN  \n",
       "1                  *  2018-19         NaN  \n",
       "2               6.32  2018-19         NaN  \n",
       "3              12.73  2018-19         NaN  \n",
       "4                  *  2018-19         NaN  \n",
       "\n",
       "[5 rows x 26 columns]"
      ]
     },
     "execution_count": 42,
     "metadata": {},
     "output_type": "execute_result"
    }
   ],
   "source": [
    "sat_19_ca_full.head()"
   ]
  },
  {
   "cell_type": "markdown",
   "id": "66163d05",
   "metadata": {},
   "source": [
    "2. [x] Check for missing values\n",
    "- Null values for scores, count, and percent when 0 test takers\n",
    "- astrisk for test takers < 14\n",
    "- when comparing passing scores and passing count, exclude these rows\n",
    "- still able to compare difference in takers b/w ACT & SAT"
   ]
  },
  {
   "cell_type": "code",
   "execution_count": 43,
   "id": "fb10c0a2",
   "metadata": {
    "scrolled": true
   },
   "outputs": [
    {
     "data": {
      "text/plain": [
       "CDS               1\n",
       "CCode             1\n",
       "CDCode            1\n",
       "SCode           523\n",
       "RType             1\n",
       "SName           581\n",
       "DName            59\n",
       "CName             1\n",
       "Enroll12          1\n",
       "NumTstTakr        1\n",
       "AvgScrRead      357\n",
       "AvgScrEng       357\n",
       "AvgScrMath      357\n",
       "AvgScrSci       357\n",
       "NumGE21         357\n",
       "PctGE21         357\n",
       "Year              1\n",
       "Unnamed: 17    2310\n",
       "dtype: int64"
      ]
     },
     "execution_count": 43,
     "metadata": {},
     "output_type": "execute_result"
    }
   ],
   "source": [
    "act_19_ca_full.isnull().sum()"
   ]
  },
  {
   "cell_type": "code",
   "execution_count": 44,
   "id": "2d9ec52d",
   "metadata": {},
   "outputs": [],
   "source": [
    "# sat_19_ca_full.isnull().sum()"
   ]
  },
  {
   "cell_type": "markdown",
   "id": "dacbac3f",
   "metadata": {},
   "source": [
    "7. [x] Drop unecessary columns"
   ]
  },
  {
   "cell_type": "code",
   "execution_count": 45,
   "id": "e7fb9823",
   "metadata": {},
   "outputs": [],
   "source": [
    "act_19_ca = act_19_ca_full[['CDS', 'RType', 'SName', 'DName', 'CName',\n",
    "                            'Enroll12', 'NumTstTakr', 'NumGE21', 'PctGE21', \n",
    "                            'AvgScrRead', 'AvgScrEng', 'AvgScrMath', 'AvgScrSci']]"
   ]
  },
  {
   "cell_type": "code",
   "execution_count": 46,
   "id": "84614be4",
   "metadata": {},
   "outputs": [],
   "source": [
    "sat_19_ca = sat_19_ca_full[['CDS', 'RType', 'SName', 'DName', 'CName', \n",
    "                            'Enroll12', 'NumTSTTakr12', 'TotNumBothBenchmark12', 'PctBothBenchmark12']]"
   ]
  },
  {
   "cell_type": "markdown",
   "id": "f963c28a",
   "metadata": {},
   "source": [
    "6. [x] Rename Columns"
   ]
  },
  {
   "cell_type": "code",
   "execution_count": 47,
   "id": "92efee14",
   "metadata": {},
   "outputs": [
    {
     "name": "stderr",
     "output_type": "stream",
     "text": [
      "/Users/andrewdeemer/opt/anaconda3/lib/python3.9/site-packages/pandas/core/frame.py:5039: SettingWithCopyWarning: \n",
      "A value is trying to be set on a copy of a slice from a DataFrame\n",
      "\n",
      "See the caveats in the documentation: https://pandas.pydata.org/pandas-docs/stable/user_guide/indexing.html#returning-a-view-versus-a-copy\n",
      "  return super().rename(\n"
     ]
    }
   ],
   "source": [
    "act_19_ca.rename(columns={'CDS': 'CDS',\n",
    "                          'RType': 'record_type',\n",
    "                          'SName': 'school', \n",
    "                          'DName': 'district', \n",
    "                          'CName': 'city',\n",
    "                          'Enroll12': 'enroll_12', \n",
    "                          'NumTstTakr': 'act_part',\n",
    "                          'NumGE21': 'act_count_over_20', \n",
    "                          'PctGE21': 'act_rate_over_20', \n",
    "                          'AvgScrRead': 'act_avg_read',\n",
    "                          'AvgScrEng': 'act_avg_eng',\n",
    "                          'AvgScrMath': 'act_avg_math',\n",
    "                          'AvgScrSci': 'act_avg_sci'\n",
    "                         }, inplace=True)"
   ]
  },
  {
   "cell_type": "code",
   "execution_count": 48,
   "id": "216cc97f",
   "metadata": {},
   "outputs": [],
   "source": [
    "sat_19_ca.rename(columns={'CDS': 'CDS',\n",
    "                          'RType': 'record_type',\n",
    "                          'SName': 'school', \n",
    "                          'DName': 'district', \n",
    "                          'CName': 'city',\n",
    "                          'Enroll12': 'enroll_12', \n",
    "                          'NumTSTTakr12': 'sat_part',\n",
    "                          'TotNumBothBenchmark12': 'sat_count_pass', \n",
    "                          'PctBothBenchmark12': 'sat_rate_pass'\n",
    "                          }, inplace=True)"
   ]
  },
  {
   "cell_type": "code",
   "execution_count": 49,
   "id": "c0363a9b",
   "metadata": {},
   "outputs": [
    {
     "data": {
      "text/html": [
       "<div>\n",
       "<style scoped>\n",
       "    .dataframe tbody tr th:only-of-type {\n",
       "        vertical-align: middle;\n",
       "    }\n",
       "\n",
       "    .dataframe tbody tr th {\n",
       "        vertical-align: top;\n",
       "    }\n",
       "\n",
       "    .dataframe thead th {\n",
       "        text-align: right;\n",
       "    }\n",
       "</style>\n",
       "<table border=\"1\" class=\"dataframe\">\n",
       "  <thead>\n",
       "    <tr style=\"text-align: right;\">\n",
       "      <th></th>\n",
       "      <th>CDS</th>\n",
       "      <th>record_type</th>\n",
       "      <th>school</th>\n",
       "      <th>district</th>\n",
       "      <th>city</th>\n",
       "      <th>enroll_12</th>\n",
       "      <th>sat_part</th>\n",
       "      <th>sat_count_pass</th>\n",
       "      <th>sat_rate_pass</th>\n",
       "    </tr>\n",
       "  </thead>\n",
       "  <tbody>\n",
       "    <tr>\n",
       "      <th>0</th>\n",
       "      <td>6.615981e+12</td>\n",
       "      <td>S</td>\n",
       "      <td>Colusa Alternative Home</td>\n",
       "      <td>Colusa Unified</td>\n",
       "      <td>Colusa</td>\n",
       "      <td>18.0</td>\n",
       "      <td>0.0</td>\n",
       "      <td>NaN</td>\n",
       "      <td>NaN</td>\n",
       "    </tr>\n",
       "    <tr>\n",
       "      <th>1</th>\n",
       "      <td>6.616061e+12</td>\n",
       "      <td>S</td>\n",
       "      <td>Maxwell Sr High</td>\n",
       "      <td>Maxwell Unified</td>\n",
       "      <td>Colusa</td>\n",
       "      <td>29.0</td>\n",
       "      <td>10.0</td>\n",
       "      <td>*</td>\n",
       "      <td>*</td>\n",
       "    </tr>\n",
       "    <tr>\n",
       "      <th>2</th>\n",
       "      <td>1.964733e+13</td>\n",
       "      <td>S</td>\n",
       "      <td>Belmont Senior High</td>\n",
       "      <td>Los Angeles Unified</td>\n",
       "      <td>Los Angeles</td>\n",
       "      <td>206.0</td>\n",
       "      <td>102.0</td>\n",
       "      <td>14</td>\n",
       "      <td>13.73</td>\n",
       "    </tr>\n",
       "    <tr>\n",
       "      <th>3</th>\n",
       "      <td>1.964733e+13</td>\n",
       "      <td>S</td>\n",
       "      <td>Canoga Park Senior High</td>\n",
       "      <td>Los Angeles Unified</td>\n",
       "      <td>Los Angeles</td>\n",
       "      <td>227.0</td>\n",
       "      <td>113.0</td>\n",
       "      <td>18</td>\n",
       "      <td>15.93</td>\n",
       "    </tr>\n",
       "    <tr>\n",
       "      <th>4</th>\n",
       "      <td>1.964733e+13</td>\n",
       "      <td>S</td>\n",
       "      <td>Whitman Continuation</td>\n",
       "      <td>Los Angeles Unified</td>\n",
       "      <td>Los Angeles</td>\n",
       "      <td>18.0</td>\n",
       "      <td>14.0</td>\n",
       "      <td>*</td>\n",
       "      <td>*</td>\n",
       "    </tr>\n",
       "  </tbody>\n",
       "</table>\n",
       "</div>"
      ],
      "text/plain": [
       "            CDS record_type                   school             district  \\\n",
       "0  6.615981e+12           S  Colusa Alternative Home       Colusa Unified   \n",
       "1  6.616061e+12           S          Maxwell Sr High      Maxwell Unified   \n",
       "2  1.964733e+13           S      Belmont Senior High  Los Angeles Unified   \n",
       "3  1.964733e+13           S  Canoga Park Senior High  Los Angeles Unified   \n",
       "4  1.964733e+13           S     Whitman Continuation  Los Angeles Unified   \n",
       "\n",
       "          city  enroll_12  sat_part sat_count_pass sat_rate_pass  \n",
       "0       Colusa       18.0       0.0            NaN           NaN  \n",
       "1       Colusa       29.0      10.0              *             *  \n",
       "2  Los Angeles      206.0     102.0             14         13.73  \n",
       "3  Los Angeles      227.0     113.0             18         15.93  \n",
       "4  Los Angeles       18.0      14.0              *             *  "
      ]
     },
     "execution_count": 49,
     "metadata": {},
     "output_type": "execute_result"
    }
   ],
   "source": [
    "sat_19_ca.head()"
   ]
  },
  {
   "cell_type": "markdown",
   "id": "f53913b9",
   "metadata": {},
   "source": [
    "8. [x] Merge df's to ```sat_act_19_ca```"
   ]
  },
  {
   "cell_type": "code",
   "execution_count": 50,
   "id": "b94fb91b",
   "metadata": {},
   "outputs": [],
   "source": [
    "sat_act_19_ca = pd.merge(sat_19_ca, act_19_ca, how='outer')"
   ]
  },
  {
   "cell_type": "markdown",
   "id": "ee5acb43",
   "metadata": {},
   "source": [
    "- [x] Converting ```sat_count_pass``` for integers and NaN"
   ]
  },
  {
   "cell_type": "markdown",
   "id": "02169fec",
   "metadata": {},
   "source": [
    "6. [x] Correct data types"
   ]
  },
  {
   "cell_type": "code",
   "execution_count": 51,
   "id": "ed73bab9",
   "metadata": {},
   "outputs": [],
   "source": [
    "sat_act_19_ca.sat_count_pass = [string_to_float(num) for num in sat_act_19_ca.sat_count_pass]"
   ]
  },
  {
   "cell_type": "markdown",
   "id": "c7d02302",
   "metadata": {},
   "source": [
    "- [x] Converting ```sat_rate_pass``` strings to float. Then percents to range 0-1"
   ]
  },
  {
   "cell_type": "code",
   "execution_count": 52,
   "id": "40a723bf",
   "metadata": {},
   "outputs": [],
   "source": [
    "sat_act_19_ca.sat_rate_pass = [string_to_float(num) for num in sat_act_19_ca.sat_rate_pass]"
   ]
  },
  {
   "cell_type": "code",
   "execution_count": 53,
   "id": "a735a941",
   "metadata": {},
   "outputs": [],
   "source": [
    "sat_act_19_ca.sat_rate_pass = [round(float_perc_b(num), 2) for num in sat_act_19_ca.sat_rate_pass]"
   ]
  },
  {
   "cell_type": "markdown",
   "id": "81caba45",
   "metadata": {},
   "source": [
    "- [x] Converting ```act_count_over_20``` to integer"
   ]
  },
  {
   "cell_type": "code",
   "execution_count": 54,
   "id": "d6c88d35",
   "metadata": {},
   "outputs": [],
   "source": [
    "sat_act_19_ca.act_count_over_20 = [string_to_int(num) for num in sat_act_19_ca.act_count_over_20]"
   ]
  },
  {
   "cell_type": "markdown",
   "id": "0707c228",
   "metadata": {},
   "source": [
    "- [x] Converting ```act_rate_over_20``` string to float. Then percents to range 0-1"
   ]
  },
  {
   "cell_type": "code",
   "execution_count": 55,
   "id": "b325a1e0",
   "metadata": {},
   "outputs": [],
   "source": [
    "sat_act_19_ca.act_rate_over_20 = [string_to_float(num) for num in sat_act_19_ca.act_rate_over_20]"
   ]
  },
  {
   "cell_type": "code",
   "execution_count": 56,
   "id": "77f0388e",
   "metadata": {},
   "outputs": [],
   "source": [
    "sat_act_19_ca.act_rate_over_20 = [round(float_perc_b(num), 2) for num in sat_act_19_ca.act_rate_over_20]"
   ]
  },
  {
   "cell_type": "code",
   "execution_count": 57,
   "id": "ec1df2fa",
   "metadata": {},
   "outputs": [
    {
     "data": {
      "text/html": [
       "<div>\n",
       "<style scoped>\n",
       "    .dataframe tbody tr th:only-of-type {\n",
       "        vertical-align: middle;\n",
       "    }\n",
       "\n",
       "    .dataframe tbody tr th {\n",
       "        vertical-align: top;\n",
       "    }\n",
       "\n",
       "    .dataframe thead th {\n",
       "        text-align: right;\n",
       "    }\n",
       "</style>\n",
       "<table border=\"1\" class=\"dataframe\">\n",
       "  <thead>\n",
       "    <tr style=\"text-align: right;\">\n",
       "      <th></th>\n",
       "      <th>CDS</th>\n",
       "      <th>record_type</th>\n",
       "      <th>school</th>\n",
       "      <th>district</th>\n",
       "      <th>city</th>\n",
       "      <th>enroll_12</th>\n",
       "      <th>sat_part</th>\n",
       "      <th>sat_count_pass</th>\n",
       "      <th>sat_rate_pass</th>\n",
       "      <th>act_part</th>\n",
       "      <th>act_count_over_20</th>\n",
       "      <th>act_rate_over_20</th>\n",
       "      <th>act_avg_read</th>\n",
       "      <th>act_avg_eng</th>\n",
       "      <th>act_avg_math</th>\n",
       "      <th>act_avg_sci</th>\n",
       "    </tr>\n",
       "  </thead>\n",
       "  <tbody>\n",
       "    <tr>\n",
       "      <th>0</th>\n",
       "      <td>6.615981e+12</td>\n",
       "      <td>S</td>\n",
       "      <td>Colusa Alternative Home</td>\n",
       "      <td>Colusa Unified</td>\n",
       "      <td>Colusa</td>\n",
       "      <td>18.0</td>\n",
       "      <td>0.0</td>\n",
       "      <td>NaN</td>\n",
       "      <td>NaN</td>\n",
       "      <td>0.0</td>\n",
       "      <td>NaN</td>\n",
       "      <td>NaN</td>\n",
       "      <td>NaN</td>\n",
       "      <td>NaN</td>\n",
       "      <td>NaN</td>\n",
       "      <td>NaN</td>\n",
       "    </tr>\n",
       "    <tr>\n",
       "      <th>1</th>\n",
       "      <td>6.616061e+12</td>\n",
       "      <td>S</td>\n",
       "      <td>Maxwell Sr High</td>\n",
       "      <td>Maxwell Unified</td>\n",
       "      <td>Colusa</td>\n",
       "      <td>29.0</td>\n",
       "      <td>10.0</td>\n",
       "      <td>NaN</td>\n",
       "      <td>NaN</td>\n",
       "      <td>0.0</td>\n",
       "      <td>NaN</td>\n",
       "      <td>NaN</td>\n",
       "      <td>NaN</td>\n",
       "      <td>NaN</td>\n",
       "      <td>NaN</td>\n",
       "      <td>NaN</td>\n",
       "    </tr>\n",
       "    <tr>\n",
       "      <th>2</th>\n",
       "      <td>1.964733e+13</td>\n",
       "      <td>S</td>\n",
       "      <td>Belmont Senior High</td>\n",
       "      <td>Los Angeles Unified</td>\n",
       "      <td>Los Angeles</td>\n",
       "      <td>206.0</td>\n",
       "      <td>102.0</td>\n",
       "      <td>14.0</td>\n",
       "      <td>0.14</td>\n",
       "      <td>31.0</td>\n",
       "      <td>4.0</td>\n",
       "      <td>0.13</td>\n",
       "      <td>17</td>\n",
       "      <td>15</td>\n",
       "      <td>17</td>\n",
       "      <td>16</td>\n",
       "    </tr>\n",
       "    <tr>\n",
       "      <th>3</th>\n",
       "      <td>1.964733e+13</td>\n",
       "      <td>S</td>\n",
       "      <td>Canoga Park Senior High</td>\n",
       "      <td>Los Angeles Unified</td>\n",
       "      <td>Los Angeles</td>\n",
       "      <td>227.0</td>\n",
       "      <td>113.0</td>\n",
       "      <td>18.0</td>\n",
       "      <td>0.16</td>\n",
       "      <td>32.0</td>\n",
       "      <td>9.0</td>\n",
       "      <td>0.28</td>\n",
       "      <td>19</td>\n",
       "      <td>18</td>\n",
       "      <td>18</td>\n",
       "      <td>18</td>\n",
       "    </tr>\n",
       "    <tr>\n",
       "      <th>4</th>\n",
       "      <td>1.964733e+13</td>\n",
       "      <td>S</td>\n",
       "      <td>Whitman Continuation</td>\n",
       "      <td>Los Angeles Unified</td>\n",
       "      <td>Los Angeles</td>\n",
       "      <td>18.0</td>\n",
       "      <td>14.0</td>\n",
       "      <td>NaN</td>\n",
       "      <td>NaN</td>\n",
       "      <td>1.0</td>\n",
       "      <td>NaN</td>\n",
       "      <td>NaN</td>\n",
       "      <td>*</td>\n",
       "      <td>*</td>\n",
       "      <td>*</td>\n",
       "      <td>*</td>\n",
       "    </tr>\n",
       "  </tbody>\n",
       "</table>\n",
       "</div>"
      ],
      "text/plain": [
       "            CDS record_type                   school             district  \\\n",
       "0  6.615981e+12           S  Colusa Alternative Home       Colusa Unified   \n",
       "1  6.616061e+12           S          Maxwell Sr High      Maxwell Unified   \n",
       "2  1.964733e+13           S      Belmont Senior High  Los Angeles Unified   \n",
       "3  1.964733e+13           S  Canoga Park Senior High  Los Angeles Unified   \n",
       "4  1.964733e+13           S     Whitman Continuation  Los Angeles Unified   \n",
       "\n",
       "          city  enroll_12  sat_part  sat_count_pass  sat_rate_pass  act_part  \\\n",
       "0       Colusa       18.0       0.0             NaN            NaN       0.0   \n",
       "1       Colusa       29.0      10.0             NaN            NaN       0.0   \n",
       "2  Los Angeles      206.0     102.0            14.0           0.14      31.0   \n",
       "3  Los Angeles      227.0     113.0            18.0           0.16      32.0   \n",
       "4  Los Angeles       18.0      14.0             NaN            NaN       1.0   \n",
       "\n",
       "   act_count_over_20  act_rate_over_20 act_avg_read act_avg_eng act_avg_math  \\\n",
       "0                NaN               NaN          NaN         NaN          NaN   \n",
       "1                NaN               NaN          NaN         NaN          NaN   \n",
       "2                4.0              0.13           17          15           17   \n",
       "3                9.0              0.28           19          18           18   \n",
       "4                NaN               NaN            *           *            *   \n",
       "\n",
       "  act_avg_sci  \n",
       "0         NaN  \n",
       "1         NaN  \n",
       "2          16  \n",
       "3          18  \n",
       "4           *  "
      ]
     },
     "execution_count": 57,
     "metadata": {},
     "output_type": "execute_result"
    }
   ],
   "source": [
    "sat_act_19_ca.head()"
   ]
  },
  {
   "cell_type": "markdown",
   "id": "f2661416",
   "metadata": {},
   "source": [
    "- [x] Dropping ```sat_count_pass``` and ```act_count_over_20``` b/c I'll only analyze passing rates"
   ]
  },
  {
   "cell_type": "code",
   "execution_count": 58,
   "id": "31edd9ae",
   "metadata": {},
   "outputs": [],
   "source": [
    "sat_act_19_ca.drop(labels=['sat_count_pass', 'act_count_over_20'], axis=1, inplace=True)"
   ]
  },
  {
   "cell_type": "markdown",
   "id": "c6f08fcc",
   "metadata": {},
   "source": [
    "- [x] ```sat_rate_pass``` replacing NaN with mean"
   ]
  },
  {
   "cell_type": "code",
   "execution_count": 59,
   "id": "858859ef",
   "metadata": {},
   "outputs": [],
   "source": [
    "sat_act_19_ca.loc[sat_act_19_ca.sat_rate_pass.isnull() == True, 'sat_rate_pass'] = \\\n",
    "    round(sat_act_19_ca.sat_rate_pass.mean(), 2)"
   ]
  },
  {
   "cell_type": "markdown",
   "id": "f87996fa",
   "metadata": {},
   "source": [
    "- [x] ```act_rate_over_20``` replacing Nulls w/ mean "
   ]
  },
  {
   "cell_type": "code",
   "execution_count": 60,
   "id": "f1b3d553",
   "metadata": {},
   "outputs": [],
   "source": [
    "sat_act_19_ca.loc[sat_act_19_ca.act_rate_over_20.isnull() == True, 'act_rate_over_20'] = \\\n",
    "    round(sat_act_19_ca.act_rate_over_20.mean(), 2)"
   ]
  },
  {
   "cell_type": "markdown",
   "id": "e1fc960c",
   "metadata": {},
   "source": [
    "- [ ] Check for Nulls after changing NaNs to means"
   ]
  },
  {
   "cell_type": "code",
   "execution_count": 61,
   "id": "51ca5749",
   "metadata": {},
   "outputs": [
    {
     "data": {
      "text/plain": [
       "CDS                 float64\n",
       "record_type          object\n",
       "school               object\n",
       "district             object\n",
       "city                 object\n",
       "enroll_12           float64\n",
       "sat_part            float64\n",
       "sat_rate_pass       float64\n",
       "act_part            float64\n",
       "act_rate_over_20    float64\n",
       "act_avg_read         object\n",
       "act_avg_eng          object\n",
       "act_avg_math         object\n",
       "act_avg_sci          object\n",
       "dtype: object"
      ]
     },
     "execution_count": 61,
     "metadata": {},
     "output_type": "execute_result"
    }
   ],
   "source": [
    "sat_act_19_ca.dtypes"
   ]
  },
  {
   "cell_type": "code",
   "execution_count": 62,
   "id": "6ebc4002",
   "metadata": {},
   "outputs": [
    {
     "data": {
      "text/plain": [
       "CDS                   1\n",
       "record_type           1\n",
       "school              598\n",
       "district             59\n",
       "city                  1\n",
       "enroll_12             1\n",
       "sat_part             22\n",
       "sat_rate_pass         0\n",
       "act_part            292\n",
       "act_rate_over_20      0\n",
       "act_avg_read        648\n",
       "act_avg_eng         648\n",
       "act_avg_math        648\n",
       "act_avg_sci         648\n",
       "dtype: int64"
      ]
     },
     "execution_count": 62,
     "metadata": {},
     "output_type": "execute_result"
    }
   ],
   "source": [
    "sat_act_19_ca.isnull().sum()"
   ]
  },
  {
   "cell_type": "code",
   "execution_count": 63,
   "id": "f8abe657",
   "metadata": {},
   "outputs": [
    {
     "data": {
      "text/plain": [
       "(2601, 14)"
      ]
     },
     "execution_count": 63,
     "metadata": {},
     "output_type": "execute_result"
    }
   ],
   "source": [
    "sat_act_19_ca.shape"
   ]
  },
  {
   "cell_type": "markdown",
   "id": "15149119",
   "metadata": {},
   "source": [
    "- [x] Dropping row[2579] has Null's for every column"
   ]
  },
  {
   "cell_type": "code",
   "execution_count": 64,
   "id": "3cb1ad76",
   "metadata": {},
   "outputs": [],
   "source": [
    "sat_act_19_ca.drop([2579], inplace=True)"
   ]
  },
  {
   "cell_type": "code",
   "execution_count": 65,
   "id": "e2ea35b2",
   "metadata": {},
   "outputs": [],
   "source": [
    "# Districts\n",
    "# sat_act_19_ca[sat_act_19_ca.record_type == 'D']"
   ]
  },
  {
   "cell_type": "markdown",
   "id": "b437c759",
   "metadata": {},
   "source": [
    "- [x] Converting ```act_avg_read``` to float"
   ]
  },
  {
   "cell_type": "code",
   "execution_count": 66,
   "id": "58420cbf",
   "metadata": {},
   "outputs": [],
   "source": [
    "sat_act_19_ca.act_avg_read = [string_to_float(num) for num in sat_act_19_ca.act_avg_read]"
   ]
  },
  {
   "cell_type": "markdown",
   "id": "d42f52d3",
   "metadata": {},
   "source": [
    "- [x] Converting ```act_avg_eng``` to float"
   ]
  },
  {
   "cell_type": "code",
   "execution_count": 67,
   "id": "df31323c",
   "metadata": {},
   "outputs": [],
   "source": [
    "sat_act_19_ca.act_avg_eng = [string_to_float(num) for num in sat_act_19_ca.act_avg_eng]"
   ]
  },
  {
   "cell_type": "markdown",
   "id": "e6ee43da",
   "metadata": {},
   "source": [
    "- [x] Converting ```act_avg_math``` to float"
   ]
  },
  {
   "cell_type": "code",
   "execution_count": 68,
   "id": "99d91212",
   "metadata": {},
   "outputs": [],
   "source": [
    "sat_act_19_ca.act_avg_math = [string_to_float(num) for num in sat_act_19_ca.act_avg_math]"
   ]
  },
  {
   "cell_type": "markdown",
   "id": "6a388640",
   "metadata": {},
   "source": [
    "- [x] Converting ```act_avg_sci``` to float"
   ]
  },
  {
   "cell_type": "code",
   "execution_count": 69,
   "id": "1b58cfe2",
   "metadata": {},
   "outputs": [],
   "source": [
    "sat_act_19_ca.act_avg_sci = [string_to_float(num) for num in sat_act_19_ca.act_avg_sci]"
   ]
  },
  {
   "cell_type": "markdown",
   "id": "4eb26751",
   "metadata": {},
   "source": [
    "I chose not to replace Null scores because schools with fewer than 14 test takers didn't record results. I did not include these Null values when looking at summary statistics. "
   ]
  },
  {
   "cell_type": "markdown",
   "id": "d32b3c53",
   "metadata": {},
   "source": [
    "- [ ] Replacing Nulls ```act_avg_read``` to median if ```act_part``` > 0"
   ]
  },
  {
   "cell_type": "code",
   "execution_count": 70,
   "id": "eebffe34",
   "metadata": {},
   "outputs": [],
   "source": [
    "# sat_act_19_ca.loc[sat_act_19_ca.act_part > 0, 'act_avg_read'] = \\\n",
    "#     sat_act_19_ca[sat_act_19_ca.act_part > 0]['act_avg_read'].median()"
   ]
  },
  {
   "cell_type": "markdown",
   "id": "2a0fe13d",
   "metadata": {},
   "source": [
    "- [ ] Replacing Nulls ```act_avg_eng``` to median if ```act_part``` > 0"
   ]
  },
  {
   "cell_type": "code",
   "execution_count": 71,
   "id": "7adb8f23",
   "metadata": {},
   "outputs": [],
   "source": [
    "# sat_act_19_ca.loc[sat_act_19_ca.act_part > 0, 'act_avg_eng'] = \\\n",
    "#     sat_act_19_ca[sat_act_19_ca.act_part > 0]['act_avg_eng'].median()"
   ]
  },
  {
   "cell_type": "markdown",
   "id": "584f9deb",
   "metadata": {},
   "source": [
    "- [ ] Replacing Nulls ```act_avg_math``` to median if ```act_part``` > 0"
   ]
  },
  {
   "cell_type": "code",
   "execution_count": 72,
   "id": "4f47fa20",
   "metadata": {},
   "outputs": [],
   "source": [
    "# sat_act_19_ca.loc[sat_act_19_ca.act_part > 0, 'act_avg_math'] = \\\n",
    "#     sat_act_19_ca[sat_act_19_ca.act_part > 0]['act_avg_math'].median()"
   ]
  },
  {
   "cell_type": "markdown",
   "id": "968cb970",
   "metadata": {},
   "source": [
    "- [ ] Replacing Nulls ```act_avg_sci``` to median if ```act_part``` > 0"
   ]
  },
  {
   "cell_type": "code",
   "execution_count": 73,
   "id": "f27b8b07",
   "metadata": {},
   "outputs": [],
   "source": [
    "# sat_act_19_ca.loc[sat_act_19_ca.act_part > 0, 'act_avg_sci'] = \\\n",
    "#     sat_act_19_ca[sat_act_19_ca.act_part > 0]['act_avg_sci'].median()"
   ]
  },
  {
   "cell_type": "code",
   "execution_count": 74,
   "id": "6b6769d5",
   "metadata": {},
   "outputs": [],
   "source": [
    "# sat_act_19_ca[sat_act_19_ca.act_part > 0].head()"
   ]
  },
  {
   "cell_type": "markdown",
   "id": "a697546f",
   "metadata": {},
   "source": [
    "- [x] Creating ```avg_act_score``` from mean of individual scores to be able to sort df by this column"
   ]
  },
  {
   "cell_type": "code",
   "execution_count": 75,
   "id": "3338ba48",
   "metadata": {},
   "outputs": [],
   "source": [
    "sat_act_19_ca['act_avg_score'] = (sat_act_19_ca['act_avg_read'] + \\\n",
    "                                  sat_act_19_ca['act_avg_eng'] + \\\n",
    "                                  sat_act_19_ca['act_avg_math'] + \\\n",
    "                                  sat_act_19_ca['act_avg_sci']) /4"
   ]
  },
  {
   "cell_type": "markdown",
   "id": "a082cb1a",
   "metadata": {},
   "source": [
    "3. [x] Check for any obvious issues with the observations (keep in mind the minimum & maximum possible values for each test/subtest)."
   ]
  },
  {
   "cell_type": "code",
   "execution_count": 76,
   "id": "ecd73635",
   "metadata": {
    "scrolled": false
   },
   "outputs": [
    {
     "data": {
      "text/html": [
       "<div>\n",
       "<style scoped>\n",
       "    .dataframe tbody tr th:only-of-type {\n",
       "        vertical-align: middle;\n",
       "    }\n",
       "\n",
       "    .dataframe tbody tr th {\n",
       "        vertical-align: top;\n",
       "    }\n",
       "\n",
       "    .dataframe thead th {\n",
       "        text-align: right;\n",
       "    }\n",
       "</style>\n",
       "<table border=\"1\" class=\"dataframe\">\n",
       "  <thead>\n",
       "    <tr style=\"text-align: right;\">\n",
       "      <th></th>\n",
       "      <th>CDS</th>\n",
       "      <th>record_type</th>\n",
       "      <th>school</th>\n",
       "      <th>district</th>\n",
       "      <th>city</th>\n",
       "      <th>enroll_12</th>\n",
       "      <th>sat_part</th>\n",
       "      <th>sat_rate_pass</th>\n",
       "      <th>act_part</th>\n",
       "      <th>act_rate_over_20</th>\n",
       "      <th>act_avg_read</th>\n",
       "      <th>act_avg_eng</th>\n",
       "      <th>act_avg_math</th>\n",
       "      <th>act_avg_sci</th>\n",
       "      <th>act_avg_score</th>\n",
       "    </tr>\n",
       "  </thead>\n",
       "  <tbody>\n",
       "    <tr>\n",
       "      <th>0</th>\n",
       "      <td>6.615981e+12</td>\n",
       "      <td>S</td>\n",
       "      <td>Colusa Alternative Home</td>\n",
       "      <td>Colusa Unified</td>\n",
       "      <td>Colusa</td>\n",
       "      <td>18.0</td>\n",
       "      <td>0.0</td>\n",
       "      <td>0.43</td>\n",
       "      <td>0.0</td>\n",
       "      <td>0.53</td>\n",
       "      <td>NaN</td>\n",
       "      <td>NaN</td>\n",
       "      <td>NaN</td>\n",
       "      <td>NaN</td>\n",
       "      <td>NaN</td>\n",
       "    </tr>\n",
       "    <tr>\n",
       "      <th>1</th>\n",
       "      <td>6.616061e+12</td>\n",
       "      <td>S</td>\n",
       "      <td>Maxwell Sr High</td>\n",
       "      <td>Maxwell Unified</td>\n",
       "      <td>Colusa</td>\n",
       "      <td>29.0</td>\n",
       "      <td>10.0</td>\n",
       "      <td>0.43</td>\n",
       "      <td>0.0</td>\n",
       "      <td>0.53</td>\n",
       "      <td>NaN</td>\n",
       "      <td>NaN</td>\n",
       "      <td>NaN</td>\n",
       "      <td>NaN</td>\n",
       "      <td>NaN</td>\n",
       "    </tr>\n",
       "    <tr>\n",
       "      <th>2</th>\n",
       "      <td>1.964733e+13</td>\n",
       "      <td>S</td>\n",
       "      <td>Belmont Senior High</td>\n",
       "      <td>Los Angeles Unified</td>\n",
       "      <td>Los Angeles</td>\n",
       "      <td>206.0</td>\n",
       "      <td>102.0</td>\n",
       "      <td>0.14</td>\n",
       "      <td>31.0</td>\n",
       "      <td>0.13</td>\n",
       "      <td>17.0</td>\n",
       "      <td>15.0</td>\n",
       "      <td>17.0</td>\n",
       "      <td>16.0</td>\n",
       "      <td>16.25</td>\n",
       "    </tr>\n",
       "    <tr>\n",
       "      <th>3</th>\n",
       "      <td>1.964733e+13</td>\n",
       "      <td>S</td>\n",
       "      <td>Canoga Park Senior High</td>\n",
       "      <td>Los Angeles Unified</td>\n",
       "      <td>Los Angeles</td>\n",
       "      <td>227.0</td>\n",
       "      <td>113.0</td>\n",
       "      <td>0.16</td>\n",
       "      <td>32.0</td>\n",
       "      <td>0.28</td>\n",
       "      <td>19.0</td>\n",
       "      <td>18.0</td>\n",
       "      <td>18.0</td>\n",
       "      <td>18.0</td>\n",
       "      <td>18.25</td>\n",
       "    </tr>\n",
       "    <tr>\n",
       "      <th>4</th>\n",
       "      <td>1.964733e+13</td>\n",
       "      <td>S</td>\n",
       "      <td>Whitman Continuation</td>\n",
       "      <td>Los Angeles Unified</td>\n",
       "      <td>Los Angeles</td>\n",
       "      <td>18.0</td>\n",
       "      <td>14.0</td>\n",
       "      <td>0.43</td>\n",
       "      <td>1.0</td>\n",
       "      <td>0.53</td>\n",
       "      <td>NaN</td>\n",
       "      <td>NaN</td>\n",
       "      <td>NaN</td>\n",
       "      <td>NaN</td>\n",
       "      <td>NaN</td>\n",
       "    </tr>\n",
       "  </tbody>\n",
       "</table>\n",
       "</div>"
      ],
      "text/plain": [
       "            CDS record_type                   school             district  \\\n",
       "0  6.615981e+12           S  Colusa Alternative Home       Colusa Unified   \n",
       "1  6.616061e+12           S          Maxwell Sr High      Maxwell Unified   \n",
       "2  1.964733e+13           S      Belmont Senior High  Los Angeles Unified   \n",
       "3  1.964733e+13           S  Canoga Park Senior High  Los Angeles Unified   \n",
       "4  1.964733e+13           S     Whitman Continuation  Los Angeles Unified   \n",
       "\n",
       "          city  enroll_12  sat_part  sat_rate_pass  act_part  \\\n",
       "0       Colusa       18.0       0.0           0.43       0.0   \n",
       "1       Colusa       29.0      10.0           0.43       0.0   \n",
       "2  Los Angeles      206.0     102.0           0.14      31.0   \n",
       "3  Los Angeles      227.0     113.0           0.16      32.0   \n",
       "4  Los Angeles       18.0      14.0           0.43       1.0   \n",
       "\n",
       "   act_rate_over_20  act_avg_read  act_avg_eng  act_avg_math  act_avg_sci  \\\n",
       "0              0.53           NaN          NaN           NaN          NaN   \n",
       "1              0.53           NaN          NaN           NaN          NaN   \n",
       "2              0.13          17.0         15.0          17.0         16.0   \n",
       "3              0.28          19.0         18.0          18.0         18.0   \n",
       "4              0.53           NaN          NaN           NaN          NaN   \n",
       "\n",
       "   act_avg_score  \n",
       "0            NaN  \n",
       "1            NaN  \n",
       "2          16.25  \n",
       "3          18.25  \n",
       "4            NaN  "
      ]
     },
     "execution_count": 76,
     "metadata": {},
     "output_type": "execute_result"
    }
   ],
   "source": [
    "sat_act_19_ca.head()"
   ]
  },
  {
   "cell_type": "code",
   "execution_count": 77,
   "id": "50d25bbc",
   "metadata": {
    "scrolled": false
   },
   "outputs": [
    {
     "data": {
      "text/plain": [
       "CDS                 float64\n",
       "record_type          object\n",
       "school               object\n",
       "district             object\n",
       "city                 object\n",
       "enroll_12           float64\n",
       "sat_part            float64\n",
       "sat_rate_pass       float64\n",
       "act_part            float64\n",
       "act_rate_over_20    float64\n",
       "act_avg_read        float64\n",
       "act_avg_eng         float64\n",
       "act_avg_math        float64\n",
       "act_avg_sci         float64\n",
       "act_avg_score       float64\n",
       "dtype: object"
      ]
     },
     "execution_count": 77,
     "metadata": {},
     "output_type": "execute_result"
    }
   ],
   "source": [
    "sat_act_19_ca.dtypes"
   ]
  },
  {
   "cell_type": "markdown",
   "id": "71ca342e",
   "metadata": {},
   "source": [
    "---"
   ]
  },
  {
   "cell_type": "markdown",
   "id": "aee7f697",
   "metadata": {},
   "source": [
    "SAT ACT by College"
   ]
  },
  {
   "cell_type": "markdown",
   "id": "c88bbdb2",
   "metadata": {},
   "source": [
    "1. [x] DataFrame Heads"
   ]
  },
  {
   "cell_type": "code",
   "execution_count": 78,
   "id": "77dee294",
   "metadata": {
    "scrolled": true
   },
   "outputs": [
    {
     "data": {
      "text/html": [
       "<div>\n",
       "<style scoped>\n",
       "    .dataframe tbody tr th:only-of-type {\n",
       "        vertical-align: middle;\n",
       "    }\n",
       "\n",
       "    .dataframe tbody tr th {\n",
       "        vertical-align: top;\n",
       "    }\n",
       "\n",
       "    .dataframe thead th {\n",
       "        text-align: right;\n",
       "    }\n",
       "</style>\n",
       "<table border=\"1\" class=\"dataframe\">\n",
       "  <thead>\n",
       "    <tr style=\"text-align: right;\">\n",
       "      <th></th>\n",
       "      <th>School</th>\n",
       "      <th>Test Optional?</th>\n",
       "      <th>Applies to Class Year(s)</th>\n",
       "      <th>Policy Details</th>\n",
       "      <th>Number of Applicants</th>\n",
       "      <th>Accept Rate</th>\n",
       "      <th>SAT Total 25th-75th Percentile</th>\n",
       "      <th>ACT Total 25th-75th Percentile</th>\n",
       "    </tr>\n",
       "  </thead>\n",
       "  <tbody>\n",
       "    <tr>\n",
       "      <th>0</th>\n",
       "      <td>Stanford University</td>\n",
       "      <td>Yes</td>\n",
       "      <td>2021</td>\n",
       "      <td>Stanford has adopted a one-year test optional ...</td>\n",
       "      <td>47452</td>\n",
       "      <td>4.3%</td>\n",
       "      <td>1440-1570</td>\n",
       "      <td>32-35</td>\n",
       "    </tr>\n",
       "    <tr>\n",
       "      <th>1</th>\n",
       "      <td>Harvard College</td>\n",
       "      <td>Yes</td>\n",
       "      <td>2021</td>\n",
       "      <td>Harvard has adopted a one-year test optional p...</td>\n",
       "      <td>42749</td>\n",
       "      <td>4.7%</td>\n",
       "      <td>1460-1580</td>\n",
       "      <td>33-35</td>\n",
       "    </tr>\n",
       "    <tr>\n",
       "      <th>2</th>\n",
       "      <td>Princeton University</td>\n",
       "      <td>Yes</td>\n",
       "      <td>2021</td>\n",
       "      <td>Princeton has adopted a one-year test optional...</td>\n",
       "      <td>35370</td>\n",
       "      <td>5.5%</td>\n",
       "      <td>1440-1570</td>\n",
       "      <td>32-35</td>\n",
       "    </tr>\n",
       "    <tr>\n",
       "      <th>3</th>\n",
       "      <td>Columbia University</td>\n",
       "      <td>Yes</td>\n",
       "      <td>2021</td>\n",
       "      <td>Columbia has adopted a one-year test optional ...</td>\n",
       "      <td>40203</td>\n",
       "      <td>5.5%</td>\n",
       "      <td>1450-1560</td>\n",
       "      <td>33-35</td>\n",
       "    </tr>\n",
       "    <tr>\n",
       "      <th>4</th>\n",
       "      <td>Yale University</td>\n",
       "      <td>Yes</td>\n",
       "      <td>2021</td>\n",
       "      <td>Yale has adopted a one-year test optional poli...</td>\n",
       "      <td>36844</td>\n",
       "      <td>6.1%</td>\n",
       "      <td>1460-1570</td>\n",
       "      <td>33-35</td>\n",
       "    </tr>\n",
       "  </tbody>\n",
       "</table>\n",
       "</div>"
      ],
      "text/plain": [
       "                 School Test Optional? Applies to Class Year(s)  \\\n",
       "0   Stanford University            Yes                     2021   \n",
       "1       Harvard College            Yes                     2021   \n",
       "2  Princeton University            Yes                     2021   \n",
       "3   Columbia University            Yes                     2021   \n",
       "4       Yale University            Yes                     2021   \n",
       "\n",
       "                                      Policy Details  Number of Applicants  \\\n",
       "0  Stanford has adopted a one-year test optional ...                 47452   \n",
       "1  Harvard has adopted a one-year test optional p...                 42749   \n",
       "2  Princeton has adopted a one-year test optional...                 35370   \n",
       "3  Columbia has adopted a one-year test optional ...                 40203   \n",
       "4  Yale has adopted a one-year test optional poli...                 36844   \n",
       "\n",
       "  Accept Rate SAT Total 25th-75th Percentile ACT Total 25th-75th Percentile  \n",
       "0        4.3%                      1440-1570                          32-35  \n",
       "1        4.7%                      1460-1580                          33-35  \n",
       "2        5.5%                      1440-1570                          32-35  \n",
       "3        5.5%                      1450-1560                          33-35  \n",
       "4        6.1%                      1460-1570                          33-35  "
      ]
     },
     "execution_count": 78,
     "metadata": {},
     "output_type": "execute_result"
    }
   ],
   "source": [
    "sat_act_coll.head()"
   ]
  },
  {
   "cell_type": "markdown",
   "id": "51b12c14",
   "metadata": {},
   "source": [
    "2. [x] Check for missing values\n",
    "- ```Applies to Class Year(s)``` all schools that require test"
   ]
  },
  {
   "cell_type": "code",
   "execution_count": 79,
   "id": "5d5c36ec",
   "metadata": {},
   "outputs": [],
   "source": [
    "# sat_act_coll[sat_act_coll['Applies to Class Year(s)'].isnull()]"
   ]
  },
  {
   "cell_type": "code",
   "execution_count": 80,
   "id": "6eba9759",
   "metadata": {
    "scrolled": false
   },
   "outputs": [
    {
     "data": {
      "text/plain": [
       "School                             0\n",
       "Test Optional?                     0\n",
       "Applies to Class Year(s)          26\n",
       "Policy Details                     0\n",
       "Number of Applicants               0\n",
       "Accept Rate                        0\n",
       "SAT Total 25th-75th Percentile     0\n",
       "ACT Total 25th-75th Percentile     0\n",
       "dtype: int64"
      ]
     },
     "execution_count": 80,
     "metadata": {},
     "output_type": "execute_result"
    }
   ],
   "source": [
    "sat_act_coll.isnull().sum()"
   ]
  },
  {
   "cell_type": "markdown",
   "id": "a9220f3f",
   "metadata": {},
   "source": [
    "6. [x] Correcting Data Types"
   ]
  },
  {
   "cell_type": "markdown",
   "id": "37629121",
   "metadata": {},
   "source": [
    "- [x] Split up 25-75 percentiles, convert to int"
   ]
  },
  {
   "cell_type": "code",
   "execution_count": 81,
   "id": "0e17b965",
   "metadata": {},
   "outputs": [],
   "source": [
    "# Spliting SAT 25th-75th percentiles\n",
    "sat_act_coll['SAT Total 25th-75th Percentile'] = [string.split('-') for string in sat_act_coll['SAT Total 25th-75th Percentile']]"
   ]
  },
  {
   "cell_type": "code",
   "execution_count": 82,
   "id": "6cd930c1",
   "metadata": {},
   "outputs": [],
   "source": [
    "# Creating SAT 25th percentile column\n",
    "sat_act_coll['SAT 25%'] = [string_to_int(lst[0]) for lst in sat_act_coll['SAT Total 25th-75th Percentile']]"
   ]
  },
  {
   "cell_type": "code",
   "execution_count": 83,
   "id": "3c789ec1",
   "metadata": {},
   "outputs": [],
   "source": [
    "# Creating SAT 75th percentile column\n",
    "sat_act_coll['SAT 75%'] = [string_to_int(lst[1]) for lst in sat_act_coll['SAT Total 25th-75th Percentile']]"
   ]
  },
  {
   "cell_type": "markdown",
   "id": "a3a5aa85",
   "metadata": {},
   "source": [
    "7. [x] Dropping old ```SAT Total 25th-75th Percentile``` column"
   ]
  },
  {
   "cell_type": "code",
   "execution_count": 84,
   "id": "85cfeea7",
   "metadata": {},
   "outputs": [],
   "source": [
    "# deleting old SAT Total 25th-75th Percentile strings column\n",
    "del sat_act_coll['SAT Total 25th-75th Percentile']"
   ]
  },
  {
   "cell_type": "markdown",
   "id": "bbbe95fa",
   "metadata": {},
   "source": [
    "- [x] Split up 25-75 percentiles, convert to int"
   ]
  },
  {
   "cell_type": "code",
   "execution_count": 85,
   "id": "4eac21b8",
   "metadata": {},
   "outputs": [],
   "source": [
    "# Spliting ACT 25th-75th percentiles\n",
    "sat_act_coll['ACT Total 25th-75th Percentile'] = [string.split('-') for string in sat_act_coll['ACT Total 25th-75th Percentile']]"
   ]
  },
  {
   "cell_type": "code",
   "execution_count": 86,
   "id": "06afdca1",
   "metadata": {},
   "outputs": [],
   "source": [
    "# Creating ACT 25th percentile column\n",
    "sat_act_coll['ACT 25%'] = [string_to_int(lst[0]) for lst in sat_act_coll['ACT Total 25th-75th Percentile']]"
   ]
  },
  {
   "cell_type": "code",
   "execution_count": 87,
   "id": "86efb379",
   "metadata": {},
   "outputs": [],
   "source": [
    "# Creating ACT 75th percentile column\n",
    "sat_act_coll['ACT 75%'] = [string_to_int(lst[1]) for lst in sat_act_coll['ACT Total 25th-75th Percentile']]"
   ]
  },
  {
   "cell_type": "markdown",
   "id": "884da951",
   "metadata": {},
   "source": [
    "7. [x] Dropping old ```ACT Total 25th-75th Percentile``` column"
   ]
  },
  {
   "cell_type": "code",
   "execution_count": 88,
   "id": "3fe47b77",
   "metadata": {},
   "outputs": [],
   "source": [
    "# deleting old ACT Total 25th-75th Percentile strings column\n",
    "del sat_act_coll['ACT Total 25th-75th Percentile']"
   ]
  },
  {
   "cell_type": "markdown",
   "id": "2675ebc9",
   "metadata": {},
   "source": [
    "- [x] Converting ```Accept Rate``` to float percent"
   ]
  },
  {
   "cell_type": "code",
   "execution_count": 89,
   "id": "2ca8460e",
   "metadata": {},
   "outputs": [],
   "source": [
    "sat_act_coll['Accept Rate'] = [round(float_perc(num),3) for num in sat_act_coll['Accept Rate']]"
   ]
  },
  {
   "cell_type": "markdown",
   "id": "965aa833",
   "metadata": {},
   "source": [
    "6. [x] Renaming columns"
   ]
  },
  {
   "cell_type": "code",
   "execution_count": 90,
   "id": "c7bbcae6",
   "metadata": {
    "scrolled": true
   },
   "outputs": [
    {
     "data": {
      "text/plain": [
       "Index(['School', 'Test Optional?', 'Applies to Class Year(s)',\n",
       "       'Policy Details', 'Number of Applicants', 'Accept Rate', 'SAT 25%',\n",
       "       'SAT 75%', 'ACT 25%', 'ACT 75%'],\n",
       "      dtype='object')"
      ]
     },
     "execution_count": 90,
     "metadata": {},
     "output_type": "execute_result"
    }
   ],
   "source": [
    "sat_act_coll.columns"
   ]
  },
  {
   "cell_type": "code",
   "execution_count": 91,
   "id": "144e5317",
   "metadata": {},
   "outputs": [],
   "source": [
    "sat_act_coll.rename(columns={'School': 'school',\n",
    "                             'Test Optional?': 'optional',\n",
    "                             'Applies to Class Year(s)': 'year_apply',\n",
    "                             'Policy Details': 'policy',\n",
    "                             'Number of Applicants': 'num_applicants',\n",
    "                             'Accept Rate': 'accept_rate',\n",
    "                             'SAT 25%': 'sat_q1',\n",
    "                             'SAT 75%': 'sat_q3',\n",
    "                             'ACT 25%': 'act_q1',\n",
    "                             'ACT 75%': 'act_q3'\n",
    "                             }, inplace=True)"
   ]
  },
  {
   "cell_type": "markdown",
   "id": "361897d2",
   "metadata": {},
   "source": [
    "- [x] Creating ```test_bind``` column"
   ]
  },
  {
   "cell_type": "code",
   "execution_count": 92,
   "id": "4845955b",
   "metadata": {},
   "outputs": [],
   "source": [
    "sat_act_coll[\"test_blind\"] = sat_act_coll.policy.apply(lambda x: 1 if \"blind\" in x.lower() else 0)"
   ]
  },
  {
   "cell_type": "markdown",
   "id": "9ce33ba2",
   "metadata": {},
   "source": [
    "- [x] Binning colleges into tiers to analyze correlations"
   ]
  },
  {
   "cell_type": "code",
   "execution_count": 93,
   "id": "16eb27e1",
   "metadata": {},
   "outputs": [],
   "source": [
    "coll_accept_bins = [0, 0.05, 0.1, 0.15, 0.25, 0.50, 0.75, 1]\n",
    "coll_accept_bin_names = [1, 2, 3, 4, 5, 6, 7]\n",
    "sat_act_coll['accept_tiers'] = pd.cut(sat_act_coll.accept_rate, bins=coll_accept_bins, labels=coll_accept_bin_names)"
   ]
  },
  {
   "cell_type": "markdown",
   "id": "1e591c30",
   "metadata": {},
   "source": [
    "- [x] Creating q1 ACT & SAT percentages from their score scales "
   ]
  },
  {
   "cell_type": "code",
   "execution_count": 94,
   "id": "7540d9eb",
   "metadata": {},
   "outputs": [],
   "source": [
    "sat_act_coll['sat_q1_perc'] = [round(num/1600, 2) for num in sat_act_coll.sat_q1]\n",
    "sat_act_coll['act_q1_perc'] = [round(num/36, 2) for num in sat_act_coll.act_q1]"
   ]
  },
  {
   "cell_type": "markdown",
   "id": "36151ffb",
   "metadata": {},
   "source": [
    "- [x] Creating new df ```coll_tiers_nat_avg``` to compare Colleges Q1 grades with national averages"
   ]
  },
  {
   "cell_type": "code",
   "execution_count": 95,
   "id": "55d15a2e",
   "metadata": {},
   "outputs": [
    {
     "data": {
      "text/html": [
       "<div>\n",
       "<style scoped>\n",
       "    .dataframe tbody tr th:only-of-type {\n",
       "        vertical-align: middle;\n",
       "    }\n",
       "\n",
       "    .dataframe tbody tr th {\n",
       "        vertical-align: top;\n",
       "    }\n",
       "\n",
       "    .dataframe thead th {\n",
       "        text-align: right;\n",
       "    }\n",
       "</style>\n",
       "<table border=\"1\" class=\"dataframe\">\n",
       "  <thead>\n",
       "    <tr style=\"text-align: right;\">\n",
       "      <th></th>\n",
       "      <th>school</th>\n",
       "      <th>optional</th>\n",
       "      <th>year_apply</th>\n",
       "      <th>policy</th>\n",
       "      <th>num_applicants</th>\n",
       "      <th>accept_rate</th>\n",
       "      <th>sat_q1</th>\n",
       "      <th>sat_q3</th>\n",
       "      <th>act_q1</th>\n",
       "      <th>act_q3</th>\n",
       "      <th>test_blind</th>\n",
       "      <th>accept_tiers</th>\n",
       "      <th>sat_q1_perc</th>\n",
       "      <th>act_q1_perc</th>\n",
       "    </tr>\n",
       "  </thead>\n",
       "  <tbody>\n",
       "    <tr>\n",
       "      <th>0</th>\n",
       "      <td>Stanford University</td>\n",
       "      <td>Yes</td>\n",
       "      <td>2021</td>\n",
       "      <td>Stanford has adopted a one-year test optional ...</td>\n",
       "      <td>47452</td>\n",
       "      <td>0.043</td>\n",
       "      <td>1440.0</td>\n",
       "      <td>1570.0</td>\n",
       "      <td>32.0</td>\n",
       "      <td>35.0</td>\n",
       "      <td>0</td>\n",
       "      <td>1</td>\n",
       "      <td>0.90</td>\n",
       "      <td>0.89</td>\n",
       "    </tr>\n",
       "    <tr>\n",
       "      <th>1</th>\n",
       "      <td>Harvard College</td>\n",
       "      <td>Yes</td>\n",
       "      <td>2021</td>\n",
       "      <td>Harvard has adopted a one-year test optional p...</td>\n",
       "      <td>42749</td>\n",
       "      <td>0.047</td>\n",
       "      <td>1460.0</td>\n",
       "      <td>1580.0</td>\n",
       "      <td>33.0</td>\n",
       "      <td>35.0</td>\n",
       "      <td>0</td>\n",
       "      <td>1</td>\n",
       "      <td>0.91</td>\n",
       "      <td>0.92</td>\n",
       "    </tr>\n",
       "    <tr>\n",
       "      <th>2</th>\n",
       "      <td>Princeton University</td>\n",
       "      <td>Yes</td>\n",
       "      <td>2021</td>\n",
       "      <td>Princeton has adopted a one-year test optional...</td>\n",
       "      <td>35370</td>\n",
       "      <td>0.055</td>\n",
       "      <td>1440.0</td>\n",
       "      <td>1570.0</td>\n",
       "      <td>32.0</td>\n",
       "      <td>35.0</td>\n",
       "      <td>0</td>\n",
       "      <td>2</td>\n",
       "      <td>0.90</td>\n",
       "      <td>0.89</td>\n",
       "    </tr>\n",
       "    <tr>\n",
       "      <th>3</th>\n",
       "      <td>Columbia University</td>\n",
       "      <td>Yes</td>\n",
       "      <td>2021</td>\n",
       "      <td>Columbia has adopted a one-year test optional ...</td>\n",
       "      <td>40203</td>\n",
       "      <td>0.055</td>\n",
       "      <td>1450.0</td>\n",
       "      <td>1560.0</td>\n",
       "      <td>33.0</td>\n",
       "      <td>35.0</td>\n",
       "      <td>0</td>\n",
       "      <td>2</td>\n",
       "      <td>0.91</td>\n",
       "      <td>0.92</td>\n",
       "    </tr>\n",
       "    <tr>\n",
       "      <th>4</th>\n",
       "      <td>Yale University</td>\n",
       "      <td>Yes</td>\n",
       "      <td>2021</td>\n",
       "      <td>Yale has adopted a one-year test optional poli...</td>\n",
       "      <td>36844</td>\n",
       "      <td>0.061</td>\n",
       "      <td>1460.0</td>\n",
       "      <td>1570.0</td>\n",
       "      <td>33.0</td>\n",
       "      <td>35.0</td>\n",
       "      <td>0</td>\n",
       "      <td>2</td>\n",
       "      <td>0.91</td>\n",
       "      <td>0.92</td>\n",
       "    </tr>\n",
       "  </tbody>\n",
       "</table>\n",
       "</div>"
      ],
      "text/plain": [
       "                 school optional year_apply  \\\n",
       "0   Stanford University      Yes       2021   \n",
       "1       Harvard College      Yes       2021   \n",
       "2  Princeton University      Yes       2021   \n",
       "3   Columbia University      Yes       2021   \n",
       "4       Yale University      Yes       2021   \n",
       "\n",
       "                                              policy  num_applicants  \\\n",
       "0  Stanford has adopted a one-year test optional ...           47452   \n",
       "1  Harvard has adopted a one-year test optional p...           42749   \n",
       "2  Princeton has adopted a one-year test optional...           35370   \n",
       "3  Columbia has adopted a one-year test optional ...           40203   \n",
       "4  Yale has adopted a one-year test optional poli...           36844   \n",
       "\n",
       "   accept_rate  sat_q1  sat_q3  act_q1  act_q3  test_blind accept_tiers  \\\n",
       "0        0.043  1440.0  1570.0    32.0    35.0           0            1   \n",
       "1        0.047  1460.0  1580.0    33.0    35.0           0            1   \n",
       "2        0.055  1440.0  1570.0    32.0    35.0           0            2   \n",
       "3        0.055  1450.0  1560.0    33.0    35.0           0            2   \n",
       "4        0.061  1460.0  1570.0    33.0    35.0           0            2   \n",
       "\n",
       "   sat_q1_perc  act_q1_perc  \n",
       "0         0.90         0.89  \n",
       "1         0.91         0.92  \n",
       "2         0.90         0.89  \n",
       "3         0.91         0.92  \n",
       "4         0.91         0.92  "
      ]
     },
     "execution_count": 95,
     "metadata": {},
     "output_type": "execute_result"
    }
   ],
   "source": [
    "sat_act_coll.head()"
   ]
  },
  {
   "cell_type": "code",
   "execution_count": 96,
   "id": "bc444415",
   "metadata": {},
   "outputs": [],
   "source": [
    "sat_19_total_avg = round(sat_19.total_19.mean()/1600, 3)\n",
    "act_19_comp_avg = 20.7 / 36\n",
    "\n",
    "act_coll_tiers_diff_nat = pd.DataFrame(sat_act_coll.groupby(['accept_tiers'])\n",
    "                                      ['act_q1_perc'].mean() - act_19_comp_avg)\n",
    "act_coll_tiers_diff_nat.reset_index(inplace=True)\n",
    "\n",
    "sat_coll_tiers_diff_nat = pd.DataFrame(sat_act_coll.groupby(['accept_tiers'])\n",
    "                                      ['sat_q1'].mean()/1600) - sat_19_total_avg\n",
    "sat_coll_tiers_diff_nat.reset_index(inplace=True)\n",
    "\n",
    "coll_tiers_nat_avg = pd.merge(act_coll_tiers_diff_nat, sat_coll_tiers_diff_nat, how='outer')\n",
    "coll_tiers_nat_avg.rename(columns={'act_q1_perc': 'act_q1_diff', \n",
    "                                   'sat_q1': 'sat_q1_diff'}, inplace=True)"
   ]
  },
  {
   "cell_type": "code",
   "execution_count": 97,
   "id": "0ed822dc",
   "metadata": {},
   "outputs": [
    {
     "data": {
      "text/html": [
       "<div>\n",
       "<style scoped>\n",
       "    .dataframe tbody tr th:only-of-type {\n",
       "        vertical-align: middle;\n",
       "    }\n",
       "\n",
       "    .dataframe tbody tr th {\n",
       "        vertical-align: top;\n",
       "    }\n",
       "\n",
       "    .dataframe thead th {\n",
       "        text-align: right;\n",
       "    }\n",
       "</style>\n",
       "<table border=\"1\" class=\"dataframe\">\n",
       "  <thead>\n",
       "    <tr style=\"text-align: right;\">\n",
       "      <th></th>\n",
       "      <th>accept_tiers</th>\n",
       "      <th>act_q1_diff</th>\n",
       "      <th>sat_q1_diff</th>\n",
       "    </tr>\n",
       "  </thead>\n",
       "  <tbody>\n",
       "    <tr>\n",
       "      <th>0</th>\n",
       "      <td>1</td>\n",
       "      <td>0.330000</td>\n",
       "      <td>0.210250</td>\n",
       "    </tr>\n",
       "    <tr>\n",
       "      <th>1</th>\n",
       "      <td>2</td>\n",
       "      <td>0.325625</td>\n",
       "      <td>0.185771</td>\n",
       "    </tr>\n",
       "    <tr>\n",
       "      <th>2</th>\n",
       "      <td>3</td>\n",
       "      <td>0.265000</td>\n",
       "      <td>0.149313</td>\n",
       "    </tr>\n",
       "    <tr>\n",
       "      <th>3</th>\n",
       "      <td>4</td>\n",
       "      <td>0.265400</td>\n",
       "      <td>0.138775</td>\n",
       "    </tr>\n",
       "    <tr>\n",
       "      <th>4</th>\n",
       "      <td>5</td>\n",
       "      <td>0.169819</td>\n",
       "      <td>0.070119</td>\n",
       "    </tr>\n",
       "    <tr>\n",
       "      <th>5</th>\n",
       "      <td>6</td>\n",
       "      <td>0.063788</td>\n",
       "      <td>-0.002265</td>\n",
       "    </tr>\n",
       "    <tr>\n",
       "      <th>6</th>\n",
       "      <td>7</td>\n",
       "      <td>0.028854</td>\n",
       "      <td>-0.024850</td>\n",
       "    </tr>\n",
       "  </tbody>\n",
       "</table>\n",
       "</div>"
      ],
      "text/plain": [
       "  accept_tiers  act_q1_diff  sat_q1_diff\n",
       "0            1     0.330000     0.210250\n",
       "1            2     0.325625     0.185771\n",
       "2            3     0.265000     0.149313\n",
       "3            4     0.265400     0.138775\n",
       "4            5     0.169819     0.070119\n",
       "5            6     0.063788    -0.002265\n",
       "6            7     0.028854    -0.024850"
      ]
     },
     "execution_count": 97,
     "metadata": {},
     "output_type": "execute_result"
    }
   ],
   "source": [
    "coll_tiers_nat_avg"
   ]
  },
  {
   "cell_type": "markdown",
   "id": "5a5e8628",
   "metadata": {},
   "source": [
    "- [x] creating ```act_q1_avg``` and ```sat_q1_avg```"
   ]
  },
  {
   "cell_type": "code",
   "execution_count": 98,
   "id": "4b92d006",
   "metadata": {},
   "outputs": [],
   "source": [
    "act_coll_tiers_nat_avg = pd.DataFrame(round(sat_act_coll.groupby(['accept_tiers'])['act_q1'].mean()))\n",
    "act_coll_tiers_nat_avg.reset_index(inplace=True)\n",
    "\n",
    "sat_coll_tiers_nat_avg = pd.DataFrame(round(sat_act_coll.groupby(['accept_tiers'])['sat_q1'].mean()))\n",
    "sat_coll_tiers_nat_avg.reset_index(inplace=True)"
   ]
  },
  {
   "cell_type": "markdown",
   "id": "c69f94f2",
   "metadata": {},
   "source": [
    "- [x] Merging ```coll_tiers_nat_avg``` to show diff from national avg scores and avg q1 scores for each tier "
   ]
  },
  {
   "cell_type": "code",
   "execution_count": 99,
   "id": "042a2361",
   "metadata": {},
   "outputs": [],
   "source": [
    "coll_tiers_nat_avg = pd.merge(coll_tiers_nat_avg, act_coll_tiers_nat_avg).merge(sat_coll_tiers_nat_avg)"
   ]
  },
  {
   "cell_type": "code",
   "execution_count": 101,
   "id": "dce36f08",
   "metadata": {},
   "outputs": [
    {
     "data": {
      "text/html": [
       "<div>\n",
       "<style scoped>\n",
       "    .dataframe tbody tr th:only-of-type {\n",
       "        vertical-align: middle;\n",
       "    }\n",
       "\n",
       "    .dataframe tbody tr th {\n",
       "        vertical-align: top;\n",
       "    }\n",
       "\n",
       "    .dataframe thead th {\n",
       "        text-align: right;\n",
       "    }\n",
       "</style>\n",
       "<table border=\"1\" class=\"dataframe\">\n",
       "  <thead>\n",
       "    <tr style=\"text-align: right;\">\n",
       "      <th></th>\n",
       "      <th>accept_tiers</th>\n",
       "      <th>act_q1_diff</th>\n",
       "      <th>sat_q1_diff</th>\n",
       "      <th>act_q1</th>\n",
       "      <th>sat_q1</th>\n",
       "    </tr>\n",
       "  </thead>\n",
       "  <tbody>\n",
       "    <tr>\n",
       "      <th>0</th>\n",
       "      <td>1</td>\n",
       "      <td>0.330000</td>\n",
       "      <td>0.210250</td>\n",
       "      <td>32.0</td>\n",
       "      <td>1450.0</td>\n",
       "    </tr>\n",
       "    <tr>\n",
       "      <th>1</th>\n",
       "      <td>2</td>\n",
       "      <td>0.325625</td>\n",
       "      <td>0.185771</td>\n",
       "      <td>32.0</td>\n",
       "      <td>1411.0</td>\n",
       "    </tr>\n",
       "    <tr>\n",
       "      <th>2</th>\n",
       "      <td>3</td>\n",
       "      <td>0.265000</td>\n",
       "      <td>0.149313</td>\n",
       "      <td>30.0</td>\n",
       "      <td>1352.0</td>\n",
       "    </tr>\n",
       "    <tr>\n",
       "      <th>3</th>\n",
       "      <td>4</td>\n",
       "      <td>0.265400</td>\n",
       "      <td>0.138775</td>\n",
       "      <td>30.0</td>\n",
       "      <td>1336.0</td>\n",
       "    </tr>\n",
       "    <tr>\n",
       "      <th>4</th>\n",
       "      <td>5</td>\n",
       "      <td>0.169819</td>\n",
       "      <td>0.070119</td>\n",
       "      <td>27.0</td>\n",
       "      <td>1226.0</td>\n",
       "    </tr>\n",
       "  </tbody>\n",
       "</table>\n",
       "</div>"
      ],
      "text/plain": [
       "  accept_tiers  act_q1_diff  sat_q1_diff  act_q1  sat_q1\n",
       "0            1     0.330000     0.210250    32.0  1450.0\n",
       "1            2     0.325625     0.185771    32.0  1411.0\n",
       "2            3     0.265000     0.149313    30.0  1352.0\n",
       "3            4     0.265400     0.138775    30.0  1336.0\n",
       "4            5     0.169819     0.070119    27.0  1226.0"
      ]
     },
     "execution_count": 101,
     "metadata": {},
     "output_type": "execute_result"
    }
   ],
   "source": [
    "coll_tiers_nat_avg.head()"
   ]
  },
  {
   "cell_type": "code",
   "execution_count": 155,
   "id": "af8f8e15",
   "metadata": {
    "scrolled": true
   },
   "outputs": [],
   "source": [
    "# sat_act_coll.head()"
   ]
  },
  {
   "cell_type": "code",
   "execution_count": 156,
   "id": "49076c7b",
   "metadata": {
    "scrolled": true
   },
   "outputs": [],
   "source": [
    "# sat_act_coll.dtypes"
   ]
  },
  {
   "cell_type": "markdown",
   "id": "33fc2b28",
   "metadata": {},
   "source": [
    "---"
   ]
  },
  {
   "cell_type": "markdown",
   "id": "9d2796ba",
   "metadata": {},
   "source": [
    "# Exploratory Data Analysis"
   ]
  },
  {
   "cell_type": "markdown",
   "id": "e8445bb0",
   "metadata": {},
   "source": [
    "1. [x] Summary Statistics"
   ]
  },
  {
   "cell_type": "markdown",
   "id": "0a4d73f7",
   "metadata": {},
   "source": [
    "- [x] ```act_merged``` Summary Stats"
   ]
  },
  {
   "cell_type": "code",
   "execution_count": 105,
   "id": "16aada69",
   "metadata": {
    "scrolled": true
   },
   "outputs": [
    {
     "data": {
      "text/html": [
       "<div>\n",
       "<style scoped>\n",
       "    .dataframe tbody tr th:only-of-type {\n",
       "        vertical-align: middle;\n",
       "    }\n",
       "\n",
       "    .dataframe tbody tr th {\n",
       "        vertical-align: top;\n",
       "    }\n",
       "\n",
       "    .dataframe thead th {\n",
       "        text-align: right;\n",
       "    }\n",
       "</style>\n",
       "<table border=\"1\" class=\"dataframe\">\n",
       "  <thead>\n",
       "    <tr style=\"text-align: right;\">\n",
       "      <th></th>\n",
       "      <th>part_17</th>\n",
       "      <th>comp_17</th>\n",
       "      <th>part_18</th>\n",
       "      <th>comp_18</th>\n",
       "      <th>part_19</th>\n",
       "      <th>comp_19</th>\n",
       "    </tr>\n",
       "  </thead>\n",
       "  <tbody>\n",
       "    <tr>\n",
       "      <th>count</th>\n",
       "      <td>51.000000</td>\n",
       "      <td>50.000000</td>\n",
       "      <td>51.000000</td>\n",
       "      <td>51.000000</td>\n",
       "      <td>51.000000</td>\n",
       "      <td>51.000000</td>\n",
       "    </tr>\n",
       "    <tr>\n",
       "      <th>mean</th>\n",
       "      <td>0.652549</td>\n",
       "      <td>21.540000</td>\n",
       "      <td>0.617255</td>\n",
       "      <td>21.496078</td>\n",
       "      <td>0.586667</td>\n",
       "      <td>21.464706</td>\n",
       "    </tr>\n",
       "    <tr>\n",
       "      <th>std</th>\n",
       "      <td>0.321408</td>\n",
       "      <td>2.035902</td>\n",
       "      <td>0.340371</td>\n",
       "      <td>2.111583</td>\n",
       "      <td>0.345159</td>\n",
       "      <td>2.194523</td>\n",
       "    </tr>\n",
       "    <tr>\n",
       "      <th>min</th>\n",
       "      <td>0.080000</td>\n",
       "      <td>17.800000</td>\n",
       "      <td>0.070000</td>\n",
       "      <td>17.700000</td>\n",
       "      <td>0.060000</td>\n",
       "      <td>17.900000</td>\n",
       "    </tr>\n",
       "    <tr>\n",
       "      <th>25%</th>\n",
       "      <td>0.310000</td>\n",
       "      <td>19.800000</td>\n",
       "      <td>0.285000</td>\n",
       "      <td>19.950000</td>\n",
       "      <td>0.245000</td>\n",
       "      <td>19.800000</td>\n",
       "    </tr>\n",
       "    <tr>\n",
       "      <th>50%</th>\n",
       "      <td>0.690000</td>\n",
       "      <td>21.400000</td>\n",
       "      <td>0.660000</td>\n",
       "      <td>21.300000</td>\n",
       "      <td>0.540000</td>\n",
       "      <td>21.100000</td>\n",
       "    </tr>\n",
       "    <tr>\n",
       "      <th>75%</th>\n",
       "      <td>1.000000</td>\n",
       "      <td>23.600000</td>\n",
       "      <td>1.000000</td>\n",
       "      <td>23.650000</td>\n",
       "      <td>1.000000</td>\n",
       "      <td>23.700000</td>\n",
       "    </tr>\n",
       "    <tr>\n",
       "      <th>max</th>\n",
       "      <td>1.000000</td>\n",
       "      <td>25.500000</td>\n",
       "      <td>1.000000</td>\n",
       "      <td>25.600000</td>\n",
       "      <td>1.000000</td>\n",
       "      <td>25.500000</td>\n",
       "    </tr>\n",
       "  </tbody>\n",
       "</table>\n",
       "</div>"
      ],
      "text/plain": [
       "         part_17    comp_17    part_18    comp_18    part_19    comp_19\n",
       "count  51.000000  50.000000  51.000000  51.000000  51.000000  51.000000\n",
       "mean    0.652549  21.540000   0.617255  21.496078   0.586667  21.464706\n",
       "std     0.321408   2.035902   0.340371   2.111583   0.345159   2.194523\n",
       "min     0.080000  17.800000   0.070000  17.700000   0.060000  17.900000\n",
       "25%     0.310000  19.800000   0.285000  19.950000   0.245000  19.800000\n",
       "50%     0.690000  21.400000   0.660000  21.300000   0.540000  21.100000\n",
       "75%     1.000000  23.600000   1.000000  23.650000   1.000000  23.700000\n",
       "max     1.000000  25.500000   1.000000  25.600000   1.000000  25.500000"
      ]
     },
     "execution_count": 105,
     "metadata": {},
     "output_type": "execute_result"
    }
   ],
   "source": [
    "act_merged.describe()"
   ]
  },
  {
   "cell_type": "markdown",
   "id": "8fa3d6d1",
   "metadata": {},
   "source": [
    "- [x] ```sat_merged``` Summary Stats"
   ]
  },
  {
   "cell_type": "code",
   "execution_count": 106,
   "id": "15f46de1",
   "metadata": {
    "scrolled": true
   },
   "outputs": [
    {
     "data": {
      "text/html": [
       "<div>\n",
       "<style scoped>\n",
       "    .dataframe tbody tr th:only-of-type {\n",
       "        vertical-align: middle;\n",
       "    }\n",
       "\n",
       "    .dataframe tbody tr th {\n",
       "        vertical-align: top;\n",
       "    }\n",
       "\n",
       "    .dataframe thead th {\n",
       "        text-align: right;\n",
       "    }\n",
       "</style>\n",
       "<table border=\"1\" class=\"dataframe\">\n",
       "  <thead>\n",
       "    <tr style=\"text-align: right;\">\n",
       "      <th></th>\n",
       "      <th>part_17</th>\n",
       "      <th>EBRW_17</th>\n",
       "      <th>math_17</th>\n",
       "      <th>total_17</th>\n",
       "      <th>part_18</th>\n",
       "      <th>EBRW_18</th>\n",
       "      <th>math_18</th>\n",
       "      <th>total_18</th>\n",
       "      <th>part_19</th>\n",
       "      <th>EBRW_19</th>\n",
       "      <th>math_19</th>\n",
       "      <th>total_19</th>\n",
       "    </tr>\n",
       "  </thead>\n",
       "  <tbody>\n",
       "    <tr>\n",
       "      <th>count</th>\n",
       "      <td>51.000000</td>\n",
       "      <td>51.000000</td>\n",
       "      <td>51.000000</td>\n",
       "      <td>51.000000</td>\n",
       "      <td>51.000000</td>\n",
       "      <td>51.000000</td>\n",
       "      <td>51.000000</td>\n",
       "      <td>51.000000</td>\n",
       "      <td>51.000000</td>\n",
       "      <td>51.000000</td>\n",
       "      <td>51.000000</td>\n",
       "      <td>51.000000</td>\n",
       "    </tr>\n",
       "    <tr>\n",
       "      <th>mean</th>\n",
       "      <td>0.398039</td>\n",
       "      <td>569.117647</td>\n",
       "      <td>547.627451</td>\n",
       "      <td>1126.098039</td>\n",
       "      <td>0.457451</td>\n",
       "      <td>563.686275</td>\n",
       "      <td>556.235294</td>\n",
       "      <td>1120.019608</td>\n",
       "      <td>0.490588</td>\n",
       "      <td>560.803922</td>\n",
       "      <td>552.196078</td>\n",
       "      <td>1113.078431</td>\n",
       "    </tr>\n",
       "    <tr>\n",
       "      <th>std</th>\n",
       "      <td>0.352766</td>\n",
       "      <td>45.666901</td>\n",
       "      <td>84.909119</td>\n",
       "      <td>92.494812</td>\n",
       "      <td>0.373143</td>\n",
       "      <td>47.502627</td>\n",
       "      <td>47.772623</td>\n",
       "      <td>94.155083</td>\n",
       "      <td>0.387476</td>\n",
       "      <td>46.248035</td>\n",
       "      <td>51.290553</td>\n",
       "      <td>97.197910</td>\n",
       "    </tr>\n",
       "    <tr>\n",
       "      <th>min</th>\n",
       "      <td>0.020000</td>\n",
       "      <td>482.000000</td>\n",
       "      <td>52.000000</td>\n",
       "      <td>950.000000</td>\n",
       "      <td>0.020000</td>\n",
       "      <td>480.000000</td>\n",
       "      <td>480.000000</td>\n",
       "      <td>977.000000</td>\n",
       "      <td>0.020000</td>\n",
       "      <td>483.000000</td>\n",
       "      <td>460.000000</td>\n",
       "      <td>943.000000</td>\n",
       "    </tr>\n",
       "    <tr>\n",
       "      <th>25%</th>\n",
       "      <td>0.040000</td>\n",
       "      <td>533.500000</td>\n",
       "      <td>522.000000</td>\n",
       "      <td>1055.500000</td>\n",
       "      <td>0.045000</td>\n",
       "      <td>534.500000</td>\n",
       "      <td>522.500000</td>\n",
       "      <td>1057.500000</td>\n",
       "      <td>0.055000</td>\n",
       "      <td>527.500000</td>\n",
       "      <td>511.500000</td>\n",
       "      <td>1038.000000</td>\n",
       "    </tr>\n",
       "    <tr>\n",
       "      <th>50%</th>\n",
       "      <td>0.380000</td>\n",
       "      <td>559.000000</td>\n",
       "      <td>548.000000</td>\n",
       "      <td>1107.000000</td>\n",
       "      <td>0.520000</td>\n",
       "      <td>552.000000</td>\n",
       "      <td>544.000000</td>\n",
       "      <td>1098.000000</td>\n",
       "      <td>0.540000</td>\n",
       "      <td>550.000000</td>\n",
       "      <td>546.000000</td>\n",
       "      <td>1097.000000</td>\n",
       "    </tr>\n",
       "    <tr>\n",
       "      <th>75%</th>\n",
       "      <td>0.660000</td>\n",
       "      <td>613.000000</td>\n",
       "      <td>599.000000</td>\n",
       "      <td>1212.000000</td>\n",
       "      <td>0.775000</td>\n",
       "      <td>610.500000</td>\n",
       "      <td>593.500000</td>\n",
       "      <td>1204.000000</td>\n",
       "      <td>0.820000</td>\n",
       "      <td>612.000000</td>\n",
       "      <td>599.000000</td>\n",
       "      <td>1210.000000</td>\n",
       "    </tr>\n",
       "    <tr>\n",
       "      <th>max</th>\n",
       "      <td>1.000000</td>\n",
       "      <td>644.000000</td>\n",
       "      <td>651.000000</td>\n",
       "      <td>1295.000000</td>\n",
       "      <td>1.000000</td>\n",
       "      <td>643.000000</td>\n",
       "      <td>655.000000</td>\n",
       "      <td>1298.000000</td>\n",
       "      <td>1.000000</td>\n",
       "      <td>636.000000</td>\n",
       "      <td>648.000000</td>\n",
       "      <td>1284.000000</td>\n",
       "    </tr>\n",
       "  </tbody>\n",
       "</table>\n",
       "</div>"
      ],
      "text/plain": [
       "         part_17     EBRW_17     math_17     total_17    part_18     EBRW_18  \\\n",
       "count  51.000000   51.000000   51.000000    51.000000  51.000000   51.000000   \n",
       "mean    0.398039  569.117647  547.627451  1126.098039   0.457451  563.686275   \n",
       "std     0.352766   45.666901   84.909119    92.494812   0.373143   47.502627   \n",
       "min     0.020000  482.000000   52.000000   950.000000   0.020000  480.000000   \n",
       "25%     0.040000  533.500000  522.000000  1055.500000   0.045000  534.500000   \n",
       "50%     0.380000  559.000000  548.000000  1107.000000   0.520000  552.000000   \n",
       "75%     0.660000  613.000000  599.000000  1212.000000   0.775000  610.500000   \n",
       "max     1.000000  644.000000  651.000000  1295.000000   1.000000  643.000000   \n",
       "\n",
       "          math_18     total_18    part_19     EBRW_19     math_19     total_19  \n",
       "count   51.000000    51.000000  51.000000   51.000000   51.000000    51.000000  \n",
       "mean   556.235294  1120.019608   0.490588  560.803922  552.196078  1113.078431  \n",
       "std     47.772623    94.155083   0.387476   46.248035   51.290553    97.197910  \n",
       "min    480.000000   977.000000   0.020000  483.000000  460.000000   943.000000  \n",
       "25%    522.500000  1057.500000   0.055000  527.500000  511.500000  1038.000000  \n",
       "50%    544.000000  1098.000000   0.540000  550.000000  546.000000  1097.000000  \n",
       "75%    593.500000  1204.000000   0.820000  612.000000  599.000000  1210.000000  \n",
       "max    655.000000  1298.000000   1.000000  636.000000  648.000000  1284.000000  "
      ]
     },
     "execution_count": 106,
     "metadata": {},
     "output_type": "execute_result"
    }
   ],
   "source": [
    "sat_merged.describe()"
   ]
  },
  {
   "cell_type": "markdown",
   "id": "7727cd43",
   "metadata": {},
   "source": [
    "- [x] ```sat_act_19_ca``` Summary Stats"
   ]
  },
  {
   "cell_type": "code",
   "execution_count": 107,
   "id": "41a406fb",
   "metadata": {
    "scrolled": true
   },
   "outputs": [
    {
     "data": {
      "text/html": [
       "<div>\n",
       "<style scoped>\n",
       "    .dataframe tbody tr th:only-of-type {\n",
       "        vertical-align: middle;\n",
       "    }\n",
       "\n",
       "    .dataframe tbody tr th {\n",
       "        vertical-align: top;\n",
       "    }\n",
       "\n",
       "    .dataframe thead th {\n",
       "        text-align: right;\n",
       "    }\n",
       "</style>\n",
       "<table border=\"1\" class=\"dataframe\">\n",
       "  <thead>\n",
       "    <tr style=\"text-align: right;\">\n",
       "      <th></th>\n",
       "      <th>CDS</th>\n",
       "      <th>enroll_12</th>\n",
       "      <th>sat_part</th>\n",
       "      <th>sat_rate_pass</th>\n",
       "      <th>act_part</th>\n",
       "      <th>act_rate_over_20</th>\n",
       "      <th>act_avg_read</th>\n",
       "      <th>act_avg_eng</th>\n",
       "      <th>act_avg_math</th>\n",
       "      <th>act_avg_sci</th>\n",
       "      <th>act_avg_score</th>\n",
       "    </tr>\n",
       "  </thead>\n",
       "  <tbody>\n",
       "    <tr>\n",
       "      <th>count</th>\n",
       "      <td>2.600000e+03</td>\n",
       "      <td>2600.000000</td>\n",
       "      <td>2579.000000</td>\n",
       "      <td>2600.000000</td>\n",
       "      <td>2309.000000</td>\n",
       "      <td>2600.000000</td>\n",
       "      <td>1421.000000</td>\n",
       "      <td>1421.000000</td>\n",
       "      <td>1421.000000</td>\n",
       "      <td>1421.000000</td>\n",
       "      <td>1421.000000</td>\n",
       "    </tr>\n",
       "    <tr>\n",
       "      <th>mean</th>\n",
       "      <td>2.911672e+13</td>\n",
       "      <td>742.768462</td>\n",
       "      <td>264.274137</td>\n",
       "      <td>0.432504</td>\n",
       "      <td>143.182763</td>\n",
       "      <td>0.527973</td>\n",
       "      <td>22.075299</td>\n",
       "      <td>21.204082</td>\n",
       "      <td>21.416608</td>\n",
       "      <td>21.356791</td>\n",
       "      <td>21.513195</td>\n",
       "    </tr>\n",
       "    <tr>\n",
       "      <th>std</th>\n",
       "      <td>1.429376e+13</td>\n",
       "      <td>10055.067714</td>\n",
       "      <td>3568.205236</td>\n",
       "      <td>0.186246</td>\n",
       "      <td>1816.545548</td>\n",
       "      <td>0.189160</td>\n",
       "      <td>3.673367</td>\n",
       "      <td>4.045587</td>\n",
       "      <td>3.380492</td>\n",
       "      <td>3.210470</td>\n",
       "      <td>3.530420</td>\n",
       "    </tr>\n",
       "    <tr>\n",
       "      <th>min</th>\n",
       "      <td>0.000000e+00</td>\n",
       "      <td>0.000000</td>\n",
       "      <td>0.000000</td>\n",
       "      <td>0.000000</td>\n",
       "      <td>0.000000</td>\n",
       "      <td>0.000000</td>\n",
       "      <td>12.000000</td>\n",
       "      <td>10.000000</td>\n",
       "      <td>14.000000</td>\n",
       "      <td>12.000000</td>\n",
       "      <td>12.000000</td>\n",
       "    </tr>\n",
       "    <tr>\n",
       "      <th>25%</th>\n",
       "      <td>1.964725e+13</td>\n",
       "      <td>63.000000</td>\n",
       "      <td>5.000000</td>\n",
       "      <td>0.330000</td>\n",
       "      <td>3.000000</td>\n",
       "      <td>0.500000</td>\n",
       "      <td>19.000000</td>\n",
       "      <td>18.000000</td>\n",
       "      <td>19.000000</td>\n",
       "      <td>19.000000</td>\n",
       "      <td>18.750000</td>\n",
       "    </tr>\n",
       "    <tr>\n",
       "      <th>50%</th>\n",
       "      <td>3.066597e+13</td>\n",
       "      <td>168.500000</td>\n",
       "      <td>55.000000</td>\n",
       "      <td>0.430000</td>\n",
       "      <td>30.000000</td>\n",
       "      <td>0.530000</td>\n",
       "      <td>22.000000</td>\n",
       "      <td>21.000000</td>\n",
       "      <td>21.000000</td>\n",
       "      <td>21.000000</td>\n",
       "      <td>21.500000</td>\n",
       "    </tr>\n",
       "    <tr>\n",
       "      <th>75%</th>\n",
       "      <td>3.777107e+13</td>\n",
       "      <td>459.000000</td>\n",
       "      <td>161.000000</td>\n",
       "      <td>0.520000</td>\n",
       "      <td>86.000000</td>\n",
       "      <td>0.580000</td>\n",
       "      <td>25.000000</td>\n",
       "      <td>24.000000</td>\n",
       "      <td>24.000000</td>\n",
       "      <td>24.000000</td>\n",
       "      <td>24.000000</td>\n",
       "    </tr>\n",
       "    <tr>\n",
       "      <th>max</th>\n",
       "      <td>5.872770e+13</td>\n",
       "      <td>489650.000000</td>\n",
       "      <td>170411.000000</td>\n",
       "      <td>1.000000</td>\n",
       "      <td>82668.000000</td>\n",
       "      <td>1.000000</td>\n",
       "      <td>32.000000</td>\n",
       "      <td>32.000000</td>\n",
       "      <td>32.000000</td>\n",
       "      <td>31.000000</td>\n",
       "      <td>31.750000</td>\n",
       "    </tr>\n",
       "  </tbody>\n",
       "</table>\n",
       "</div>"
      ],
      "text/plain": [
       "                CDS      enroll_12       sat_part  sat_rate_pass  \\\n",
       "count  2.600000e+03    2600.000000    2579.000000    2600.000000   \n",
       "mean   2.911672e+13     742.768462     264.274137       0.432504   \n",
       "std    1.429376e+13   10055.067714    3568.205236       0.186246   \n",
       "min    0.000000e+00       0.000000       0.000000       0.000000   \n",
       "25%    1.964725e+13      63.000000       5.000000       0.330000   \n",
       "50%    3.066597e+13     168.500000      55.000000       0.430000   \n",
       "75%    3.777107e+13     459.000000     161.000000       0.520000   \n",
       "max    5.872770e+13  489650.000000  170411.000000       1.000000   \n",
       "\n",
       "           act_part  act_rate_over_20  act_avg_read  act_avg_eng  \\\n",
       "count   2309.000000       2600.000000   1421.000000  1421.000000   \n",
       "mean     143.182763          0.527973     22.075299    21.204082   \n",
       "std     1816.545548          0.189160      3.673367     4.045587   \n",
       "min        0.000000          0.000000     12.000000    10.000000   \n",
       "25%        3.000000          0.500000     19.000000    18.000000   \n",
       "50%       30.000000          0.530000     22.000000    21.000000   \n",
       "75%       86.000000          0.580000     25.000000    24.000000   \n",
       "max    82668.000000          1.000000     32.000000    32.000000   \n",
       "\n",
       "       act_avg_math  act_avg_sci  act_avg_score  \n",
       "count   1421.000000  1421.000000    1421.000000  \n",
       "mean      21.416608    21.356791      21.513195  \n",
       "std        3.380492     3.210470       3.530420  \n",
       "min       14.000000    12.000000      12.000000  \n",
       "25%       19.000000    19.000000      18.750000  \n",
       "50%       21.000000    21.000000      21.500000  \n",
       "75%       24.000000    24.000000      24.000000  \n",
       "max       32.000000    31.000000      31.750000  "
      ]
     },
     "execution_count": 107,
     "metadata": {},
     "output_type": "execute_result"
    }
   ],
   "source": [
    "sat_act_19_ca.describe()"
   ]
  },
  {
   "cell_type": "markdown",
   "id": "74b9c861",
   "metadata": {},
   "source": [
    "- [x] ```sat_19_maj``` Summary Stats"
   ]
  },
  {
   "cell_type": "markdown",
   "id": "926181de",
   "metadata": {},
   "source": [
    "- [x] ```sat_act_coll``` Summary Stats"
   ]
  },
  {
   "cell_type": "code",
   "execution_count": 108,
   "id": "763d5a40",
   "metadata": {
    "scrolled": true
   },
   "outputs": [
    {
     "data": {
      "text/html": [
       "<div>\n",
       "<style scoped>\n",
       "    .dataframe tbody tr th:only-of-type {\n",
       "        vertical-align: middle;\n",
       "    }\n",
       "\n",
       "    .dataframe tbody tr th {\n",
       "        vertical-align: top;\n",
       "    }\n",
       "\n",
       "    .dataframe thead th {\n",
       "        text-align: right;\n",
       "    }\n",
       "</style>\n",
       "<table border=\"1\" class=\"dataframe\">\n",
       "  <thead>\n",
       "    <tr style=\"text-align: right;\">\n",
       "      <th></th>\n",
       "      <th>num_applicants</th>\n",
       "      <th>accept_rate</th>\n",
       "      <th>sat_q1</th>\n",
       "      <th>sat_q3</th>\n",
       "      <th>act_q1</th>\n",
       "      <th>act_q3</th>\n",
       "      <th>test_blind</th>\n",
       "      <th>sat_q1_perc</th>\n",
       "      <th>act_q1_perc</th>\n",
       "    </tr>\n",
       "  </thead>\n",
       "  <tbody>\n",
       "    <tr>\n",
       "      <th>count</th>\n",
       "      <td>416.000000</td>\n",
       "      <td>416.000000</td>\n",
       "      <td>405.000000</td>\n",
       "      <td>410.000000</td>\n",
       "      <td>409.000000</td>\n",
       "      <td>408.000000</td>\n",
       "      <td>416.000000</td>\n",
       "      <td>405.000000</td>\n",
       "      <td>409.000000</td>\n",
       "    </tr>\n",
       "    <tr>\n",
       "      <th>mean</th>\n",
       "      <td>17481.759615</td>\n",
       "      <td>0.557034</td>\n",
       "      <td>1163.879012</td>\n",
       "      <td>1358.892683</td>\n",
       "      <td>24.726161</td>\n",
       "      <td>29.904412</td>\n",
       "      <td>0.072115</td>\n",
       "      <td>0.727481</td>\n",
       "      <td>0.686797</td>\n",
       "    </tr>\n",
       "    <tr>\n",
       "      <th>std</th>\n",
       "      <td>17447.621897</td>\n",
       "      <td>0.242117</td>\n",
       "      <td>126.276620</td>\n",
       "      <td>111.431443</td>\n",
       "      <td>4.124095</td>\n",
       "      <td>3.153436</td>\n",
       "      <td>0.258990</td>\n",
       "      <td>0.078973</td>\n",
       "      <td>0.114690</td>\n",
       "    </tr>\n",
       "    <tr>\n",
       "      <th>min</th>\n",
       "      <td>211.000000</td>\n",
       "      <td>0.043000</td>\n",
       "      <td>793.000000</td>\n",
       "      <td>1050.000000</td>\n",
       "      <td>15.000000</td>\n",
       "      <td>19.000000</td>\n",
       "      <td>0.000000</td>\n",
       "      <td>0.500000</td>\n",
       "      <td>0.420000</td>\n",
       "    </tr>\n",
       "    <tr>\n",
       "      <th>25%</th>\n",
       "      <td>5313.000000</td>\n",
       "      <td>0.376250</td>\n",
       "      <td>1070.000000</td>\n",
       "      <td>1270.000000</td>\n",
       "      <td>22.000000</td>\n",
       "      <td>28.000000</td>\n",
       "      <td>0.000000</td>\n",
       "      <td>0.670000</td>\n",
       "      <td>0.610000</td>\n",
       "    </tr>\n",
       "    <tr>\n",
       "      <th>50%</th>\n",
       "      <td>11622.000000</td>\n",
       "      <td>0.613000</td>\n",
       "      <td>1150.000000</td>\n",
       "      <td>1350.000000</td>\n",
       "      <td>24.000000</td>\n",
       "      <td>30.000000</td>\n",
       "      <td>0.000000</td>\n",
       "      <td>0.720000</td>\n",
       "      <td>0.670000</td>\n",
       "    </tr>\n",
       "    <tr>\n",
       "      <th>75%</th>\n",
       "      <td>23599.750000</td>\n",
       "      <td>0.742250</td>\n",
       "      <td>1250.000000</td>\n",
       "      <td>1440.000000</td>\n",
       "      <td>28.000000</td>\n",
       "      <td>32.000000</td>\n",
       "      <td>0.000000</td>\n",
       "      <td>0.780000</td>\n",
       "      <td>0.780000</td>\n",
       "    </tr>\n",
       "    <tr>\n",
       "      <th>max</th>\n",
       "      <td>111322.000000</td>\n",
       "      <td>0.999000</td>\n",
       "      <td>1490.000000</td>\n",
       "      <td>1580.000000</td>\n",
       "      <td>35.000000</td>\n",
       "      <td>36.000000</td>\n",
       "      <td>1.000000</td>\n",
       "      <td>0.930000</td>\n",
       "      <td>0.970000</td>\n",
       "    </tr>\n",
       "  </tbody>\n",
       "</table>\n",
       "</div>"
      ],
      "text/plain": [
       "       num_applicants  accept_rate       sat_q1       sat_q3      act_q1  \\\n",
       "count      416.000000   416.000000   405.000000   410.000000  409.000000   \n",
       "mean     17481.759615     0.557034  1163.879012  1358.892683   24.726161   \n",
       "std      17447.621897     0.242117   126.276620   111.431443    4.124095   \n",
       "min        211.000000     0.043000   793.000000  1050.000000   15.000000   \n",
       "25%       5313.000000     0.376250  1070.000000  1270.000000   22.000000   \n",
       "50%      11622.000000     0.613000  1150.000000  1350.000000   24.000000   \n",
       "75%      23599.750000     0.742250  1250.000000  1440.000000   28.000000   \n",
       "max     111322.000000     0.999000  1490.000000  1580.000000   35.000000   \n",
       "\n",
       "           act_q3  test_blind  sat_q1_perc  act_q1_perc  \n",
       "count  408.000000  416.000000   405.000000   409.000000  \n",
       "mean    29.904412    0.072115     0.727481     0.686797  \n",
       "std      3.153436    0.258990     0.078973     0.114690  \n",
       "min     19.000000    0.000000     0.500000     0.420000  \n",
       "25%     28.000000    0.000000     0.670000     0.610000  \n",
       "50%     30.000000    0.000000     0.720000     0.670000  \n",
       "75%     32.000000    0.000000     0.780000     0.780000  \n",
       "max     36.000000    1.000000     0.930000     0.970000  "
      ]
     },
     "execution_count": 108,
     "metadata": {},
     "output_type": "execute_result"
    }
   ],
   "source": [
    "sat_act_coll.describe()"
   ]
  },
  {
   "cell_type": "markdown",
   "id": "9885e08d",
   "metadata": {},
   "source": [
    "2. [x] Use a **dictionary comprehension** to apply the standard deviation function you create in part 1 to each numeric column in the dataframe.  **No loops**.\n",
    "    - Assign the output to variable `sd` as a dictionary where: \n",
    "        - Each column name is now a key \n",
    "        - That standard deviation of the column is the value \n",
    "        - *Example Output :* `{'ACT_Math': 120, 'ACT_Reading': 120, ...}`"
   ]
  },
  {
   "cell_type": "code",
   "execution_count": 109,
   "id": "92eda9ba",
   "metadata": {},
   "outputs": [
    {
     "data": {
      "text/plain": [
       "{'part_17': 0.318,\n",
       " 'comp_17': 2.015,\n",
       " 'part_18': 0.337,\n",
       " 'comp_18': 2.091,\n",
       " 'part_19': 0.342,\n",
       " 'comp_19': 2.173}"
      ]
     },
     "execution_count": 109,
     "metadata": {},
     "output_type": "execute_result"
    }
   ],
   "source": [
    "# ACT 2017, 2018, 2019 Std Dev\n",
    "act_merged_sd = {key: std_dev(item.dropna()) for key, item in \\\n",
    "                    act_merged.select_dtypes(include = ['float', 'int']).items()} \n",
    "act_merged_sd"
   ]
  },
  {
   "cell_type": "code",
   "execution_count": 110,
   "id": "e8dcebcf",
   "metadata": {
    "scrolled": true
   },
   "outputs": [
    {
     "data": {
      "text/plain": [
       "{'part_17': 0.349,\n",
       " 'EBRW_17': 45.217,\n",
       " 'math_17': 84.073,\n",
       " 'total_17': 91.584,\n",
       " 'part_18': 0.369,\n",
       " 'EBRW_18': 47.035,\n",
       " 'math_18': 47.302,\n",
       " 'total_18': 93.227,\n",
       " 'part_19': 0.384,\n",
       " 'EBRW_19': 45.792,\n",
       " 'math_19': 50.785,\n",
       " 'total_19': 96.24}"
      ]
     },
     "execution_count": 110,
     "metadata": {},
     "output_type": "execute_result"
    }
   ],
   "source": [
    "# SAT 2017, 2018, 2019 Std Dev\n",
    "sat_merged_sd = {key: std_dev(item) for key, item in \\\n",
    "                 sat_merged.select_dtypes(include = ['float', 'int']).items()} \n",
    "sat_merged_sd"
   ]
  },
  {
   "cell_type": "code",
   "execution_count": 111,
   "id": "840ec0fa",
   "metadata": {
    "scrolled": true
   },
   "outputs": [
    {
     "data": {
      "text/plain": [
       "{'CDS': 14291006713628.92,\n",
       " 'enroll_12': 10053.134,\n",
       " 'sat_part': 3567.513,\n",
       " 'sat_rate_pass': 0.186,\n",
       " 'act_part': 1816.152,\n",
       " 'act_rate_over_20': 0.189,\n",
       " 'act_avg_read': 3.672,\n",
       " 'act_avg_eng': 4.044,\n",
       " 'act_avg_math': 3.379,\n",
       " 'act_avg_sci': 3.209,\n",
       " 'act_avg_score': 3.529}"
      ]
     },
     "execution_count": 111,
     "metadata": {},
     "output_type": "execute_result"
    }
   ],
   "source": [
    "# SAT ACT California 2019 Std Dev\n",
    "sat_act_19_ca_sd = {key: std_dev(item.dropna()) for key, item in \\\n",
    "                    sat_act_19_ca.select_dtypes(include = ['float', 'int']).items()} \n",
    "sat_act_19_ca_sd"
   ]
  },
  {
   "cell_type": "code",
   "execution_count": 112,
   "id": "4b57036e",
   "metadata": {},
   "outputs": [
    {
     "data": {
      "text/plain": [
       "{'num_applicants': 17426.639,\n",
       " 'accept_rate': 0.242,\n",
       " 'sat_q1': 126.121,\n",
       " 'sat_q3': 111.295,\n",
       " 'act_q1': 4.119,\n",
       " 'act_q3': 3.15,\n",
       " 'test_blind': 0.259,\n",
       " 'sat_q1_perc': 0.079,\n",
       " 'act_q1_perc': 0.115}"
      ]
     },
     "execution_count": 112,
     "metadata": {},
     "output_type": "execute_result"
    }
   ],
   "source": [
    "sat_act_coll_sd = {key: std_dev(item.dropna()) for key, item in \\\n",
    "                    sat_act_coll.select_dtypes(include = ['float', 'int']).items()} \n",
    "sat_act_coll_sd"
   ]
  },
  {
   "cell_type": "markdown",
   "id": "430421ab",
   "metadata": {},
   "source": [
    " - [X] Which states have the highest/lowest part rates for 2017, 2018, 2019 SAT / ACT?"
   ]
  },
  {
   "cell_type": "code",
   "execution_count": 113,
   "id": "ed946873",
   "metadata": {
    "scrolled": true
   },
   "outputs": [
    {
     "data": {
      "text/html": [
       "<div>\n",
       "<style scoped>\n",
       "    .dataframe tbody tr th:only-of-type {\n",
       "        vertical-align: middle;\n",
       "    }\n",
       "\n",
       "    .dataframe tbody tr th {\n",
       "        vertical-align: top;\n",
       "    }\n",
       "\n",
       "    .dataframe thead th {\n",
       "        text-align: right;\n",
       "    }\n",
       "</style>\n",
       "<table border=\"1\" class=\"dataframe\">\n",
       "  <thead>\n",
       "    <tr style=\"text-align: right;\">\n",
       "      <th></th>\n",
       "      <th>state</th>\n",
       "      <th>part_17</th>\n",
       "      <th>comp_17</th>\n",
       "    </tr>\n",
       "  </thead>\n",
       "  <tbody>\n",
       "    <tr>\n",
       "      <th>1</th>\n",
       "      <td>Alabama</td>\n",
       "      <td>1.0</td>\n",
       "      <td>19.2</td>\n",
       "    </tr>\n",
       "    <tr>\n",
       "      <th>18</th>\n",
       "      <td>Kentucky</td>\n",
       "      <td>1.0</td>\n",
       "      <td>20.0</td>\n",
       "    </tr>\n",
       "    <tr>\n",
       "      <th>50</th>\n",
       "      <td>Wisconsin</td>\n",
       "      <td>1.0</td>\n",
       "      <td>20.2</td>\n",
       "    </tr>\n",
       "    <tr>\n",
       "      <th>45</th>\n",
       "      <td>Utah</td>\n",
       "      <td>1.0</td>\n",
       "      <td>20.3</td>\n",
       "    </tr>\n",
       "    <tr>\n",
       "      <th>43</th>\n",
       "      <td>Tennessee</td>\n",
       "      <td>1.0</td>\n",
       "      <td>19.8</td>\n",
       "    </tr>\n",
       "  </tbody>\n",
       "</table>\n",
       "</div>"
      ],
      "text/plain": [
       "        state  part_17  comp_17\n",
       "1     Alabama      1.0     19.2\n",
       "18   Kentucky      1.0     20.0\n",
       "50  Wisconsin      1.0     20.2\n",
       "45       Utah      1.0     20.3\n",
       "43  Tennessee      1.0     19.8"
      ]
     },
     "execution_count": 113,
     "metadata": {},
     "output_type": "execute_result"
    }
   ],
   "source": [
    "act_17.sort_values(by=['part_17'], ascending=False).head()"
   ]
  },
  {
   "cell_type": "code",
   "execution_count": 114,
   "id": "4c403555",
   "metadata": {
    "scrolled": true
   },
   "outputs": [
    {
     "data": {
      "text/html": [
       "<div>\n",
       "<style scoped>\n",
       "    .dataframe tbody tr th:only-of-type {\n",
       "        vertical-align: middle;\n",
       "    }\n",
       "\n",
       "    .dataframe tbody tr th {\n",
       "        vertical-align: top;\n",
       "    }\n",
       "\n",
       "    .dataframe thead th {\n",
       "        text-align: right;\n",
       "    }\n",
       "</style>\n",
       "<table border=\"1\" class=\"dataframe\">\n",
       "  <thead>\n",
       "    <tr style=\"text-align: right;\">\n",
       "      <th></th>\n",
       "      <th>state</th>\n",
       "      <th>part_18</th>\n",
       "      <th>comp_18</th>\n",
       "    </tr>\n",
       "  </thead>\n",
       "  <tbody>\n",
       "    <tr>\n",
       "      <th>0</th>\n",
       "      <td>Alabama</td>\n",
       "      <td>1.0</td>\n",
       "      <td>19.1</td>\n",
       "    </tr>\n",
       "    <tr>\n",
       "      <th>17</th>\n",
       "      <td>Kentucky</td>\n",
       "      <td>1.0</td>\n",
       "      <td>20.2</td>\n",
       "    </tr>\n",
       "    <tr>\n",
       "      <th>49</th>\n",
       "      <td>Wisconsin</td>\n",
       "      <td>1.0</td>\n",
       "      <td>20.5</td>\n",
       "    </tr>\n",
       "    <tr>\n",
       "      <th>44</th>\n",
       "      <td>Utah</td>\n",
       "      <td>1.0</td>\n",
       "      <td>20.4</td>\n",
       "    </tr>\n",
       "    <tr>\n",
       "      <th>42</th>\n",
       "      <td>Tennessee</td>\n",
       "      <td>1.0</td>\n",
       "      <td>19.6</td>\n",
       "    </tr>\n",
       "  </tbody>\n",
       "</table>\n",
       "</div>"
      ],
      "text/plain": [
       "        state  part_18  comp_18\n",
       "0     Alabama      1.0     19.1\n",
       "17   Kentucky      1.0     20.2\n",
       "49  Wisconsin      1.0     20.5\n",
       "44       Utah      1.0     20.4\n",
       "42  Tennessee      1.0     19.6"
      ]
     },
     "execution_count": 114,
     "metadata": {},
     "output_type": "execute_result"
    }
   ],
   "source": [
    "act_18.sort_values(by=['part_18'], ascending=False).head()"
   ]
  },
  {
   "cell_type": "code",
   "execution_count": 115,
   "id": "fe898248",
   "metadata": {
    "scrolled": true
   },
   "outputs": [
    {
     "data": {
      "text/html": [
       "<div>\n",
       "<style scoped>\n",
       "    .dataframe tbody tr th:only-of-type {\n",
       "        vertical-align: middle;\n",
       "    }\n",
       "\n",
       "    .dataframe tbody tr th {\n",
       "        vertical-align: top;\n",
       "    }\n",
       "\n",
       "    .dataframe thead th {\n",
       "        text-align: right;\n",
       "    }\n",
       "</style>\n",
       "<table border=\"1\" class=\"dataframe\">\n",
       "  <thead>\n",
       "    <tr style=\"text-align: right;\">\n",
       "      <th></th>\n",
       "      <th>state</th>\n",
       "      <th>part_19</th>\n",
       "      <th>comp_19</th>\n",
       "    </tr>\n",
       "  </thead>\n",
       "  <tbody>\n",
       "    <tr>\n",
       "      <th>0</th>\n",
       "      <td>Alabama</td>\n",
       "      <td>1.0</td>\n",
       "      <td>18.9</td>\n",
       "    </tr>\n",
       "    <tr>\n",
       "      <th>17</th>\n",
       "      <td>Kentucky</td>\n",
       "      <td>1.0</td>\n",
       "      <td>19.8</td>\n",
       "    </tr>\n",
       "    <tr>\n",
       "      <th>49</th>\n",
       "      <td>Wisconsin</td>\n",
       "      <td>1.0</td>\n",
       "      <td>20.3</td>\n",
       "    </tr>\n",
       "    <tr>\n",
       "      <th>44</th>\n",
       "      <td>Utah</td>\n",
       "      <td>1.0</td>\n",
       "      <td>20.3</td>\n",
       "    </tr>\n",
       "    <tr>\n",
       "      <th>42</th>\n",
       "      <td>Tennessee</td>\n",
       "      <td>1.0</td>\n",
       "      <td>19.4</td>\n",
       "    </tr>\n",
       "  </tbody>\n",
       "</table>\n",
       "</div>"
      ],
      "text/plain": [
       "        state  part_19  comp_19\n",
       "0     Alabama      1.0     18.9\n",
       "17   Kentucky      1.0     19.8\n",
       "49  Wisconsin      1.0     20.3\n",
       "44       Utah      1.0     20.3\n",
       "42  Tennessee      1.0     19.4"
      ]
     },
     "execution_count": 115,
     "metadata": {},
     "output_type": "execute_result"
    }
   ],
   "source": [
    "act_19.sort_values(by=['part_19'], ascending=False).head()"
   ]
  },
  {
   "cell_type": "code",
   "execution_count": 116,
   "id": "ee95d806",
   "metadata": {
    "scrolled": true
   },
   "outputs": [
    {
     "data": {
      "text/html": [
       "<div>\n",
       "<style scoped>\n",
       "    .dataframe tbody tr th:only-of-type {\n",
       "        vertical-align: middle;\n",
       "    }\n",
       "\n",
       "    .dataframe tbody tr th {\n",
       "        vertical-align: top;\n",
       "    }\n",
       "\n",
       "    .dataframe thead th {\n",
       "        text-align: right;\n",
       "    }\n",
       "</style>\n",
       "<table border=\"1\" class=\"dataframe\">\n",
       "  <thead>\n",
       "    <tr style=\"text-align: right;\">\n",
       "      <th></th>\n",
       "      <th>state</th>\n",
       "      <th>part_17</th>\n",
       "      <th>EBRW_17</th>\n",
       "      <th>math_17</th>\n",
       "      <th>total_17</th>\n",
       "    </tr>\n",
       "  </thead>\n",
       "  <tbody>\n",
       "    <tr>\n",
       "      <th>8</th>\n",
       "      <td>District of Columbia</td>\n",
       "      <td>1.00</td>\n",
       "      <td>482</td>\n",
       "      <td>468</td>\n",
       "      <td>950</td>\n",
       "    </tr>\n",
       "    <tr>\n",
       "      <th>22</th>\n",
       "      <td>Michigan</td>\n",
       "      <td>1.00</td>\n",
       "      <td>509</td>\n",
       "      <td>495</td>\n",
       "      <td>1005</td>\n",
       "    </tr>\n",
       "    <tr>\n",
       "      <th>6</th>\n",
       "      <td>Connecticut</td>\n",
       "      <td>1.00</td>\n",
       "      <td>530</td>\n",
       "      <td>512</td>\n",
       "      <td>1041</td>\n",
       "    </tr>\n",
       "    <tr>\n",
       "      <th>7</th>\n",
       "      <td>Delaware</td>\n",
       "      <td>1.00</td>\n",
       "      <td>503</td>\n",
       "      <td>492</td>\n",
       "      <td>996</td>\n",
       "    </tr>\n",
       "    <tr>\n",
       "      <th>29</th>\n",
       "      <td>New Hampshire</td>\n",
       "      <td>0.96</td>\n",
       "      <td>532</td>\n",
       "      <td>520</td>\n",
       "      <td>1052</td>\n",
       "    </tr>\n",
       "  </tbody>\n",
       "</table>\n",
       "</div>"
      ],
      "text/plain": [
       "                   state  part_17  EBRW_17  math_17  total_17\n",
       "8   District of Columbia     1.00      482      468       950\n",
       "22              Michigan     1.00      509      495      1005\n",
       "6            Connecticut     1.00      530      512      1041\n",
       "7               Delaware     1.00      503      492       996\n",
       "29         New Hampshire     0.96      532      520      1052"
      ]
     },
     "execution_count": 116,
     "metadata": {},
     "output_type": "execute_result"
    }
   ],
   "source": [
    "sat_17.sort_values(by=['part_17'], ascending=False).head()"
   ]
  },
  {
   "cell_type": "code",
   "execution_count": 117,
   "id": "44408a69",
   "metadata": {
    "scrolled": true
   },
   "outputs": [
    {
     "data": {
      "text/html": [
       "<div>\n",
       "<style scoped>\n",
       "    .dataframe tbody tr th:only-of-type {\n",
       "        vertical-align: middle;\n",
       "    }\n",
       "\n",
       "    .dataframe tbody tr th {\n",
       "        vertical-align: top;\n",
       "    }\n",
       "\n",
       "    .dataframe thead th {\n",
       "        text-align: right;\n",
       "    }\n",
       "</style>\n",
       "<table border=\"1\" class=\"dataframe\">\n",
       "  <thead>\n",
       "    <tr style=\"text-align: right;\">\n",
       "      <th></th>\n",
       "      <th>state</th>\n",
       "      <th>part_18</th>\n",
       "      <th>EBRW_18</th>\n",
       "      <th>math_18</th>\n",
       "      <th>total_18</th>\n",
       "    </tr>\n",
       "  </thead>\n",
       "  <tbody>\n",
       "    <tr>\n",
       "      <th>5</th>\n",
       "      <td>Colorado</td>\n",
       "      <td>1.0</td>\n",
       "      <td>519</td>\n",
       "      <td>506</td>\n",
       "      <td>1025</td>\n",
       "    </tr>\n",
       "    <tr>\n",
       "      <th>6</th>\n",
       "      <td>Connecticut</td>\n",
       "      <td>1.0</td>\n",
       "      <td>535</td>\n",
       "      <td>519</td>\n",
       "      <td>1053</td>\n",
       "    </tr>\n",
       "    <tr>\n",
       "      <th>7</th>\n",
       "      <td>Delaware</td>\n",
       "      <td>1.0</td>\n",
       "      <td>505</td>\n",
       "      <td>492</td>\n",
       "      <td>998</td>\n",
       "    </tr>\n",
       "    <tr>\n",
       "      <th>22</th>\n",
       "      <td>Michigan</td>\n",
       "      <td>1.0</td>\n",
       "      <td>511</td>\n",
       "      <td>499</td>\n",
       "      <td>1011</td>\n",
       "    </tr>\n",
       "    <tr>\n",
       "      <th>12</th>\n",
       "      <td>Idaho</td>\n",
       "      <td>1.0</td>\n",
       "      <td>508</td>\n",
       "      <td>493</td>\n",
       "      <td>1001</td>\n",
       "    </tr>\n",
       "  </tbody>\n",
       "</table>\n",
       "</div>"
      ],
      "text/plain": [
       "          state  part_18  EBRW_18  math_18  total_18\n",
       "5      Colorado      1.0      519      506      1025\n",
       "6   Connecticut      1.0      535      519      1053\n",
       "7      Delaware      1.0      505      492       998\n",
       "22     Michigan      1.0      511      499      1011\n",
       "12        Idaho      1.0      508      493      1001"
      ]
     },
     "execution_count": 117,
     "metadata": {},
     "output_type": "execute_result"
    }
   ],
   "source": [
    "sat_18.sort_values(by=['part_18'], ascending=False).head()"
   ]
  },
  {
   "cell_type": "code",
   "execution_count": 118,
   "id": "bee9f882",
   "metadata": {
    "scrolled": false
   },
   "outputs": [
    {
     "data": {
      "text/html": [
       "<div>\n",
       "<style scoped>\n",
       "    .dataframe tbody tr th:only-of-type {\n",
       "        vertical-align: middle;\n",
       "    }\n",
       "\n",
       "    .dataframe tbody tr th {\n",
       "        vertical-align: top;\n",
       "    }\n",
       "\n",
       "    .dataframe thead th {\n",
       "        text-align: right;\n",
       "    }\n",
       "</style>\n",
       "<table border=\"1\" class=\"dataframe\">\n",
       "  <thead>\n",
       "    <tr style=\"text-align: right;\">\n",
       "      <th></th>\n",
       "      <th>state</th>\n",
       "      <th>part_19</th>\n",
       "      <th>EBRW_19</th>\n",
       "      <th>math_19</th>\n",
       "      <th>total_19</th>\n",
       "    </tr>\n",
       "  </thead>\n",
       "  <tbody>\n",
       "    <tr>\n",
       "      <th>39</th>\n",
       "      <td>Rhode Island</td>\n",
       "      <td>1.0</td>\n",
       "      <td>503</td>\n",
       "      <td>492</td>\n",
       "      <td>995</td>\n",
       "    </tr>\n",
       "    <tr>\n",
       "      <th>13</th>\n",
       "      <td>Illinois</td>\n",
       "      <td>1.0</td>\n",
       "      <td>509</td>\n",
       "      <td>504</td>\n",
       "      <td>1013</td>\n",
       "    </tr>\n",
       "    <tr>\n",
       "      <th>22</th>\n",
       "      <td>Michigan</td>\n",
       "      <td>1.0</td>\n",
       "      <td>507</td>\n",
       "      <td>496</td>\n",
       "      <td>1003</td>\n",
       "    </tr>\n",
       "    <tr>\n",
       "      <th>5</th>\n",
       "      <td>Colorado</td>\n",
       "      <td>1.0</td>\n",
       "      <td>518</td>\n",
       "      <td>506</td>\n",
       "      <td>1024</td>\n",
       "    </tr>\n",
       "    <tr>\n",
       "      <th>6</th>\n",
       "      <td>Connecticut</td>\n",
       "      <td>1.0</td>\n",
       "      <td>529</td>\n",
       "      <td>516</td>\n",
       "      <td>1046</td>\n",
       "    </tr>\n",
       "  </tbody>\n",
       "</table>\n",
       "</div>"
      ],
      "text/plain": [
       "           state  part_19  EBRW_19  math_19  total_19\n",
       "39  Rhode Island      1.0      503      492       995\n",
       "13      Illinois      1.0      509      504      1013\n",
       "22      Michigan      1.0      507      496      1003\n",
       "5       Colorado      1.0      518      506      1024\n",
       "6    Connecticut      1.0      529      516      1046"
      ]
     },
     "execution_count": 118,
     "metadata": {},
     "output_type": "execute_result"
    }
   ],
   "source": [
    "sat_19.sort_values(by=['part_19'], ascending=False).head()"
   ]
  },
  {
   "cell_type": "markdown",
   "id": "92d86df5",
   "metadata": {},
   "source": [
    "Lowest Participation for SAT and ACT each year"
   ]
  },
  {
   "cell_type": "code",
   "execution_count": 119,
   "id": "26c055f4",
   "metadata": {
    "scrolled": true
   },
   "outputs": [
    {
     "data": {
      "text/html": [
       "<div>\n",
       "<style scoped>\n",
       "    .dataframe tbody tr th:only-of-type {\n",
       "        vertical-align: middle;\n",
       "    }\n",
       "\n",
       "    .dataframe tbody tr th {\n",
       "        vertical-align: top;\n",
       "    }\n",
       "\n",
       "    .dataframe thead th {\n",
       "        text-align: right;\n",
       "    }\n",
       "</style>\n",
       "<table border=\"1\" class=\"dataframe\">\n",
       "  <thead>\n",
       "    <tr style=\"text-align: right;\">\n",
       "      <th></th>\n",
       "      <th>state</th>\n",
       "      <th>part_17</th>\n",
       "      <th>comp_17</th>\n",
       "    </tr>\n",
       "  </thead>\n",
       "  <tbody>\n",
       "    <tr>\n",
       "      <th>20</th>\n",
       "      <td>Maine</td>\n",
       "      <td>0.08</td>\n",
       "      <td>24.3</td>\n",
       "    </tr>\n",
       "    <tr>\n",
       "      <th>30</th>\n",
       "      <td>New Hampshire</td>\n",
       "      <td>0.18</td>\n",
       "      <td>25.5</td>\n",
       "    </tr>\n",
       "    <tr>\n",
       "      <th>8</th>\n",
       "      <td>Delaware</td>\n",
       "      <td>0.18</td>\n",
       "      <td>24.1</td>\n",
       "    </tr>\n",
       "    <tr>\n",
       "      <th>40</th>\n",
       "      <td>Rhode Island</td>\n",
       "      <td>0.21</td>\n",
       "      <td>24.0</td>\n",
       "    </tr>\n",
       "    <tr>\n",
       "      <th>39</th>\n",
       "      <td>Pennsylvania</td>\n",
       "      <td>0.23</td>\n",
       "      <td>23.7</td>\n",
       "    </tr>\n",
       "  </tbody>\n",
       "</table>\n",
       "</div>"
      ],
      "text/plain": [
       "            state  part_17  comp_17\n",
       "20          Maine     0.08     24.3\n",
       "30  New Hampshire     0.18     25.5\n",
       "8        Delaware     0.18     24.1\n",
       "40   Rhode Island     0.21     24.0\n",
       "39   Pennsylvania     0.23     23.7"
      ]
     },
     "execution_count": 119,
     "metadata": {},
     "output_type": "execute_result"
    }
   ],
   "source": [
    "act_17.sort_values(by=['part_17']).head()"
   ]
  },
  {
   "cell_type": "code",
   "execution_count": 120,
   "id": "fed32f45",
   "metadata": {
    "scrolled": true
   },
   "outputs": [
    {
     "data": {
      "text/html": [
       "<div>\n",
       "<style scoped>\n",
       "    .dataframe tbody tr th:only-of-type {\n",
       "        vertical-align: middle;\n",
       "    }\n",
       "\n",
       "    .dataframe tbody tr th {\n",
       "        vertical-align: top;\n",
       "    }\n",
       "\n",
       "    .dataframe thead th {\n",
       "        text-align: right;\n",
       "    }\n",
       "</style>\n",
       "<table border=\"1\" class=\"dataframe\">\n",
       "  <thead>\n",
       "    <tr style=\"text-align: right;\">\n",
       "      <th></th>\n",
       "      <th>state</th>\n",
       "      <th>part_18</th>\n",
       "      <th>comp_18</th>\n",
       "    </tr>\n",
       "  </thead>\n",
       "  <tbody>\n",
       "    <tr>\n",
       "      <th>19</th>\n",
       "      <td>Maine</td>\n",
       "      <td>0.07</td>\n",
       "      <td>24.0</td>\n",
       "    </tr>\n",
       "    <tr>\n",
       "      <th>39</th>\n",
       "      <td>Rhode Island</td>\n",
       "      <td>0.15</td>\n",
       "      <td>24.2</td>\n",
       "    </tr>\n",
       "    <tr>\n",
       "      <th>29</th>\n",
       "      <td>New Hampshire</td>\n",
       "      <td>0.16</td>\n",
       "      <td>25.1</td>\n",
       "    </tr>\n",
       "    <tr>\n",
       "      <th>7</th>\n",
       "      <td>Delaware</td>\n",
       "      <td>0.17</td>\n",
       "      <td>23.8</td>\n",
       "    </tr>\n",
       "    <tr>\n",
       "      <th>38</th>\n",
       "      <td>Pennsylvania</td>\n",
       "      <td>0.20</td>\n",
       "      <td>23.5</td>\n",
       "    </tr>\n",
       "  </tbody>\n",
       "</table>\n",
       "</div>"
      ],
      "text/plain": [
       "            state  part_18  comp_18\n",
       "19          Maine     0.07     24.0\n",
       "39   Rhode Island     0.15     24.2\n",
       "29  New Hampshire     0.16     25.1\n",
       "7        Delaware     0.17     23.8\n",
       "38   Pennsylvania     0.20     23.5"
      ]
     },
     "execution_count": 120,
     "metadata": {},
     "output_type": "execute_result"
    }
   ],
   "source": [
    "act_18.sort_values(by=['part_18']).head()"
   ]
  },
  {
   "cell_type": "code",
   "execution_count": 121,
   "id": "1c462739",
   "metadata": {},
   "outputs": [
    {
     "data": {
      "text/html": [
       "<div>\n",
       "<style scoped>\n",
       "    .dataframe tbody tr th:only-of-type {\n",
       "        vertical-align: middle;\n",
       "    }\n",
       "\n",
       "    .dataframe tbody tr th {\n",
       "        vertical-align: top;\n",
       "    }\n",
       "\n",
       "    .dataframe thead th {\n",
       "        text-align: right;\n",
       "    }\n",
       "</style>\n",
       "<table border=\"1\" class=\"dataframe\">\n",
       "  <thead>\n",
       "    <tr style=\"text-align: right;\">\n",
       "      <th></th>\n",
       "      <th>state</th>\n",
       "      <th>part_19</th>\n",
       "      <th>comp_19</th>\n",
       "    </tr>\n",
       "  </thead>\n",
       "  <tbody>\n",
       "    <tr>\n",
       "      <th>19</th>\n",
       "      <td>Maine</td>\n",
       "      <td>0.06</td>\n",
       "      <td>24.3</td>\n",
       "    </tr>\n",
       "    <tr>\n",
       "      <th>39</th>\n",
       "      <td>Rhode Island</td>\n",
       "      <td>0.12</td>\n",
       "      <td>24.7</td>\n",
       "    </tr>\n",
       "    <tr>\n",
       "      <th>7</th>\n",
       "      <td>Delaware</td>\n",
       "      <td>0.13</td>\n",
       "      <td>24.1</td>\n",
       "    </tr>\n",
       "    <tr>\n",
       "      <th>29</th>\n",
       "      <td>New Hampshire</td>\n",
       "      <td>0.14</td>\n",
       "      <td>25.0</td>\n",
       "    </tr>\n",
       "    <tr>\n",
       "      <th>38</th>\n",
       "      <td>Pennsylvania</td>\n",
       "      <td>0.17</td>\n",
       "      <td>23.6</td>\n",
       "    </tr>\n",
       "  </tbody>\n",
       "</table>\n",
       "</div>"
      ],
      "text/plain": [
       "            state  part_19  comp_19\n",
       "19          Maine     0.06     24.3\n",
       "39   Rhode Island     0.12     24.7\n",
       "7        Delaware     0.13     24.1\n",
       "29  New Hampshire     0.14     25.0\n",
       "38   Pennsylvania     0.17     23.6"
      ]
     },
     "execution_count": 121,
     "metadata": {},
     "output_type": "execute_result"
    }
   ],
   "source": [
    "act_19.sort_values(by=['part_19']).head()"
   ]
  },
  {
   "cell_type": "code",
   "execution_count": 122,
   "id": "eee24fda",
   "metadata": {
    "scrolled": true
   },
   "outputs": [
    {
     "data": {
      "text/html": [
       "<div>\n",
       "<style scoped>\n",
       "    .dataframe tbody tr th:only-of-type {\n",
       "        vertical-align: middle;\n",
       "    }\n",
       "\n",
       "    .dataframe tbody tr th {\n",
       "        vertical-align: top;\n",
       "    }\n",
       "\n",
       "    .dataframe thead th {\n",
       "        text-align: right;\n",
       "    }\n",
       "</style>\n",
       "<table border=\"1\" class=\"dataframe\">\n",
       "  <thead>\n",
       "    <tr style=\"text-align: right;\">\n",
       "      <th></th>\n",
       "      <th>state</th>\n",
       "      <th>part_17</th>\n",
       "      <th>EBRW_17</th>\n",
       "      <th>math_17</th>\n",
       "      <th>total_17</th>\n",
       "    </tr>\n",
       "  </thead>\n",
       "  <tbody>\n",
       "    <tr>\n",
       "      <th>34</th>\n",
       "      <td>North Dakota</td>\n",
       "      <td>0.02</td>\n",
       "      <td>635</td>\n",
       "      <td>621</td>\n",
       "      <td>1256</td>\n",
       "    </tr>\n",
       "    <tr>\n",
       "      <th>24</th>\n",
       "      <td>Mississippi</td>\n",
       "      <td>0.02</td>\n",
       "      <td>634</td>\n",
       "      <td>607</td>\n",
       "      <td>1242</td>\n",
       "    </tr>\n",
       "    <tr>\n",
       "      <th>15</th>\n",
       "      <td>Iowa</td>\n",
       "      <td>0.02</td>\n",
       "      <td>641</td>\n",
       "      <td>635</td>\n",
       "      <td>1275</td>\n",
       "    </tr>\n",
       "    <tr>\n",
       "      <th>25</th>\n",
       "      <td>Missouri</td>\n",
       "      <td>0.03</td>\n",
       "      <td>640</td>\n",
       "      <td>631</td>\n",
       "      <td>1271</td>\n",
       "    </tr>\n",
       "    <tr>\n",
       "      <th>44</th>\n",
       "      <td>Utah</td>\n",
       "      <td>0.03</td>\n",
       "      <td>624</td>\n",
       "      <td>614</td>\n",
       "      <td>1238</td>\n",
       "    </tr>\n",
       "  </tbody>\n",
       "</table>\n",
       "</div>"
      ],
      "text/plain": [
       "           state  part_17  EBRW_17  math_17  total_17\n",
       "34  North Dakota     0.02      635      621      1256\n",
       "24   Mississippi     0.02      634      607      1242\n",
       "15          Iowa     0.02      641      635      1275\n",
       "25      Missouri     0.03      640      631      1271\n",
       "44          Utah     0.03      624      614      1238"
      ]
     },
     "execution_count": 122,
     "metadata": {},
     "output_type": "execute_result"
    }
   ],
   "source": [
    "sat_17.sort_values(by=['part_17']).head()"
   ]
  },
  {
   "cell_type": "code",
   "execution_count": 123,
   "id": "97b23ead",
   "metadata": {},
   "outputs": [
    {
     "data": {
      "text/html": [
       "<div>\n",
       "<style scoped>\n",
       "    .dataframe tbody tr th:only-of-type {\n",
       "        vertical-align: middle;\n",
       "    }\n",
       "\n",
       "    .dataframe tbody tr th {\n",
       "        vertical-align: top;\n",
       "    }\n",
       "\n",
       "    .dataframe thead th {\n",
       "        text-align: right;\n",
       "    }\n",
       "</style>\n",
       "<table border=\"1\" class=\"dataframe\">\n",
       "  <thead>\n",
       "    <tr style=\"text-align: right;\">\n",
       "      <th></th>\n",
       "      <th>state</th>\n",
       "      <th>part_18</th>\n",
       "      <th>EBRW_18</th>\n",
       "      <th>math_18</th>\n",
       "      <th>total_18</th>\n",
       "    </tr>\n",
       "  </thead>\n",
       "  <tbody>\n",
       "    <tr>\n",
       "      <th>34</th>\n",
       "      <td>North Dakota</td>\n",
       "      <td>0.02</td>\n",
       "      <td>640</td>\n",
       "      <td>643</td>\n",
       "      <td>1283</td>\n",
       "    </tr>\n",
       "    <tr>\n",
       "      <th>50</th>\n",
       "      <td>Wyoming</td>\n",
       "      <td>0.03</td>\n",
       "      <td>633</td>\n",
       "      <td>625</td>\n",
       "      <td>1257</td>\n",
       "    </tr>\n",
       "    <tr>\n",
       "      <th>41</th>\n",
       "      <td>South Dakota</td>\n",
       "      <td>0.03</td>\n",
       "      <td>622</td>\n",
       "      <td>618</td>\n",
       "      <td>1240</td>\n",
       "    </tr>\n",
       "    <tr>\n",
       "      <th>27</th>\n",
       "      <td>Nebraska</td>\n",
       "      <td>0.03</td>\n",
       "      <td>629</td>\n",
       "      <td>623</td>\n",
       "      <td>1252</td>\n",
       "    </tr>\n",
       "    <tr>\n",
       "      <th>49</th>\n",
       "      <td>Wisconsin</td>\n",
       "      <td>0.03</td>\n",
       "      <td>641</td>\n",
       "      <td>653</td>\n",
       "      <td>1294</td>\n",
       "    </tr>\n",
       "  </tbody>\n",
       "</table>\n",
       "</div>"
      ],
      "text/plain": [
       "           state  part_18  EBRW_18  math_18  total_18\n",
       "34  North Dakota     0.02      640      643      1283\n",
       "50       Wyoming     0.03      633      625      1257\n",
       "41  South Dakota     0.03      622      618      1240\n",
       "27      Nebraska     0.03      629      623      1252\n",
       "49     Wisconsin     0.03      641      653      1294"
      ]
     },
     "execution_count": 123,
     "metadata": {},
     "output_type": "execute_result"
    }
   ],
   "source": [
    "sat_18.sort_values(by=['part_18']).head()"
   ]
  },
  {
   "cell_type": "code",
   "execution_count": 124,
   "id": "2d735774",
   "metadata": {},
   "outputs": [
    {
     "data": {
      "text/html": [
       "<div>\n",
       "<style scoped>\n",
       "    .dataframe tbody tr th:only-of-type {\n",
       "        vertical-align: middle;\n",
       "    }\n",
       "\n",
       "    .dataframe tbody tr th {\n",
       "        vertical-align: top;\n",
       "    }\n",
       "\n",
       "    .dataframe thead th {\n",
       "        text-align: right;\n",
       "    }\n",
       "</style>\n",
       "<table border=\"1\" class=\"dataframe\">\n",
       "  <thead>\n",
       "    <tr style=\"text-align: right;\">\n",
       "      <th></th>\n",
       "      <th>state</th>\n",
       "      <th>part_19</th>\n",
       "      <th>EBRW_19</th>\n",
       "      <th>math_19</th>\n",
       "      <th>total_19</th>\n",
       "    </tr>\n",
       "  </thead>\n",
       "  <tbody>\n",
       "    <tr>\n",
       "      <th>34</th>\n",
       "      <td>North Dakota</td>\n",
       "      <td>0.02</td>\n",
       "      <td>627</td>\n",
       "      <td>636</td>\n",
       "      <td>1263</td>\n",
       "    </tr>\n",
       "    <tr>\n",
       "      <th>50</th>\n",
       "      <td>Wyoming</td>\n",
       "      <td>0.03</td>\n",
       "      <td>623</td>\n",
       "      <td>615</td>\n",
       "      <td>1238</td>\n",
       "    </tr>\n",
       "    <tr>\n",
       "      <th>41</th>\n",
       "      <td>South Dakota</td>\n",
       "      <td>0.03</td>\n",
       "      <td>633</td>\n",
       "      <td>635</td>\n",
       "      <td>1268</td>\n",
       "    </tr>\n",
       "    <tr>\n",
       "      <th>27</th>\n",
       "      <td>Nebraska</td>\n",
       "      <td>0.03</td>\n",
       "      <td>628</td>\n",
       "      <td>631</td>\n",
       "      <td>1260</td>\n",
       "    </tr>\n",
       "    <tr>\n",
       "      <th>49</th>\n",
       "      <td>Wisconsin</td>\n",
       "      <td>0.03</td>\n",
       "      <td>635</td>\n",
       "      <td>648</td>\n",
       "      <td>1283</td>\n",
       "    </tr>\n",
       "  </tbody>\n",
       "</table>\n",
       "</div>"
      ],
      "text/plain": [
       "           state  part_19  EBRW_19  math_19  total_19\n",
       "34  North Dakota     0.02      627      636      1263\n",
       "50       Wyoming     0.03      623      615      1238\n",
       "41  South Dakota     0.03      633      635      1268\n",
       "27      Nebraska     0.03      628      631      1260\n",
       "49     Wisconsin     0.03      635      648      1283"
      ]
     },
     "execution_count": 124,
     "metadata": {},
     "output_type": "execute_result"
    }
   ],
   "source": [
    "sat_19.sort_values(by=['part_19']).head()"
   ]
  },
  {
   "cell_type": "markdown",
   "id": "faf14d8b",
   "metadata": {},
   "source": [
    "- [x] 100% Participation change year to year"
   ]
  },
  {
   "cell_type": "markdown",
   "id": "4d33994f",
   "metadata": {},
   "source": [
    "SAT required participation change year to year"
   ]
  },
  {
   "cell_type": "code",
   "execution_count": 125,
   "id": "dd9c03f8",
   "metadata": {
    "scrolled": false
   },
   "outputs": [
    {
     "data": {
      "text/html": [
       "<div>\n",
       "<style scoped>\n",
       "    .dataframe tbody tr th:only-of-type {\n",
       "        vertical-align: middle;\n",
       "    }\n",
       "\n",
       "    .dataframe tbody tr th {\n",
       "        vertical-align: top;\n",
       "    }\n",
       "\n",
       "    .dataframe thead th {\n",
       "        text-align: right;\n",
       "    }\n",
       "</style>\n",
       "<table border=\"1\" class=\"dataframe\">\n",
       "  <thead>\n",
       "    <tr style=\"text-align: right;\">\n",
       "      <th></th>\n",
       "      <th>2017</th>\n",
       "      <th>2018</th>\n",
       "      <th>2019</th>\n",
       "    </tr>\n",
       "  </thead>\n",
       "  <tbody>\n",
       "    <tr>\n",
       "      <th>5</th>\n",
       "      <td>NaN</td>\n",
       "      <td>Colorado</td>\n",
       "      <td>Colorado</td>\n",
       "    </tr>\n",
       "    <tr>\n",
       "      <th>6</th>\n",
       "      <td>Connecticut</td>\n",
       "      <td>Connecticut</td>\n",
       "      <td>Connecticut</td>\n",
       "    </tr>\n",
       "    <tr>\n",
       "      <th>7</th>\n",
       "      <td>Delaware</td>\n",
       "      <td>Delaware</td>\n",
       "      <td>Delaware</td>\n",
       "    </tr>\n",
       "    <tr>\n",
       "      <th>8</th>\n",
       "      <td>District of Columbia</td>\n",
       "      <td>NaN</td>\n",
       "      <td>NaN</td>\n",
       "    </tr>\n",
       "    <tr>\n",
       "      <th>9</th>\n",
       "      <td>NaN</td>\n",
       "      <td>NaN</td>\n",
       "      <td>Florida</td>\n",
       "    </tr>\n",
       "    <tr>\n",
       "      <th>12</th>\n",
       "      <td>NaN</td>\n",
       "      <td>Idaho</td>\n",
       "      <td>Idaho</td>\n",
       "    </tr>\n",
       "    <tr>\n",
       "      <th>13</th>\n",
       "      <td>NaN</td>\n",
       "      <td>NaN</td>\n",
       "      <td>Illinois</td>\n",
       "    </tr>\n",
       "    <tr>\n",
       "      <th>22</th>\n",
       "      <td>Michigan</td>\n",
       "      <td>Michigan</td>\n",
       "      <td>Michigan</td>\n",
       "    </tr>\n",
       "    <tr>\n",
       "      <th>39</th>\n",
       "      <td>NaN</td>\n",
       "      <td>NaN</td>\n",
       "      <td>Rhode Island</td>\n",
       "    </tr>\n",
       "  </tbody>\n",
       "</table>\n",
       "</div>"
      ],
      "text/plain": [
       "                    2017         2018          2019\n",
       "5                    NaN     Colorado      Colorado\n",
       "6            Connecticut  Connecticut   Connecticut\n",
       "7               Delaware     Delaware      Delaware\n",
       "8   District of Columbia          NaN           NaN\n",
       "9                    NaN          NaN       Florida\n",
       "12                   NaN        Idaho         Idaho\n",
       "13                   NaN          NaN      Illinois\n",
       "22              Michigan     Michigan      Michigan\n",
       "39                   NaN          NaN  Rhode Island"
      ]
     },
     "execution_count": 125,
     "metadata": {},
     "output_type": "execute_result"
    }
   ],
   "source": [
    "sat_17_req = pd.DataFrame(sat_17[sat_17.part_17 == 1]['state']).rename(columns={'state': '2017'})\n",
    "sat_18_req = pd.DataFrame(sat_18[sat_18.part_18 == 1]['state']).rename(columns={'state':'2018'})\n",
    "sat_19_req = pd.DataFrame(sat_19[sat_19.part_19 == 1]['state']).rename(columns={'state':'2019'})\n",
    "pd.concat([sat_17_req, sat_18_req, sat_19_req], axis=1)"
   ]
  },
  {
   "cell_type": "markdown",
   "id": "3a59a405",
   "metadata": {},
   "source": [
    "ACT required participation change year to year"
   ]
  },
  {
   "cell_type": "code",
   "execution_count": 126,
   "id": "7f712fdb",
   "metadata": {},
   "outputs": [
    {
     "data": {
      "text/html": [
       "<div>\n",
       "<style scoped>\n",
       "    .dataframe tbody tr th:only-of-type {\n",
       "        vertical-align: middle;\n",
       "    }\n",
       "\n",
       "    .dataframe tbody tr th {\n",
       "        vertical-align: top;\n",
       "    }\n",
       "\n",
       "    .dataframe thead th {\n",
       "        text-align: right;\n",
       "    }\n",
       "</style>\n",
       "<table border=\"1\" class=\"dataframe\">\n",
       "  <thead>\n",
       "    <tr style=\"text-align: right;\">\n",
       "      <th></th>\n",
       "      <th>2017</th>\n",
       "      <th>2018</th>\n",
       "      <th>2019</th>\n",
       "    </tr>\n",
       "  </thead>\n",
       "  <tbody>\n",
       "    <tr>\n",
       "      <th>0</th>\n",
       "      <td>NaN</td>\n",
       "      <td>Alabama</td>\n",
       "      <td>Alabama</td>\n",
       "    </tr>\n",
       "    <tr>\n",
       "      <th>1</th>\n",
       "      <td>Alabama</td>\n",
       "      <td>NaN</td>\n",
       "      <td>NaN</td>\n",
       "    </tr>\n",
       "    <tr>\n",
       "      <th>3</th>\n",
       "      <td>NaN</td>\n",
       "      <td>Arkansas</td>\n",
       "      <td>Arkansas</td>\n",
       "    </tr>\n",
       "    <tr>\n",
       "      <th>4</th>\n",
       "      <td>Arkansas</td>\n",
       "      <td>NaN</td>\n",
       "      <td>NaN</td>\n",
       "    </tr>\n",
       "    <tr>\n",
       "      <th>6</th>\n",
       "      <td>Colorado</td>\n",
       "      <td>NaN</td>\n",
       "      <td>NaN</td>\n",
       "    </tr>\n",
       "    <tr>\n",
       "      <th>17</th>\n",
       "      <td>NaN</td>\n",
       "      <td>Kentucky</td>\n",
       "      <td>Kentucky</td>\n",
       "    </tr>\n",
       "    <tr>\n",
       "      <th>18</th>\n",
       "      <td>Kentucky</td>\n",
       "      <td>Louisiana</td>\n",
       "      <td>Louisiana</td>\n",
       "    </tr>\n",
       "    <tr>\n",
       "      <th>19</th>\n",
       "      <td>Louisiana</td>\n",
       "      <td>NaN</td>\n",
       "      <td>NaN</td>\n",
       "    </tr>\n",
       "    <tr>\n",
       "      <th>24</th>\n",
       "      <td>Minnesota</td>\n",
       "      <td>Mississippi</td>\n",
       "      <td>Mississippi</td>\n",
       "    </tr>\n",
       "    <tr>\n",
       "      <th>25</th>\n",
       "      <td>Mississippi</td>\n",
       "      <td>Missouri</td>\n",
       "      <td>NaN</td>\n",
       "    </tr>\n",
       "    <tr>\n",
       "      <th>26</th>\n",
       "      <td>Missouri</td>\n",
       "      <td>Montana</td>\n",
       "      <td>Montana</td>\n",
       "    </tr>\n",
       "    <tr>\n",
       "      <th>27</th>\n",
       "      <td>Montana</td>\n",
       "      <td>Nebraska</td>\n",
       "      <td>Nebraska</td>\n",
       "    </tr>\n",
       "    <tr>\n",
       "      <th>28</th>\n",
       "      <td>NaN</td>\n",
       "      <td>Nevada</td>\n",
       "      <td>Nevada</td>\n",
       "    </tr>\n",
       "    <tr>\n",
       "      <th>29</th>\n",
       "      <td>Nevada</td>\n",
       "      <td>NaN</td>\n",
       "      <td>NaN</td>\n",
       "    </tr>\n",
       "    <tr>\n",
       "      <th>33</th>\n",
       "      <td>NaN</td>\n",
       "      <td>North Carolina</td>\n",
       "      <td>North Carolina</td>\n",
       "    </tr>\n",
       "    <tr>\n",
       "      <th>34</th>\n",
       "      <td>North Carolina</td>\n",
       "      <td>NaN</td>\n",
       "      <td>NaN</td>\n",
       "    </tr>\n",
       "    <tr>\n",
       "      <th>35</th>\n",
       "      <td>NaN</td>\n",
       "      <td>Ohio</td>\n",
       "      <td>Ohio</td>\n",
       "    </tr>\n",
       "    <tr>\n",
       "      <th>36</th>\n",
       "      <td>NaN</td>\n",
       "      <td>Oklahoma</td>\n",
       "      <td>Oklahoma</td>\n",
       "    </tr>\n",
       "    <tr>\n",
       "      <th>37</th>\n",
       "      <td>Oklahoma</td>\n",
       "      <td>NaN</td>\n",
       "      <td>NaN</td>\n",
       "    </tr>\n",
       "    <tr>\n",
       "      <th>40</th>\n",
       "      <td>NaN</td>\n",
       "      <td>South Carolina</td>\n",
       "      <td>NaN</td>\n",
       "    </tr>\n",
       "    <tr>\n",
       "      <th>41</th>\n",
       "      <td>South Carolina</td>\n",
       "      <td>NaN</td>\n",
       "      <td>NaN</td>\n",
       "    </tr>\n",
       "    <tr>\n",
       "      <th>42</th>\n",
       "      <td>NaN</td>\n",
       "      <td>Tennessee</td>\n",
       "      <td>Tennessee</td>\n",
       "    </tr>\n",
       "    <tr>\n",
       "      <th>43</th>\n",
       "      <td>Tennessee</td>\n",
       "      <td>NaN</td>\n",
       "      <td>NaN</td>\n",
       "    </tr>\n",
       "    <tr>\n",
       "      <th>44</th>\n",
       "      <td>NaN</td>\n",
       "      <td>Utah</td>\n",
       "      <td>Utah</td>\n",
       "    </tr>\n",
       "    <tr>\n",
       "      <th>45</th>\n",
       "      <td>Utah</td>\n",
       "      <td>NaN</td>\n",
       "      <td>NaN</td>\n",
       "    </tr>\n",
       "    <tr>\n",
       "      <th>49</th>\n",
       "      <td>NaN</td>\n",
       "      <td>Wisconsin</td>\n",
       "      <td>Wisconsin</td>\n",
       "    </tr>\n",
       "    <tr>\n",
       "      <th>50</th>\n",
       "      <td>Wisconsin</td>\n",
       "      <td>Wyoming</td>\n",
       "      <td>Wyoming</td>\n",
       "    </tr>\n",
       "    <tr>\n",
       "      <th>51</th>\n",
       "      <td>Wyoming</td>\n",
       "      <td>NaN</td>\n",
       "      <td>NaN</td>\n",
       "    </tr>\n",
       "  </tbody>\n",
       "</table>\n",
       "</div>"
      ],
      "text/plain": [
       "              2017            2018            2019\n",
       "0              NaN         Alabama         Alabama\n",
       "1          Alabama             NaN             NaN\n",
       "3              NaN        Arkansas        Arkansas\n",
       "4         Arkansas             NaN             NaN\n",
       "6         Colorado             NaN             NaN\n",
       "17             NaN        Kentucky        Kentucky\n",
       "18        Kentucky       Louisiana       Louisiana\n",
       "19       Louisiana             NaN             NaN\n",
       "24       Minnesota     Mississippi     Mississippi\n",
       "25     Mississippi        Missouri             NaN\n",
       "26        Missouri         Montana         Montana\n",
       "27         Montana        Nebraska        Nebraska\n",
       "28             NaN          Nevada          Nevada\n",
       "29          Nevada             NaN             NaN\n",
       "33             NaN  North Carolina  North Carolina\n",
       "34  North Carolina             NaN             NaN\n",
       "35             NaN            Ohio            Ohio\n",
       "36             NaN        Oklahoma        Oklahoma\n",
       "37        Oklahoma             NaN             NaN\n",
       "40             NaN  South Carolina             NaN\n",
       "41  South Carolina             NaN             NaN\n",
       "42             NaN       Tennessee       Tennessee\n",
       "43       Tennessee             NaN             NaN\n",
       "44             NaN            Utah            Utah\n",
       "45            Utah             NaN             NaN\n",
       "49             NaN       Wisconsin       Wisconsin\n",
       "50       Wisconsin         Wyoming         Wyoming\n",
       "51         Wyoming             NaN             NaN"
      ]
     },
     "execution_count": 126,
     "metadata": {},
     "output_type": "execute_result"
    }
   ],
   "source": [
    "act_17_req = pd.DataFrame(act_17[act_17.part_17 == 1]['state']).rename(columns={'state': '2017'})\n",
    "act_18_req = pd.DataFrame(act_18[act_18.part_18 == 1]['state']).rename(columns={'state':'2018'})\n",
    "act_19_req = pd.DataFrame(act_19[act_19.part_19 == 1]['state']).rename(columns={'state':'2019'})\n",
    "pd.concat([act_17_req, act_18_req, act_19_req], axis=1)"
   ]
  },
  {
   "cell_type": "markdown",
   "id": "94ee5527",
   "metadata": {},
   "source": [
    "- [x] States highest and lowest mean total/composite scores for each year SAT and ACT"
   ]
  },
  {
   "cell_type": "code",
   "execution_count": 127,
   "id": "5a4ac7d6",
   "metadata": {},
   "outputs": [
    {
     "data": {
      "text/html": [
       "<div>\n",
       "<style scoped>\n",
       "    .dataframe tbody tr th:only-of-type {\n",
       "        vertical-align: middle;\n",
       "    }\n",
       "\n",
       "    .dataframe tbody tr th {\n",
       "        vertical-align: top;\n",
       "    }\n",
       "\n",
       "    .dataframe thead th {\n",
       "        text-align: right;\n",
       "    }\n",
       "</style>\n",
       "<table border=\"1\" class=\"dataframe\">\n",
       "  <thead>\n",
       "    <tr style=\"text-align: right;\">\n",
       "      <th></th>\n",
       "      <th>state</th>\n",
       "      <th>comp_17</th>\n",
       "      <th>state</th>\n",
       "      <th>comp_18</th>\n",
       "      <th>state</th>\n",
       "      <th>comp_19</th>\n",
       "    </tr>\n",
       "  </thead>\n",
       "  <tbody>\n",
       "    <tr>\n",
       "      <th>28</th>\n",
       "      <td>NaN</td>\n",
       "      <td>NaN</td>\n",
       "      <td>Nevada</td>\n",
       "      <td>17.7</td>\n",
       "      <td>Nevada</td>\n",
       "      <td>17.9</td>\n",
       "    </tr>\n",
       "    <tr>\n",
       "      <th>29</th>\n",
       "      <td>Nevada</td>\n",
       "      <td>17.8</td>\n",
       "      <td>NaN</td>\n",
       "      <td>NaN</td>\n",
       "      <td>NaN</td>\n",
       "      <td>NaN</td>\n",
       "    </tr>\n",
       "  </tbody>\n",
       "</table>\n",
       "</div>"
      ],
      "text/plain": [
       "     state  comp_17   state  comp_18   state  comp_19\n",
       "28     NaN      NaN  Nevada     17.7  Nevada     17.9\n",
       "29  Nevada     17.8     NaN      NaN     NaN      NaN"
      ]
     },
     "execution_count": 127,
     "metadata": {},
     "output_type": "execute_result"
    }
   ],
   "source": [
    "pd.concat([act_17.sort_values(by=['comp_17'])[['state', 'comp_17']].head(1).rename(index={23: '2017'}), \n",
    "           act_18.sort_values(by=['comp_18'])[['state', 'comp_18']].head(1).rename(index={23: '2018'}), \n",
    "           act_19.sort_values(by=['comp_19'])[['state', 'comp_19']].head(1).rename(index={23: '2019'})\n",
    "          ], axis=1)"
   ]
  },
  {
   "cell_type": "code",
   "execution_count": 128,
   "id": "5f849108",
   "metadata": {},
   "outputs": [
    {
     "data": {
      "text/html": [
       "<div>\n",
       "<style scoped>\n",
       "    .dataframe tbody tr th:only-of-type {\n",
       "        vertical-align: middle;\n",
       "    }\n",
       "\n",
       "    .dataframe tbody tr th {\n",
       "        vertical-align: top;\n",
       "    }\n",
       "\n",
       "    .dataframe thead th {\n",
       "        text-align: right;\n",
       "    }\n",
       "</style>\n",
       "<table border=\"1\" class=\"dataframe\">\n",
       "  <thead>\n",
       "    <tr style=\"text-align: right;\">\n",
       "      <th></th>\n",
       "      <th>state</th>\n",
       "      <th>comp_17</th>\n",
       "      <th>state</th>\n",
       "      <th>comp_18</th>\n",
       "      <th>state</th>\n",
       "      <th>comp_19</th>\n",
       "    </tr>\n",
       "  </thead>\n",
       "  <tbody>\n",
       "    <tr>\n",
       "      <th>6</th>\n",
       "      <td>NaN</td>\n",
       "      <td>NaN</td>\n",
       "      <td>Connecticut</td>\n",
       "      <td>25.6</td>\n",
       "      <td>NaN</td>\n",
       "      <td>NaN</td>\n",
       "    </tr>\n",
       "    <tr>\n",
       "      <th>21</th>\n",
       "      <td>NaN</td>\n",
       "      <td>NaN</td>\n",
       "      <td>NaN</td>\n",
       "      <td>NaN</td>\n",
       "      <td>Massachusetts</td>\n",
       "      <td>25.5</td>\n",
       "    </tr>\n",
       "    <tr>\n",
       "      <th>30</th>\n",
       "      <td>New Hampshire</td>\n",
       "      <td>25.5</td>\n",
       "      <td>NaN</td>\n",
       "      <td>NaN</td>\n",
       "      <td>NaN</td>\n",
       "      <td>NaN</td>\n",
       "    </tr>\n",
       "  </tbody>\n",
       "</table>\n",
       "</div>"
      ],
      "text/plain": [
       "            state  comp_17        state  comp_18          state  comp_19\n",
       "6             NaN      NaN  Connecticut     25.6            NaN      NaN\n",
       "21            NaN      NaN          NaN      NaN  Massachusetts     25.5\n",
       "30  New Hampshire     25.5          NaN      NaN            NaN      NaN"
      ]
     },
     "execution_count": 128,
     "metadata": {},
     "output_type": "execute_result"
    }
   ],
   "source": [
    "pd.concat([act_17.sort_values(by=['comp_17'], ascending=False)[['state', 'comp_17']].head(1).rename(index={23: '2017'}), \n",
    "           act_18.sort_values(by=['comp_18'], ascending=False)[['state', 'comp_18']].head(1).rename(index={23: '2018'}), \n",
    "           act_19.sort_values(by=['comp_19'], ascending=False)[['state', 'comp_19']].head(1).rename(index={23: '2019'})\n",
    "          ], axis=1)"
   ]
  },
  {
   "cell_type": "code",
   "execution_count": 129,
   "id": "7381754a",
   "metadata": {},
   "outputs": [
    {
     "data": {
      "text/html": [
       "<div>\n",
       "<style scoped>\n",
       "    .dataframe tbody tr th:only-of-type {\n",
       "        vertical-align: middle;\n",
       "    }\n",
       "\n",
       "    .dataframe tbody tr th {\n",
       "        vertical-align: top;\n",
       "    }\n",
       "\n",
       "    .dataframe thead th {\n",
       "        text-align: right;\n",
       "    }\n",
       "</style>\n",
       "<table border=\"1\" class=\"dataframe\">\n",
       "  <thead>\n",
       "    <tr style=\"text-align: right;\">\n",
       "      <th></th>\n",
       "      <th>state</th>\n",
       "      <th>total_17</th>\n",
       "      <th>state</th>\n",
       "      <th>total_18</th>\n",
       "      <th>state</th>\n",
       "      <th>total_19</th>\n",
       "    </tr>\n",
       "  </thead>\n",
       "  <tbody>\n",
       "    <tr>\n",
       "      <th>2017</th>\n",
       "      <td>Minnesota</td>\n",
       "      <td>1295.0</td>\n",
       "      <td>NaN</td>\n",
       "      <td>NaN</td>\n",
       "      <td>NaN</td>\n",
       "      <td>NaN</td>\n",
       "    </tr>\n",
       "    <tr>\n",
       "      <th>2018</th>\n",
       "      <td>NaN</td>\n",
       "      <td>NaN</td>\n",
       "      <td>Minnesota</td>\n",
       "      <td>1298.0</td>\n",
       "      <td>NaN</td>\n",
       "      <td>NaN</td>\n",
       "    </tr>\n",
       "    <tr>\n",
       "      <th>2019</th>\n",
       "      <td>NaN</td>\n",
       "      <td>NaN</td>\n",
       "      <td>NaN</td>\n",
       "      <td>NaN</td>\n",
       "      <td>Minnesota</td>\n",
       "      <td>1284.0</td>\n",
       "    </tr>\n",
       "  </tbody>\n",
       "</table>\n",
       "</div>"
      ],
      "text/plain": [
       "          state  total_17      state  total_18      state  total_19\n",
       "2017  Minnesota    1295.0        NaN       NaN        NaN       NaN\n",
       "2018        NaN       NaN  Minnesota    1298.0        NaN       NaN\n",
       "2019        NaN       NaN        NaN       NaN  Minnesota    1284.0"
      ]
     },
     "execution_count": 129,
     "metadata": {},
     "output_type": "execute_result"
    }
   ],
   "source": [
    "pd.concat([sat_17.sort_values(by=['total_17'], ascending=False)[['state', 'total_17']].head(1).rename(index={23: '2017'}), \n",
    "           sat_18.sort_values(by=['total_18'], ascending=False)[['state', 'total_18']].head(1).rename(index={23: '2018'}), \n",
    "           sat_19.sort_values(by=['total_19'], ascending=False)[['state', 'total_19']].head(1).rename(index={23: '2019'})\n",
    "          ], axis=1)"
   ]
  },
  {
   "cell_type": "code",
   "execution_count": 130,
   "id": "db18dc78",
   "metadata": {
    "scrolled": true
   },
   "outputs": [
    {
     "data": {
      "text/html": [
       "<div>\n",
       "<style scoped>\n",
       "    .dataframe tbody tr th:only-of-type {\n",
       "        vertical-align: middle;\n",
       "    }\n",
       "\n",
       "    .dataframe tbody tr th {\n",
       "        vertical-align: top;\n",
       "    }\n",
       "\n",
       "    .dataframe thead th {\n",
       "        text-align: right;\n",
       "    }\n",
       "</style>\n",
       "<table border=\"1\" class=\"dataframe\">\n",
       "  <thead>\n",
       "    <tr style=\"text-align: right;\">\n",
       "      <th></th>\n",
       "      <th>state</th>\n",
       "      <th>total_17</th>\n",
       "      <th>state</th>\n",
       "      <th>total_18</th>\n",
       "      <th>state</th>\n",
       "      <th>total_19</th>\n",
       "    </tr>\n",
       "  </thead>\n",
       "  <tbody>\n",
       "    <tr>\n",
       "      <th>8</th>\n",
       "      <td>District of Columbia</td>\n",
       "      <td>950.0</td>\n",
       "      <td>District of Columbia</td>\n",
       "      <td>977.0</td>\n",
       "      <td>NaN</td>\n",
       "      <td>NaN</td>\n",
       "    </tr>\n",
       "    <tr>\n",
       "      <th>48</th>\n",
       "      <td>NaN</td>\n",
       "      <td>NaN</td>\n",
       "      <td>NaN</td>\n",
       "      <td>NaN</td>\n",
       "      <td>West Virginia</td>\n",
       "      <td>943.0</td>\n",
       "    </tr>\n",
       "  </tbody>\n",
       "</table>\n",
       "</div>"
      ],
      "text/plain": [
       "                   state  total_17                 state  total_18  \\\n",
       "8   District of Columbia     950.0  District of Columbia     977.0   \n",
       "48                   NaN       NaN                   NaN       NaN   \n",
       "\n",
       "            state  total_19  \n",
       "8             NaN       NaN  \n",
       "48  West Virginia     943.0  "
      ]
     },
     "execution_count": 130,
     "metadata": {},
     "output_type": "execute_result"
    }
   ],
   "source": [
    "pd.concat([sat_17.sort_values(by=['total_17'])[['state', 'total_17']].head(1).rename(index={23: '2017'}), \n",
    "           sat_18.sort_values(by=['total_18'])[['state', 'total_18']].head(1).rename(index={23: '2018'}), \n",
    "           sat_19.sort_values(by=['total_19'])[['state', 'total_19']].head(1).rename(index={23: '2019'})\n",
    "          ], axis=1)"
   ]
  },
  {
   "cell_type": "markdown",
   "id": "066ba663",
   "metadata": {},
   "source": [
    "- [ ] Creating ```req_change``` df to analyze change in test requirements over time "
   ]
  },
  {
   "cell_type": "code",
   "execution_count": 131,
   "id": "2972cfaa",
   "metadata": {
    "scrolled": true
   },
   "outputs": [],
   "source": [
    "req_change = pd.DataFrame({'ACT': [len(act_17_req), len(act_18_req), len(act_19_req)], \n",
    "                           'SAT': [len(sat_17_req), len(sat_18_req), len(sat_19_req)]}, index=[2017, 2018, 2019])"
   ]
  },
  {
   "cell_type": "markdown",
   "id": "5b29d511",
   "metadata": {},
   "source": [
    "- [x] States w/ >50% participation on *both* tests each year?"
   ]
  },
  {
   "cell_type": "code",
   "execution_count": 132,
   "id": "6c9096ae",
   "metadata": {},
   "outputs": [
    {
     "name": "stdout",
     "output_type": "stream",
     "text": [
      "Alabama\n",
      "Arizona\n",
      "Arkansas\n",
      "Florida\n",
      "Georgia\n",
      "Hawaii\n",
      "Iowa\n",
      "Kansas\n",
      "Kentucky\n",
      "Louisiana\n",
      "Minnesota\n",
      "Mississippi\n",
      "Missouri\n",
      "Montana\n",
      "Nebraska\n",
      "Nevada\n",
      "New Mexico\n",
      "North Carolina\n",
      "North Dakota\n",
      "Ohio\n",
      "Oklahoma\n",
      "South Carolina\n",
      "South Dakota\n",
      "Tennessee\n",
      "Utah\n",
      "West Virginia\n",
      "Wisconsin\n",
      "Wyoming\n"
     ]
    }
   ],
   "source": [
    "for i in range(len(act_17)):\n",
    "    if act_17.part_17.iloc[i] > 0.5 and act_18.part_18.iloc[i] > 0.5:\n",
    "        print(act_17.state.iloc[i])"
   ]
  },
  {
   "cell_type": "markdown",
   "id": "72b618d8",
   "metadata": {},
   "source": [
    "- [X] Which colleges have the highest median SAT and ACT scores for admittance?"
   ]
  },
  {
   "cell_type": "code",
   "execution_count": 133,
   "id": "9522b188",
   "metadata": {},
   "outputs": [],
   "source": [
    "# Creating SAT Median\n",
    "sat_act_coll['sat_q2'] = (sat_act_coll['sat_q3'] - sat_act_coll['sat_q1']) / 2 + sat_act_coll['sat_q1']"
   ]
  },
  {
   "cell_type": "code",
   "execution_count": 134,
   "id": "1179bdc0",
   "metadata": {
    "scrolled": false
   },
   "outputs": [
    {
     "data": {
      "text/html": [
       "<div>\n",
       "<style scoped>\n",
       "    .dataframe tbody tr th:only-of-type {\n",
       "        vertical-align: middle;\n",
       "    }\n",
       "\n",
       "    .dataframe tbody tr th {\n",
       "        vertical-align: top;\n",
       "    }\n",
       "\n",
       "    .dataframe thead th {\n",
       "        text-align: right;\n",
       "    }\n",
       "</style>\n",
       "<table border=\"1\" class=\"dataframe\">\n",
       "  <thead>\n",
       "    <tr style=\"text-align: right;\">\n",
       "      <th></th>\n",
       "      <th>school</th>\n",
       "      <th>optional</th>\n",
       "      <th>year_apply</th>\n",
       "      <th>policy</th>\n",
       "      <th>num_applicants</th>\n",
       "      <th>accept_rate</th>\n",
       "      <th>sat_q1</th>\n",
       "      <th>sat_q3</th>\n",
       "      <th>act_q1</th>\n",
       "      <th>act_q3</th>\n",
       "      <th>test_blind</th>\n",
       "      <th>accept_tiers</th>\n",
       "      <th>sat_q1_perc</th>\n",
       "      <th>act_q1_perc</th>\n",
       "      <th>sat_q2</th>\n",
       "    </tr>\n",
       "  </thead>\n",
       "  <tbody>\n",
       "    <tr>\n",
       "      <th>31</th>\n",
       "      <td>Harvey Mudd College</td>\n",
       "      <td>Yes</td>\n",
       "      <td>2021</td>\n",
       "      <td>Harvey Mudd has adopted a one-year test option...</td>\n",
       "      <td>4045</td>\n",
       "      <td>0.137</td>\n",
       "      <td>1490.0</td>\n",
       "      <td>1570.0</td>\n",
       "      <td>33.0</td>\n",
       "      <td>35.0</td>\n",
       "      <td>0</td>\n",
       "      <td>3</td>\n",
       "      <td>0.93</td>\n",
       "      <td>0.92</td>\n",
       "      <td>1530.0</td>\n",
       "    </tr>\n",
       "  </tbody>\n",
       "</table>\n",
       "</div>"
      ],
      "text/plain": [
       "                 school optional year_apply  \\\n",
       "31  Harvey Mudd College      Yes       2021   \n",
       "\n",
       "                                               policy  num_applicants  \\\n",
       "31  Harvey Mudd has adopted a one-year test option...            4045   \n",
       "\n",
       "    accept_rate  sat_q1  sat_q3  act_q1  act_q3  test_blind accept_tiers  \\\n",
       "31        0.137  1490.0  1570.0    33.0    35.0           0            3   \n",
       "\n",
       "    sat_q1_perc  act_q1_perc  sat_q2  \n",
       "31         0.93         0.92  1530.0  "
      ]
     },
     "execution_count": 134,
     "metadata": {},
     "output_type": "execute_result"
    }
   ],
   "source": [
    "sat_act_coll.sort_values(by='sat_q2', ascending=False).head(1)"
   ]
  },
  {
   "cell_type": "code",
   "execution_count": 135,
   "id": "087244ac",
   "metadata": {},
   "outputs": [],
   "source": [
    "# Creating ACT Median\n",
    "sat_act_coll['act_q2'] = (sat_act_coll['act_q3'] - sat_act_coll['act_q1']) / 2 + sat_act_coll['act_q1']"
   ]
  },
  {
   "cell_type": "code",
   "execution_count": 136,
   "id": "e3dada14",
   "metadata": {},
   "outputs": [
    {
     "data": {
      "text/html": [
       "<div>\n",
       "<style scoped>\n",
       "    .dataframe tbody tr th:only-of-type {\n",
       "        vertical-align: middle;\n",
       "    }\n",
       "\n",
       "    .dataframe tbody tr th {\n",
       "        vertical-align: top;\n",
       "    }\n",
       "\n",
       "    .dataframe thead th {\n",
       "        text-align: right;\n",
       "    }\n",
       "</style>\n",
       "<table border=\"1\" class=\"dataframe\">\n",
       "  <thead>\n",
       "    <tr style=\"text-align: right;\">\n",
       "      <th></th>\n",
       "      <th>school</th>\n",
       "      <th>optional</th>\n",
       "      <th>year_apply</th>\n",
       "      <th>policy</th>\n",
       "      <th>num_applicants</th>\n",
       "      <th>accept_rate</th>\n",
       "      <th>sat_q1</th>\n",
       "      <th>sat_q3</th>\n",
       "      <th>act_q1</th>\n",
       "      <th>act_q3</th>\n",
       "      <th>test_blind</th>\n",
       "      <th>accept_tiers</th>\n",
       "      <th>sat_q1_perc</th>\n",
       "      <th>act_q1_perc</th>\n",
       "      <th>sat_q2</th>\n",
       "      <th>act_q2</th>\n",
       "    </tr>\n",
       "  </thead>\n",
       "  <tbody>\n",
       "    <tr>\n",
       "      <th>5</th>\n",
       "      <td>California Institute of Technology</td>\n",
       "      <td>Yes (TB)</td>\n",
       "      <td>2021 2022</td>\n",
       "      <td>CalTech has adopted a two-year Test Blind poli...</td>\n",
       "      <td>8367</td>\n",
       "      <td>0.064</td>\n",
       "      <td>NaN</td>\n",
       "      <td>1560.0</td>\n",
       "      <td>35.0</td>\n",
       "      <td>36.0</td>\n",
       "      <td>1</td>\n",
       "      <td>2</td>\n",
       "      <td>NaN</td>\n",
       "      <td>0.97</td>\n",
       "      <td>NaN</td>\n",
       "      <td>35.5</td>\n",
       "    </tr>\n",
       "  </tbody>\n",
       "</table>\n",
       "</div>"
      ],
      "text/plain": [
       "                               school  optional year_apply  \\\n",
       "5  California Institute of Technology  Yes (TB)  2021 2022   \n",
       "\n",
       "                                              policy  num_applicants  \\\n",
       "5  CalTech has adopted a two-year Test Blind poli...            8367   \n",
       "\n",
       "   accept_rate  sat_q1  sat_q3  act_q1  act_q3  test_blind accept_tiers  \\\n",
       "5        0.064     NaN  1560.0    35.0    36.0           1            2   \n",
       "\n",
       "   sat_q1_perc  act_q1_perc  sat_q2  act_q2  \n",
       "5          NaN         0.97     NaN    35.5  "
      ]
     },
     "execution_count": 136,
     "metadata": {},
     "output_type": "execute_result"
    }
   ],
   "source": [
    "sat_act_coll.sort_values(by='act_q2', ascending=False).head(1)"
   ]
  },
  {
   "cell_type": "markdown",
   "id": "3ca28438",
   "metadata": {},
   "source": [
    "- [x] Which California school districts have the highest and lowest mean test scores?   "
   ]
  },
  {
   "cell_type": "code",
   "execution_count": 137,
   "id": "acc4137e",
   "metadata": {
    "scrolled": true
   },
   "outputs": [
    {
     "data": {
      "text/html": [
       "<div>\n",
       "<style scoped>\n",
       "    .dataframe tbody tr th:only-of-type {\n",
       "        vertical-align: middle;\n",
       "    }\n",
       "\n",
       "    .dataframe tbody tr th {\n",
       "        vertical-align: top;\n",
       "    }\n",
       "\n",
       "    .dataframe thead th {\n",
       "        text-align: right;\n",
       "    }\n",
       "</style>\n",
       "<table border=\"1\" class=\"dataframe\">\n",
       "  <thead>\n",
       "    <tr style=\"text-align: right;\">\n",
       "      <th></th>\n",
       "      <th>district</th>\n",
       "      <th>act_avg_score</th>\n",
       "    </tr>\n",
       "  </thead>\n",
       "  <tbody>\n",
       "    <tr>\n",
       "      <th>2542</th>\n",
       "      <td>Fremont Union High</td>\n",
       "      <td>30.25</td>\n",
       "    </tr>\n",
       "  </tbody>\n",
       "</table>\n",
       "</div>"
      ],
      "text/plain": [
       "                district  act_avg_score\n",
       "2542  Fremont Union High          30.25"
      ]
     },
     "execution_count": 137,
     "metadata": {},
     "output_type": "execute_result"
    }
   ],
   "source": [
    "sat_act_19_ca[sat_act_19_ca.record_type == 'D']\\\n",
    "    .sort_values(by=['act_avg_score'], ascending=False)[['district', 'act_avg_score']]\\\n",
    "    .head(1)"
   ]
  },
  {
   "cell_type": "code",
   "execution_count": 138,
   "id": "bca0d1d7",
   "metadata": {},
   "outputs": [
    {
     "data": {
      "text/html": [
       "<div>\n",
       "<style scoped>\n",
       "    .dataframe tbody tr th:only-of-type {\n",
       "        vertical-align: middle;\n",
       "    }\n",
       "\n",
       "    .dataframe tbody tr th {\n",
       "        vertical-align: top;\n",
       "    }\n",
       "\n",
       "    .dataframe thead th {\n",
       "        text-align: right;\n",
       "    }\n",
       "</style>\n",
       "<table border=\"1\" class=\"dataframe\">\n",
       "  <thead>\n",
       "    <tr style=\"text-align: right;\">\n",
       "      <th></th>\n",
       "      <th>district</th>\n",
       "      <th>act_avg_score</th>\n",
       "    </tr>\n",
       "  </thead>\n",
       "  <tbody>\n",
       "    <tr>\n",
       "      <th>2100</th>\n",
       "      <td>Golden Plains Unified</td>\n",
       "      <td>14.75</td>\n",
       "    </tr>\n",
       "  </tbody>\n",
       "</table>\n",
       "</div>"
      ],
      "text/plain": [
       "                   district  act_avg_score\n",
       "2100  Golden Plains Unified          14.75"
      ]
     },
     "execution_count": 138,
     "metadata": {},
     "output_type": "execute_result"
    }
   ],
   "source": [
    "sat_act_19_ca[sat_act_19_ca.record_type == 'D']\\\n",
    "    .sort_values(by=['act_avg_score'])[['district', 'act_avg_score']]\\\n",
    "    .head(1)"
   ]
  },
  {
   "cell_type": "markdown",
   "id": "53f8d4a0",
   "metadata": {},
   "source": [
    "---"
   ]
  },
  {
   "cell_type": "markdown",
   "id": "7729dad9",
   "metadata": {},
   "source": [
    "# Data Visualizations"
   ]
  },
  {
   "cell_type": "markdown",
   "id": "84d2d13e",
   "metadata": {},
   "source": [
    "1. [x] Heatmaps"
   ]
  },
  {
   "cell_type": "code",
   "execution_count": 139,
   "id": "6ec812e6",
   "metadata": {
    "scrolled": false
   },
   "outputs": [
    {
     "data": {
      "image/png": "[encoded data removed]",
      "text/plain": [
       "<Figure size 864x576 with 2 Axes>"
      ]
     },
     "metadata": {
      "needs_background": "light"
     },
     "output_type": "display_data"
    }
   ],
   "source": [
    "fix, ax = plt.subplots(1, 1, figsize=(12, 8))\n",
    "ax = sns.heatmap(sat_merged.corr());\n",
    "ax.set_title('SAT 2017, 2018, 2019 Correlations', \n",
    "             fontsize=14, \n",
    "             fontweight='bold', \n",
    "             color='firebrick', \n",
    "             loc='left');"
   ]
  },
  {
   "cell_type": "code",
   "execution_count": 140,
   "id": "7ed22cdd",
   "metadata": {},
   "outputs": [
    {
     "data": {
      "image/png": "[encoded data removed]",
      "text/plain": [
       "<Figure size 864x576 with 2 Axes>"
      ]
     },
     "metadata": {
      "needs_background": "light"
     },
     "output_type": "display_data"
    }
   ],
   "source": [
    "fix, ax = plt.subplots(1, 1, figsize=(12, 8))\n",
    "ax = sns.heatmap(sat_act_19_ca.corr());\n",
    "ax.set_title('SAT ACT 2019 California Correlations', \n",
    "             fontsize=14, \n",
    "             fontweight='bold', \n",
    "             color='firebrick', \n",
    "             loc='left');"
   ]
  },
  {
   "cell_type": "code",
   "execution_count": 157,
   "id": "7f71d6da",
   "metadata": {
    "scrolled": false
   },
   "outputs": [
    {
     "data": {
      "image/png": "[encoded data removed]",
      "text/plain": [
       "<Figure size 864x576 with 2 Axes>"
      ]
     },
     "metadata": {
      "needs_background": "light"
     },
     "output_type": "display_data"
    }
   ],
   "source": [
    "fix, ax = plt.subplots(1, 1, figsize=(12, 8))\n",
    "ax = sns.heatmap(sat_act_coll.corr());\n",
    "ax.set_title('College SAT and ACT Score Correlations', \n",
    "             fontsize=14, \n",
    "             fontweight='bold', \n",
    "             color='firebrick', \n",
    "             loc='left');"
   ]
  },
  {
   "cell_type": "markdown",
   "id": "6fea18a8",
   "metadata": {},
   "source": [
    "2. [x] Histogram Distributions "
   ]
  },
  {
   "cell_type": "code",
   "execution_count": 142,
   "id": "432b97be",
   "metadata": {
    "scrolled": false
   },
   "outputs": [
    {
     "data": {
      "text/plain": [
       "''"
      ]
     },
     "execution_count": 142,
     "metadata": {},
     "output_type": "execute_result"
    },
    {
     "data": {
      "image/png": "[encoded data removed]",
      "text/plain": [
       "<Figure size 1296x576 with 6 Axes>"
      ]
     },
     "metadata": {
      "needs_background": "light"
     },
     "output_type": "display_data"
    }
   ],
   "source": [
    "fix, ax = plt.subplots(2, 3, figsize=(18, 8))\n",
    "\n",
    "ax[0][0].hist(sat_merged.part_17, bins=10, color='green')\n",
    "ax[0][0].set_title('2017 Dist of SAT Participation Rates', \n",
    "                   fontsize=16, fontweight='bold', color='firebrick', loc='left')\n",
    "ax[0][0].set_xlabel('Participation Rate', fontsize=14)\n",
    "ax[0][0].set_ylabel('Number of States', fontsize=14)\n",
    "\n",
    "ax[0][1].hist(sat_merged.part_18, bins=10, color='green')\n",
    "ax[0][1].set_title('2018 Dist of SAT Participation Rates', \n",
    "                   fontsize=16, fontweight='bold', color='firebrick', loc='left')\n",
    "ax[0][1].set_xlabel('Participation Rate', fontsize=14)\n",
    "ax[0][1].set_ylabel('Number of States', fontsize=14)\n",
    "\n",
    "ax[0][2].hist(sat_merged.part_19, bins=10, color='green')\n",
    "ax[0][2].set_title('2019 Dist of SAT Participation Rates', \n",
    "                   fontsize=16, fontweight='bold', color='firebrick', loc='left')\n",
    "ax[0][2].set_xlabel('Participation Rate', fontsize=14)\n",
    "ax[0][2].set_ylabel('Number of States', fontsize=14)\n",
    "\n",
    "ax[1][0].hist(act_merged.part_17, bins=10, color='purple')\n",
    "ax[1][0].set_title('2017 Dist of ACT Participation Rates', \n",
    "                   fontsize=16, fontweight='bold', color='firebrick', loc='left')\n",
    "ax[1][0].set_xlabel('Participation Rate', fontsize=14)\n",
    "ax[1][0].set_ylabel('Number of States', fontsize=14)\n",
    "\n",
    "ax[1][1].hist(act_merged.part_18, bins=10, color='purple')\n",
    "ax[1][1].set_title('2018 Dist of ACT Participation Rates', \n",
    "                   fontsize=16, fontweight='bold', color='firebrick', loc='left')\n",
    "ax[1][1].set_xlabel('Participation Rate', fontsize=14)\n",
    "ax[1][1].set_ylabel('Number of States', fontsize=14)\n",
    "plt.tight_layout()\n",
    "\n",
    "ax[1][2].hist(act_merged.part_19, bins=10, color='purple')\n",
    "ax[1][2].set_title('2019 Dist of ACT Participation Rates', \n",
    "                   fontsize=16, fontweight='bold', color='firebrick', loc='left')\n",
    "ax[1][2].set_xlabel('Participation Rate', fontsize=14)\n",
    "ax[1][2].set_ylabel('Number of States', fontsize=14)\n",
    "plt.savefig('testimage.png')\n",
    "\n",
    ";\n",
    "\n",
    "# ax[1][0].set_ylim([0, 25])"
   ]
  },
  {
   "cell_type": "code",
   "execution_count": 143,
   "id": "bfe885ce",
   "metadata": {},
   "outputs": [
    {
     "data": {
      "text/plain": [
       "''"
      ]
     },
     "execution_count": 143,
     "metadata": {},
     "output_type": "execute_result"
    },
    {
     "data": {
      "image/png": "[encoded data removed]",
      "text/plain": [
       "<Figure size 1296x576 with 6 Axes>"
      ]
     },
     "metadata": {
      "needs_background": "light"
     },
     "output_type": "display_data"
    }
   ],
   "source": [
    "fix, ax = plt.subplots(2, 3, figsize=(18, 8))\n",
    "\n",
    "ax[0][0].hist(sat_merged.total_17, bins=10, color='green')\n",
    "ax[0][0].set_title('2017 Dist of SAT Total Scores', \n",
    "                   fontsize=16, fontweight='bold', color='firebrick', loc='left')\n",
    "ax[0][0].set_xlabel('Total Scores', fontsize=14)\n",
    "ax[0][0].set_ylabel('Number of States', fontsize=14)\n",
    "\n",
    "ax[0][1].hist(sat_merged.total_18, bins=10, color='green')\n",
    "ax[0][1].set_title('2018 Dist of SAT Total Scores', \n",
    "                   fontsize=16, fontweight='bold', color='firebrick', loc='left')\n",
    "ax[0][1].set_xlabel('Total Scores', fontsize=14)\n",
    "ax[0][1].set_ylabel('Number of States', fontsize=14)\n",
    "\n",
    "ax[0][2].hist(sat_merged.total_19, bins=10, color='green')\n",
    "ax[0][2].set_title('2019 Dist of SAT Total Scores', \n",
    "                   fontsize=16, fontweight='bold', color='firebrick', loc='left')\n",
    "ax[0][2].set_xlabel('Total Scores', fontsize=14)\n",
    "ax[0][2].set_ylabel('Number of States', fontsize=14)\n",
    "\n",
    "ax[1][0].hist(act_merged.comp_17, bins=10, color='purple')\n",
    "ax[1][0].set_title('2017 Dist of ACT Composite Score', \n",
    "                   fontsize=16, fontweight='bold', color='firebrick', loc='left')\n",
    "ax[1][0].set_xlabel('Composite Score', fontsize=14)\n",
    "ax[1][0].set_ylabel('Number of States', fontsize=14)\n",
    "\n",
    "ax[1][1].hist(act_merged.comp_18, bins=10, color='purple')\n",
    "ax[1][1].set_title('2018 Dist of ACT Composite Score', \n",
    "                   fontsize=16, fontweight='bold', color='firebrick', loc='left')\n",
    "ax[1][1].set_xlabel('Composite Score', fontsize=14)\n",
    "ax[1][1].set_ylabel('Number of States', fontsize=14)\n",
    "plt.tight_layout()\n",
    "\n",
    "ax[1][2].hist(act_merged.comp_19, bins=10, color='purple')\n",
    "ax[1][2].set_title('2019 Dist of ACT Composite Score', \n",
    "                   fontsize=16, fontweight='bold', color='firebrick', loc='left')\n",
    "ax[1][2].set_xlabel('Composite Score', fontsize=14)\n",
    "ax[1][2].set_ylabel('Number of States', fontsize=14)\n",
    "\n",
    "# plt.savefig('testimage.png')\n",
    "\n",
    ";\n",
    "\n",
    "# ax[1][0].set_ylim([0, 25])"
   ]
  },
  {
   "cell_type": "markdown",
   "id": "47875788",
   "metadata": {},
   "source": [
    "4. [x] Scatter Plots"
   ]
  },
  {
   "cell_type": "code",
   "execution_count": 144,
   "id": "2a3022a2",
   "metadata": {},
   "outputs": [
    {
     "data": {
      "image/png": "[encoded data removed]",
      "text/plain": [
       "<Figure size 1296x576 with 6 Axes>"
      ]
     },
     "metadata": {
      "needs_background": "light"
     },
     "output_type": "display_data"
    }
   ],
   "source": [
    "fix, ax = plt.subplots(2, 3, figsize=(18, 8))\n",
    "\n",
    "ax[0][0].scatter(sat_merged.part_17, sat_merged.total_17,\n",
    "                 color='green',\n",
    "                 alpha=0.25,\n",
    "                 s=75)\n",
    "ax[0][0].set_title('2017 SAT Participation Rate vs. Avg Total', \n",
    "                   fontsize=15, fontweight='bold', color='firebrick', loc='left')\n",
    "ax[0][0].set_xlabel('Participation Rate', fontsize=14)\n",
    "ax[0][0].set_ylabel('Avg Total Score', fontsize=14)\n",
    "\n",
    "ax[0][1].scatter(sat_merged.part_18, sat_merged.total_18,\n",
    "                 color='green',\n",
    "                 alpha=0.25,\n",
    "                 s=75)\n",
    "ax[0][1].set_title('2018 SAT Participation Rate vs. Avg Total', \n",
    "                   fontsize=15, fontweight='bold', color='firebrick', loc='left')\n",
    "ax[0][1].set_xlabel('Participation Rate', fontsize=14)\n",
    "ax[0][1].set_ylabel('Avg Total Score', fontsize=14)\n",
    "\n",
    "ax[0][2].scatter(sat_merged.part_19, sat_merged.total_19,\n",
    "                 color='green',\n",
    "                 alpha=0.25,\n",
    "                 s=75)\n",
    "ax[0][2].set_title('2019 SAT Participation Rate vs. Avg Total', \n",
    "                   fontsize=15, fontweight='bold', color='firebrick', loc='left')\n",
    "ax[0][2].set_xlabel('Participation Rate', fontsize=14)\n",
    "ax[0][2].set_ylabel('Avg Total Score', fontsize=14)\n",
    "\n",
    "ax[1][0].scatter(act_merged.part_17, act_merged.comp_17,\n",
    "                 color='purple',\n",
    "                 alpha=0.25,\n",
    "                 s=75)\n",
    "ax[1][0].set_title('2017 ACT Participation vs. Avg Composite', \n",
    "                   fontsize=15, fontweight='bold', color='firebrick', loc='left')\n",
    "ax[1][0].set_xlabel('Participation Rate', fontsize=14)\n",
    "ax[1][0].set_ylabel('Avg Composite Score', fontsize=14)\n",
    "\n",
    "ax[1][1].scatter(act_merged.part_18, act_merged.comp_18,\n",
    "                 color='purple',\n",
    "                 alpha=0.25,\n",
    "                 s=75)\n",
    "ax[1][1].set_title('2018 ACT Participation vs. Avg Composite', \n",
    "                   fontsize=15, fontweight='bold', color='firebrick', loc='left')\n",
    "ax[1][1].set_xlabel('Participation Rate', fontsize=14)\n",
    "ax[1][1].set_ylabel('Avg Composite Score', fontsize=14)\n",
    "\n",
    "ax[1][2].scatter(act_merged.part_19, act_merged.comp_19,\n",
    "                 color='purple',\n",
    "                 alpha=0.25,\n",
    "                 s=75)\n",
    "ax[1][2].set_title('2019 ACT Participation vs. Avg Composite', \n",
    "                   fontsize=15, fontweight='bold', color='firebrick', loc='left')\n",
    "ax[1][2].set_xlabel('Participation Rate', fontsize=14)\n",
    "ax[1][2].set_ylabel('Avg Composite Score', fontsize=14)\n",
    "\n",
    "plt.tight_layout();"
   ]
  },
  {
   "cell_type": "code",
   "execution_count": 145,
   "id": "db2b0cdc",
   "metadata": {},
   "outputs": [
    {
     "data": {
      "image/png": "[encoded data removed]",
      "text/plain": [
       "<Figure size 1152x720 with 4 Axes>"
      ]
     },
     "metadata": {
      "needs_background": "light"
     },
     "output_type": "display_data"
    }
   ],
   "source": [
    "fix, ax = plt.subplots(2, 2, figsize=(16, 10))\n",
    "\n",
    "ax[0][0].scatter(sat_act_coll.accept_rate, sat_act_coll.sat_q1,\n",
    "                 color='green',\n",
    "                 alpha=0.25,\n",
    "                 s=75)\n",
    "ax[0][0].set_title('College Accept Rate vs. SAT 25%', \n",
    "                   fontsize=15, fontweight='bold', color='firebrick', loc='left')\n",
    "ax[0][0].set_xlabel('Accept Rate', fontsize=14)\n",
    "ax[0][0].set_ylabel('SAT Total Score', fontsize=14)\n",
    "\n",
    "ax[0][1].scatter(sat_act_coll.accept_rate, sat_act_coll.act_q1,\n",
    "                 color='purple',\n",
    "                 alpha=0.25,\n",
    "                 s=75)\n",
    "ax[0][1].set_title('College Accept Rate vs. ACT 25%', \n",
    "                   fontsize=15, fontweight='bold', color='firebrick', loc='left')\n",
    "ax[0][1].set_xlabel('Accept Rate', fontsize=14)\n",
    "ax[0][1].set_ylabel('ACT Composite Score', fontsize=14)\n",
    "\n",
    "ax[1][0].scatter(sat_act_coll.accept_rate, sat_act_coll.sat_q3,\n",
    "                 color='green',\n",
    "                 alpha=0.25,\n",
    "                 s=75)\n",
    "ax[1][0].set_title('College Accept Rate vs. SAT 75%', \n",
    "                   fontsize=15, fontweight='bold', color='firebrick', loc='left')\n",
    "ax[1][0].set_xlabel('Accept Rate', fontsize=14)\n",
    "ax[1][0].set_ylabel('SAT Total Score', fontsize=14)\n",
    "\n",
    "ax[1][1].scatter(sat_act_coll.accept_rate, sat_act_coll.act_q3,\n",
    "                 color='purple',\n",
    "                 alpha=0.25,\n",
    "                 s=75)\n",
    "ax[1][1].set_title('College Accept Rate vs. ACT 75%', \n",
    "                   fontsize=15, fontweight='bold', color='firebrick', loc='left')\n",
    "ax[1][1].set_xlabel('Accept Rate', fontsize=14)\n",
    "ax[1][1].set_ylabel('SAT ACT Composite Score', fontsize=14)\n",
    "\n",
    "plt.tight_layout();"
   ]
  },
  {
   "cell_type": "markdown",
   "id": "cf90281a",
   "metadata": {},
   "source": [
    "5. [x] Additional Plots "
   ]
  },
  {
   "cell_type": "markdown",
   "id": "7892b4f9",
   "metadata": {},
   "source": [
    "**Requirement Change Year to Year**"
   ]
  },
  {
   "cell_type": "markdown",
   "id": "f66c2a76",
   "metadata": {},
   "source": [
    "- [ ] Creating ```req_change``` df to analyze change in test requirements over time "
   ]
  },
  {
   "cell_type": "code",
   "execution_count": 146,
   "id": "b3915d77",
   "metadata": {},
   "outputs": [],
   "source": [
    "req_change = pd.DataFrame({'ACT': [len(act_17_req), len(act_18_req), len(act_19_req)], \n",
    "                           'SAT': [len(sat_17_req), len(sat_18_req), len(sat_19_req)]}, index=[2017, 2018, 2019])"
   ]
  },
  {
   "cell_type": "code",
   "execution_count": 147,
   "id": "250fb579",
   "metadata": {},
   "outputs": [
    {
     "name": "stderr",
     "output_type": "stream",
     "text": [
      "/var/folders/6_/32r78n_d53x2nss5m1qjc1pc0000gn/T/ipykernel_5296/3676029223.py:4: UserWarning: FixedFormatter should only be used together with FixedLocator\n",
      "  ax.set_xticklabels([0])\n"
     ]
    },
    {
     "data": {
      "text/plain": [
       "''"
      ]
     },
     "execution_count": 147,
     "metadata": {},
     "output_type": "execute_result"
    },
    {
     "data": {
      "image/png": "[encoded data removed]",
      "text/plain": [
       "<Figure size 576x360 with 1 Axes>"
      ]
     },
     "metadata": {
      "needs_background": "light"
     },
     "output_type": "display_data"
    }
   ],
   "source": [
    "fig, ax = plt.subplots(figsize=(8, 5))\n",
    "ax.plot(req_change['ACT'], label='ACT')\n",
    "ax.plot(req_change['SAT'], label='SAT')\n",
    "ax.set_xticklabels([0])\n",
    "leg = ax.legend()\n",
    "ax.set_xlabel('2017, 2018, 2019')\n",
    "ax.set_ylabel('Number of Schools')\n",
    "ax.set_title('Change in States that Require SAT or ACT', \n",
    "             fontsize=15, fontweight='bold', color='firebrick', loc='left')\n",
    ";"
   ]
  },
  {
   "cell_type": "markdown",
   "id": "a21fcaae",
   "metadata": {},
   "source": [
    "**School Tiers Q1 SAT/ACT vs. National Average**"
   ]
  },
  {
   "cell_type": "code",
   "execution_count": 148,
   "id": "c49a69a0",
   "metadata": {
    "scrolled": false
   },
   "outputs": [
    {
     "data": {
      "text/plain": [
       "''"
      ]
     },
     "execution_count": 148,
     "metadata": {},
     "output_type": "execute_result"
    },
    {
     "data": {
      "image/png": "[encoded data removed]",
      "text/plain": [
       "<Figure size 720x576 with 1 Axes>"
      ]
     },
     "metadata": {
      "needs_background": "light"
     },
     "output_type": "display_data"
    }
   ],
   "source": [
    "ax = coll_tiers_nat_avg.plot(x='accept_tiers', y=['act_q1_diff', 'sat_q1_diff'], kind='bar', figsize=(10,8), \n",
    "                            color=['purple', 'green'])\n",
    "ax.set_title('College Q1 Acceptance Score vs National Average', \n",
    "             fontsize=15, fontweight='bold', color='firebrick', loc='left')\n",
    "ax.set_xlabel('College Tiers')\n",
    "ax.set_ylabel('College Difference from National Average')\n",
    ";"
   ]
  },
  {
   "cell_type": "markdown",
   "id": "b8de92d4",
   "metadata": {},
   "source": [
    "Average Q1 Scores for Each College Tier. These can be used as Target Scores for your students"
   ]
  },
  {
   "cell_type": "code",
   "execution_count": 158,
   "id": "d2fadf8f",
   "metadata": {},
   "outputs": [],
   "source": [
    "# coll_tiers_nat_avg.head()"
   ]
  },
  {
   "cell_type": "code",
   "execution_count": 150,
   "id": "94aacc9b",
   "metadata": {},
   "outputs": [
    {
     "data": {
      "text/plain": [
       "''"
      ]
     },
     "execution_count": 150,
     "metadata": {},
     "output_type": "execute_result"
    },
    {
     "data": {
      "image/png": "[encoded data removed]",
      "text/plain": [
       "<Figure size 720x576 with 1 Axes>"
      ]
     },
     "metadata": {
      "needs_background": "light"
     },
     "output_type": "display_data"
    }
   ],
   "source": [
    "ax = coll_tiers_nat_avg.plot(x='accept_tiers', y='act_q1', kind='bar', figsize=(10,8), color='purple')\n",
    "\n",
    "ax.set_title('Q1 ACT Score for Each College Tier',\n",
    "             fontsize=15, fontweight='bold', color='firebrick', loc='left')\n",
    "ax.set_xlabel('College Tiers')\n",
    "ax.set_ylabel('College ACT Q1 Score')\n",
    ";"
   ]
  },
  {
   "cell_type": "code",
   "execution_count": 151,
   "id": "f08f54a6",
   "metadata": {},
   "outputs": [
    {
     "data": {
      "text/plain": [
       "''"
      ]
     },
     "execution_count": 151,
     "metadata": {},
     "output_type": "execute_result"
    },
    {
     "data": {
      "image/png": "[encoded data removed]",
      "text/plain": [
       "<Figure size 720x576 with 1 Axes>"
      ]
     },
     "metadata": {
      "needs_background": "light"
     },
     "output_type": "display_data"
    }
   ],
   "source": [
    "ax = coll_tiers_nat_avg.plot(x='accept_tiers', y='sat_q1', kind='bar', figsize=(10,8), color='green')\n",
    "\n",
    "ax.set_title('Q1 SAT Score for Each College Tier',\n",
    "             fontsize=15, fontweight='bold', color='firebrick', loc='left')\n",
    "ax.set_xlabel('College Tiers')\n",
    "ax.set_ylabel('College SAT Q1 Score')\n",
    ";"
   ]
  },
  {
   "cell_type": "code",
   "execution_count": 159,
   "id": "8d17a322",
   "metadata": {
    "scrolled": true
   },
   "outputs": [],
   "source": [
    "# sat_act_19_ca.head()"
   ]
  },
  {
   "cell_type": "markdown",
   "id": "b7f36dc8",
   "metadata": {},
   "source": [
    "Which test is more popular"
   ]
  },
  {
   "cell_type": "code",
   "execution_count": 153,
   "id": "22468d80",
   "metadata": {},
   "outputs": [
    {
     "data": {
      "image/png": "[encoded data removed]",
      "text/plain": [
       "<Figure size 720x576 with 1 Axes>"
      ]
     },
     "metadata": {
      "needs_background": "light"
     },
     "output_type": "display_data"
    }
   ],
   "source": [
    "total_tests_taken = sat_act_19_ca.sat_part.sum() + sat_act_19_ca.act_part.sum()\n",
    "ax = pd.DataFrame({'perc_tests':[round(sat_act_19_ca.act_part.sum() / total_tests_taken, 2),\n",
    "                                 round(sat_act_19_ca.sat_part.sum() / total_tests_taken, 2)]}, \n",
    "                  index=['ACT', 'SAT']).plot(kind='bar', figsize=(10,8))\n",
    "ax.set_title('Percent of All Tests Taken (CA)', \n",
    "            fontsize=15, fontweight='bold', color='firebrick', loc='left')\n",
    "ax.set_xlabel('Test', size=16, weight='bold')\n",
    "ax.set_ylabel('Percent of All Tests', size=16, weight='bold');"
   ]
  },
  {
   "cell_type": "markdown",
   "id": "4af09f5a",
   "metadata": {},
   "source": [
    "Is there a difference in students' performance in math and english between the two tests? "
   ]
  },
  {
   "cell_type": "code",
   "execution_count": 154,
   "id": "4978d189",
   "metadata": {},
   "outputs": [
    {
     "data": {
      "image/png": "[encoded data removed]",
      "text/plain": [
       "<Figure size 432x288 with 1 Axes>"
      ]
     },
     "metadata": {
      "needs_background": "light"
     },
     "output_type": "display_data"
    }
   ],
   "source": [
    "plt.bar(np.arange(2) - 0.2, [round(sat_merged.math_17.mean()/800, 2), \n",
    "                            round(sat_merged.EBRW_17.mean()/800, 2)], \n",
    "        0.4, label = 'SAT')\n",
    "\n",
    "\n",
    "plt.bar(np.arange(2) + 0.2, [round(act_17_national_full['Math']/36, 2), \n",
    "                            round((act_17_national_full['English'] +  act_17_national_full['Reading']) / 2 / 36, 2)],\n",
    "        0.4, label = 'ACT')\n",
    "\n",
    "plt.xticks(np.arange(2), ['Math', 'Eglish'])\n",
    "plt.xlabel(\"Tests\")\n",
    "plt.ylabel(\"National Avg Score\")\n",
    "plt.title(\"National Avg Scores for Each Test (excluding Science)\",  \n",
    "            fontsize=12, fontweight='bold', color='firebrick', loc='left')\n",
    "plt.legend()\n",
    "plt.show()"
   ]
  }
 ],
 "metadata": {
  "kernelspec": {
   "display_name": "Python 3 (ipykernel)",
   "language": "python",
   "name": "python3"
  },
  "language_info": {
   "codemirror_mode": {
    "name": "ipython",
    "version": 3
   },
   "file_extension": ".py",
   "mimetype": "text/x-python",
   "name": "python",
   "nbconvert_exporter": "python",
   "pygments_lexer": "ipython3",
   "version": "3.9.7"
  }
 },
 "nbformat": 4,
 "nbformat_minor": 5
}
